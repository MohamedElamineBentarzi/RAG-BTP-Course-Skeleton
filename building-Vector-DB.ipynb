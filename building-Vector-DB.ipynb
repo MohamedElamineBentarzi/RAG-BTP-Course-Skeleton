{
 "cells": [
  {
   "cell_type": "code",
   "execution_count": null,
   "metadata": {},
   "outputs": [],
   "source": [
    "%pip install langchain"
   ]
  },
  {
   "cell_type": "code",
   "execution_count": null,
   "metadata": {},
   "outputs": [],
   "source": [
    "%pip install -U sentence-transformers\n",
    "%pip install -U transformers"
   ]
  },
  {
   "cell_type": "code",
   "execution_count": 10,
   "metadata": {},
   "outputs": [],
   "source": [
    "import os\n",
    "import pandas as pd\n",
    "import numpy as np\n",
    "import warnings\n",
    "import pprint\n",
    "warnings.filterwarnings(\"ignore\")"
   ]
  },
  {
   "cell_type": "code",
   "execution_count": 5,
   "metadata": {},
   "outputs": [
    {
     "name": "stdout",
     "output_type": "stream",
     "text": [
      "Absence de fixation du CET monobloc.md\n"
     ]
    }
   ],
   "source": [
    "folder_path = 'PDF_SCRAPPER/MARKDOWN_DATA'\n",
    "txt_files = [file for file in os.listdir(folder_path) if file.endswith('.md')][2:]\n",
    "print(txt_files[0])"
   ]
  },
  {
   "cell_type": "code",
   "execution_count": 55,
   "metadata": {},
   "outputs": [],
   "source": [
    "from langchain.text_splitter import RecursiveCharacterTextSplitter, Language\n",
    "\n",
    "length_function = len\n",
    "\n",
    "splitter = RecursiveCharacterTextSplitter.from_language(\n",
    "    Language.MARKDOWN,\n",
    "    chunk_size=1200, \n",
    "    chunk_overlap=300,\n",
    "    length_function=length_function,\n",
    ")\n"
   ]
  },
  {
   "cell_type": "code",
   "execution_count": null,
   "metadata": {},
   "outputs": [],
   "source": [
    "filepaths = [os.path.join(folder_path, file) for file in txt_files]\n",
    "\n",
    "chunked_data =[]\n",
    "\n",
    "for filepath in filepaths:\n",
    "        with open(filepath, 'r', encoding='utf-8') as f:\n",
    "                md_text = f.read()\n",
    "        if len(md_text) > 450:\n",
    "                 \n",
    "                splits = splitter.split_text(md_text)\n",
    "                for chunk in splits:\n",
    "                        chunked_data.append({\n",
    "                        \"file\": filepath.split('\\\\')[-1],  # or \"filepath\": filepath\n",
    "                        \"chunk\": chunk,\n",
    "                        })\n",
    "\n",
    "# Save the mapping as a CSV file using Pandas\n",
    "df = pd.DataFrame(chunked_data)\n",
    "df.to_csv(\"CHUNKS\\\\file_chunks.csv\", index=False, encoding=\"utf-8\")\n",
    "\n",
    "print(df.head())"
   ]
  },
  {
   "cell_type": "code",
   "execution_count": null,
   "metadata": {},
   "outputs": [
    {
     "data": {
      "text/plain": [
       "(11630, 2)"
      ]
     },
     "execution_count": 61,
     "metadata": {},
     "output_type": "execute_result"
    }
   ],
   "source": [
    "df = pd.read_csv(\"CHUNKS\\\\file_chunks.csv\")\n",
    "df.shape"
   ]
  }
 ],
 "metadata": {
  "kernelspec": {
   "display_name": "env",
   "language": "python",
   "name": "python3"
  },
  "language_info": {
   "codemirror_mode": {
    "name": "ipython",
    "version": 3
   },
   "file_extension": ".py",
   "mimetype": "text/x-python",
   "name": "python",
   "nbconvert_exporter": "python",
   "pygments_lexer": "ipython3",
   "version": "3.9.1"
  }
 },
 "nbformat": 4,
 "nbformat_minor": 2
}
