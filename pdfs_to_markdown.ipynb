{
 "cells": [
  {
   "cell_type": "code",
   "execution_count": null,
   "metadata": {},
   "outputs": [],
   "source": [
    "import os\n",
    "import json\n",
    "from marker.converters.pdf import PdfConverter\n",
    "from marker.models import create_model_dict\n",
    "from marker.output import text_from_rendered\n",
    "from tqdm import tqdm\n",
    "import configparser"
   ]
  },
  {
   "cell_type": "code",
   "execution_count": null,
   "metadata": {},
   "outputs": [],
   "source": [
    "config = configparser.ConfigParser()\n",
    "\n",
    "# Read the ini file\n",
    "config.read(\"config.ini\")\n",
    "\n",
    "# Access values\n",
    "metadata_path = config[\"paths\"][\"metadata\"]\n",
    "pdfs_path = config[\"paths\"][\"pdfs\"]\n",
    "markdowns_path = config[\"paths\"][\"markdowns\"]\n",
    "\n",
    "\n",
    "metadata_files = os.listdir(metadata_path)\n",
    "metadata = []\n",
    "\n",
    "# read json metadata files\n",
    "for file in tqdm(metadata_files):\n",
    "    with open(os.path.join(metadata_path, file), 'r') as f:\n",
    "        metadata.append(json.load(f))\n",
    "        \n"
   ]
  },
  {
   "cell_type": "code",
   "execution_count": null,
   "metadata": {},
   "outputs": [],
   "source": [
    "converter = PdfConverter(\n",
    "   artifact_dict=create_model_dict(),\n",
    ")"
   ]
  },
  {
   "cell_type": "code",
   "execution_count": 15,
   "metadata": {},
   "outputs": [
    {
     "data": {
      "text/plain": [
       "{'Titre': 'Absence de brises soleil et de stores',\n",
       " 'Texte': \"Des feuilles de papier sont collées sur le vitrage en guide de protection contre l'éblouissement.\",\n",
       " 'Images': ['https://www.dispositif-rexbp.com/sites/default/files/2023-11/D%C3%A9faut%20de%20protections%20solaires%20chaleur%20et%20%C3%A9blouissement.jpg'],\n",
       " 'Videos': [None],\n",
       " 'PDFs': ['https://www.dispositif-rexbp.com/sites/default/files/2023-11/Eblouissement%20et%20surchauffe_1.pdf'],\n",
       " 'Thématique': ['Éclairage et électricité spécifique'],\n",
       " 'Type_document': ['Photos commentées'],\n",
       " 'Lien': 'https://www.dispositif-rexbp.com/ressource/absence-de-brises-soleil-et-de-stores'}"
      ]
     },
     "execution_count": 15,
     "metadata": {},
     "output_type": "execute_result"
    }
   ],
   "source": [
    "metadata[0]"
   ]
  },
  {
   "cell_type": "code",
   "execution_count": 4,
   "metadata": {},
   "outputs": [],
   "source": [
    "def pdf_name_to_path(pdf_name):\n",
    "    return os.path.join(pdfs_path, f\"{pdf_name}.pdf\")\n",
    "\n",
    "def transform_pdf_to_markdown(converter,metadata):\n",
    "    \n",
    "    title = metadata[\"Titre\"]\n",
    "    pdf_path = pdf_name_to_path(title)   \n",
    "    output_file_path = os.path.join(markdowns_path, f\"{title}.md\")\n",
    "    images_output_path = os.path.join(markdowns_path, \"images\" , title)\n",
    "    if os.path.exists(output_file_path): \n",
    "        print(f\"markdown {output_file_path} already exists, skipping ... \")\n",
    "        return\n",
    "    if not os.path.exists(pdf_path): \n",
    "        print(f\"pdf {pdf_path} not found, skipping ... \")\n",
    "        return\n",
    "    \n",
    "    print(f\"converting {pdf_path} to markdown ...\")\n",
    "    rendered = converter(pdf_path)\n",
    "    \n",
    "\n",
    "    text, ext, images = text_from_rendered(rendered)\n",
    "\n",
    "    #transform the refrences of the images inside the text to the new path\n",
    "    for img in images:\n",
    "        text = text.replace(img,f\"<images/{title}/{os.path.basename(img)}>\")\n",
    "    \n",
    "    with open(output_file_path, 'w') as f:\n",
    "        f.write(text)\n",
    "    \n",
    "    # save the images\n",
    "    if not os.path.exists(images_output_path):\n",
    "        os.makedirs(images_output_path)\n",
    "    for img in images:\n",
    "        img_path = os.path.join(images_output_path,os.path.basename(img))\n",
    "        try :\n",
    "            images[img].save(img_path)\n",
    "        except:\n",
    "            print(f\"error saving {img_path}\")\n",
    "            continue\n",
    "\n",
    "        \n"
   ]
  },
  {
   "cell_type": "code",
   "execution_count": null,
   "metadata": {},
   "outputs": [],
   "source": [
    "for m in tqdm(metadata):\n",
    "    transform_pdf_to_markdown(converter,m)"
   ]
  }
 ],
 "metadata": {
  "kernelspec": {
   "display_name": "ds_env",
   "language": "python",
   "name": "python3"
  },
  "language_info": {
   "codemirror_mode": {
    "name": "ipython",
    "version": 3
   },
   "file_extension": ".py",
   "mimetype": "text/x-python",
   "name": "python",
   "nbconvert_exporter": "python",
   "pygments_lexer": "ipython3",
   "version": "3.10.16"
  }
 },
 "nbformat": 4,
 "nbformat_minor": 2
}
