{
 "cells": [
  {
   "cell_type": "code",
   "execution_count": 1,
   "metadata": {},
   "outputs": [],
   "source": [
    "import os\n",
    "import json\n",
    "from marker.converters.pdf import PdfConverter\n",
    "from marker.models import create_model_dict\n",
    "from marker.output import text_from_rendered\n",
    "from tqdm import tqdm\n",
    "import configparser\n",
    "\n",
    "\n",
    "\n"
   ]
  },
  {
   "cell_type": "code",
   "execution_count": 2,
   "metadata": {},
   "outputs": [
    {
     "name": "stderr",
     "output_type": "stream",
     "text": [
      "100%|██████████| 773/773 [00:00<00:00, 3177.29it/s]\n"
     ]
    }
   ],
   "source": [
    "config = configparser.ConfigParser()\n",
    "\n",
    "# Read the ini file\n",
    "config.read(\"config.ini\")\n",
    "\n",
    "# Access values\n",
    "metadata_path = config[\"paths\"][\"metadata\"]\n",
    "pdfs_path = config[\"paths\"][\"pdfs\"]\n",
    "markdowns_path = config[\"paths\"][\"markdowns\"]\n",
    "\n",
    "\n",
    "metadata_files = os.listdir(metadata_path)\n",
    "metadata = []\n",
    "\n",
    "# read json metadata files\n",
    "for file in tqdm(metadata_files):\n",
    "    with open(os.path.join(metadata_path, file), 'r') as f:\n",
    "        metadata.append(json.load(f))\n",
    "        \n"
   ]
  },
  {
   "cell_type": "code",
   "execution_count": 3,
   "metadata": {},
   "outputs": [
    {
     "name": "stdout",
     "output_type": "stream",
     "text": [
      "Loaded layout model datalab-to/surya_layout on device cuda with dtype torch.float16\n",
      "Loaded texify model to cuda with torch.float16 dtype\n",
      "Loaded recognition model vikp/surya_rec2 on device cuda with dtype torch.float16\n",
      "Loaded table recognition model datalab-to/surya_tablerec on device cuda with dtype torch.float16\n",
      "Loaded detection model vikp/surya_det3 on device cuda with dtype torch.float16\n"
     ]
    }
   ],
   "source": [
    "\n",
    "converter = PdfConverter(\n",
    "    \n",
    "    artifact_dict=create_model_dict(),\n",
    ")"
   ]
  },
  {
   "cell_type": "code",
   "execution_count": 15,
   "metadata": {},
   "outputs": [
    {
     "data": {
      "text/plain": [
       "{'Titre': 'Absence de brises soleil et de stores',\n",
       " 'Texte': \"Des feuilles de papier sont collées sur le vitrage en guide de protection contre l'éblouissement.\",\n",
       " 'Images': ['https://www.dispositif-rexbp.com/sites/default/files/2023-11/D%C3%A9faut%20de%20protections%20solaires%20chaleur%20et%20%C3%A9blouissement.jpg'],\n",
       " 'Videos': [None],\n",
       " 'PDFs': ['https://www.dispositif-rexbp.com/sites/default/files/2023-11/Eblouissement%20et%20surchauffe_1.pdf'],\n",
       " 'Thématique': ['Éclairage et électricité spécifique'],\n",
       " 'Type_document': ['Photos commentées'],\n",
       " 'Lien': 'https://www.dispositif-rexbp.com/ressource/absence-de-brises-soleil-et-de-stores'}"
      ]
     },
     "execution_count": 15,
     "metadata": {},
     "output_type": "execute_result"
    }
   ],
   "source": [
    "metadata[0]"
   ]
  },
  {
   "cell_type": "code",
   "execution_count": 4,
   "metadata": {},
   "outputs": [],
   "source": [
    "def pdf_name_to_path(pdf_name):\n",
    "    return os.path.join(pdfs_path, f\"{pdf_name}.pdf\")\n",
    "\n",
    "def transform_pdf_to_markdown(converter,metadata):\n",
    "    \n",
    "    title = metadata[\"Titre\"]\n",
    "    pdf_path = pdf_name_to_path(title)   \n",
    "    output_file_path = os.path.join(markdowns_path, f\"{title}.md\")\n",
    "    images_output_path = os.path.join(markdowns_path, \"images\" , title)\n",
    "    if os.path.exists(output_file_path): \n",
    "        print(f\"markdown {output_file_path} already exists, skipping ... \")\n",
    "        return\n",
    "    if not os.path.exists(pdf_path): \n",
    "        print(f\"pdf {pdf_path} not found, skipping ... \")\n",
    "        return\n",
    "    \n",
    "    print(f\"converting {pdf_path} to markdown ...\")\n",
    "    rendered = converter(pdf_path)\n",
    "    \n",
    "\n",
    "    text, ext, images = text_from_rendered(rendered)\n",
    "\n",
    "    #transform the refrences of the images inside the text to the new path\n",
    "    for img in images:\n",
    "        text = text.replace(img,f\"<images/{title}/{os.path.basename(img)}>\")\n",
    "    \n",
    "    with open(output_file_path, 'w') as f:\n",
    "        f.write(text)\n",
    "    \n",
    "    # save the images\n",
    "    if not os.path.exists(images_output_path):\n",
    "        os.makedirs(images_output_path)\n",
    "    for img in images:\n",
    "        img_path = os.path.join(images_output_path,os.path.basename(img))\n",
    "        try :\n",
    "            images[img].save(img_path)\n",
    "        except:\n",
    "            print(f\"error saving {img_path}\")\n",
    "            continue\n",
    "\n",
    "        \n"
   ]
  },
  {
   "cell_type": "code",
   "execution_count": 5,
   "metadata": {},
   "outputs": [
    {
     "name": "stderr",
     "output_type": "stream",
     "text": [
      "  0%|          | 0/773 [00:00<?, ?it/s]"
     ]
    },
    {
     "name": "stdout",
     "output_type": "stream",
     "text": [
      "markdown D:\\upec\\IA2S\\PDF_SCRAPPER\\MARKDOWN_DATA\\Absence de brises soleil et de stores.md already exists, skipping ... \n",
      "markdown D:\\upec\\IA2S\\PDF_SCRAPPER\\MARKDOWN_DATA\\Absence de développement de la végétation.md already exists, skipping ... \n",
      "markdown D:\\upec\\IA2S\\PDF_SCRAPPER\\MARKDOWN_DATA\\Absence de fixation du CET monobloc.md already exists, skipping ... \n",
      "markdown D:\\upec\\IA2S\\PDF_SCRAPPER\\MARKDOWN_DATA\\Absence vase expansion.md already exists, skipping ... \n",
      "markdown D:\\upec\\IA2S\\PDF_SCRAPPER\\MARKDOWN_DATA\\Accès difficile voire impossible pour l'entretien..md already exists, skipping ... \n",
      "markdown D:\\upec\\IA2S\\PDF_SCRAPPER\\MARKDOWN_DATA\\Agir sur la production d'eau chaude sanitaire.md already exists, skipping ... \n",
      "markdown D:\\upec\\IA2S\\PDF_SCRAPPER\\MARKDOWN_DATA\\Agir sur la production d'électricité.md already exists, skipping ... \n",
      "markdown D:\\upec\\IA2S\\PDF_SCRAPPER\\MARKDOWN_DATA\\Agir sur la production de chauffage-refroidissement.md already exists, skipping ... \n",
      "markdown D:\\upec\\IA2S\\PDF_SCRAPPER\\MARKDOWN_DATA\\Agir sur les autres équipements immobiliers.md already exists, skipping ... \n",
      "markdown D:\\upec\\IA2S\\PDF_SCRAPPER\\MARKDOWN_DATA\\Ambiance lumineuse -12 enseignements à connaître.md already exists, skipping ... \n",
      "markdown D:\\upec\\IA2S\\PDF_SCRAPPER\\MARKDOWN_DATA\\Amélioration de la performance thermique du bâti ancien - 12 enseignements à connaître.md already exists, skipping ... \n",
      "markdown D:\\upec\\IA2S\\PDF_SCRAPPER\\MARKDOWN_DATA\\Appareil de chauffage divisé à bûches - Amenée d'air comburant - 16.md already exists, skipping ... \n",
      "markdown D:\\upec\\IA2S\\PDF_SCRAPPER\\MARKDOWN_DATA\\Appareil de chauffage divisé à bûches - Amenée d'air comburant - 17.md already exists, skipping ... \n",
      "markdown D:\\upec\\IA2S\\PDF_SCRAPPER\\MARKDOWN_DATA\\Appareil de chauffage divisé à bûches - Amenée d'air comburant - 18.md already exists, skipping ... \n",
      "markdown D:\\upec\\IA2S\\PDF_SCRAPPER\\MARKDOWN_DATA\\Appareil de chauffage divisé à bûches - Amenée d'air comburant - 19.md already exists, skipping ... \n",
      "markdown D:\\upec\\IA2S\\PDF_SCRAPPER\\MARKDOWN_DATA\\Appareil de chauffage divisé à bûches - Amenée d'air comburant - 20.md already exists, skipping ... \n",
      "markdown D:\\upec\\IA2S\\PDF_SCRAPPER\\MARKDOWN_DATA\\Appareil de chauffage divisé à bûches - Appareil à bouilleur - 4.md already exists, skipping ... \n",
      "markdown D:\\upec\\IA2S\\PDF_SCRAPPER\\MARKDOWN_DATA\\Appareil de chauffage divisé à bûches - Appareil à bûches à amenée d’air indirecte - 5.md already exists, skipping ... \n",
      "markdown D:\\upec\\IA2S\\PDF_SCRAPPER\\MARKDOWN_DATA\\Appareil de chauffage divisé à bûches - Appareil à bûches à raccordement direct - 6.md already exists, skipping ... \n",
      "markdown D:\\upec\\IA2S\\PDF_SCRAPPER\\MARKDOWN_DATA\\Appareil de chauffage divisé à bûches - Cuisinière à bûches - 3.md already exists, skipping ... \n",
      "markdown D:\\upec\\IA2S\\PDF_SCRAPPER\\MARKDOWN_DATA\\Appareil de chauffage divisé à bûches - Départ et support du conduit de fumée - 25.md already exists, skipping ... \n",
      "markdown D:\\upec\\IA2S\\PDF_SCRAPPER\\MARKDOWN_DATA\\Appareil de chauffage divisé à bûches - Départ et support du conduit de fumée - 26.md already exists, skipping ... \n",
      "markdown D:\\upec\\IA2S\\PDF_SCRAPPER\\MARKDOWN_DATA\\Appareil de chauffage divisé à bûches - Eléments de sécurité de l’appareil à bouilleur - 21.md already exists, skipping ... \n",
      "markdown D:\\upec\\IA2S\\PDF_SCRAPPER\\MARKDOWN_DATA\\Appareil de chauffage divisé à bûches - Eléments de sécurité de l’appareil à bouilleur - 22.md already exists, skipping ... \n",
      "markdown D:\\upec\\IA2S\\PDF_SCRAPPER\\MARKDOWN_DATA\\Appareil de chauffage divisé à bûches - Insert à bûches - 1.md already exists, skipping ... \n",
      "markdown D:\\upec\\IA2S\\PDF_SCRAPPER\\MARKDOWN_DATA\\Appareil de chauffage divisé à bûches - Installation du conduit de fumée - 23.md already exists, skipping ... \n",
      "markdown D:\\upec\\IA2S\\PDF_SCRAPPER\\MARKDOWN_DATA\\Appareil de chauffage divisé à bûches - Installation du conduit de fumée - 24.md already exists, skipping ... \n",
      "markdown D:\\upec\\IA2S\\PDF_SCRAPPER\\MARKDOWN_DATA\\Appareil de chauffage divisé à bûches - Poêle à bûches - 2.md already exists, skipping ... \n",
      "markdown D:\\upec\\IA2S\\PDF_SCRAPPER\\MARKDOWN_DATA\\Appareil de chauffage divisé à bûches - Principe d’un modérateur pour les installations de tirage - 27.md already exists, skipping ... \n",
      "markdown D:\\upec\\IA2S\\PDF_SCRAPPER\\MARKDOWN_DATA\\Appareil de chauffage divisé à bûches - Sonde de température ambiante - 14.md already exists, skipping ... \n",
      "markdown D:\\upec\\IA2S\\PDF_SCRAPPER\\MARKDOWN_DATA\\Appareil de chauffage divisé à bûches - Sonde de température ambiante - 15.md already exists, skipping ... \n",
      "markdown D:\\upec\\IA2S\\PDF_SCRAPPER\\MARKDOWN_DATA\\Appareil de chauffage divisé à bûches - Traversée de toiture - 7.md already exists, skipping ... \n",
      "markdown D:\\upec\\IA2S\\PDF_SCRAPPER\\MARKDOWN_DATA\\Appareil de chauffage divisé à bûches - Traversée de toiture - 8.md already exists, skipping ... \n",
      "markdown D:\\upec\\IA2S\\PDF_SCRAPPER\\MARKDOWN_DATA\\Appareil de chauffage divisé à bûches - Traversée de toiture - 9.md already exists, skipping ... \n",
      "markdown D:\\upec\\IA2S\\PDF_SCRAPPER\\MARKDOWN_DATA\\Appareil de chauffage divisé à bûches - Étanchéité des traversées de plancher et de murs - 10.md already exists, skipping ... \n",
      "markdown D:\\upec\\IA2S\\PDF_SCRAPPER\\MARKDOWN_DATA\\Appareil de chauffage divisé à bûches - Étanchéité des traversées de plancher et de murs - 11.md already exists, skipping ... \n",
      "markdown D:\\upec\\IA2S\\PDF_SCRAPPER\\MARKDOWN_DATA\\Appareil de chauffage divisé à bûches - Étanchéité des traversées de plancher et de murs - 12.md already exists, skipping ... \n",
      "markdown D:\\upec\\IA2S\\PDF_SCRAPPER\\MARKDOWN_DATA\\Appareil de chauffage divisé à bûches - Étanchéité des traversées de plancher et de murs - 13.md already exists, skipping ... \n",
      "markdown D:\\upec\\IA2S\\PDF_SCRAPPER\\MARKDOWN_DATA\\Appareil de chauffage divisé à granulés - Amenée d'air directe - 1.md already exists, skipping ... \n",
      "markdown D:\\upec\\IA2S\\PDF_SCRAPPER\\MARKDOWN_DATA\\Appareil de chauffage divisé à granulés - Circuit de combustion étanche - 2.md already exists, skipping ... \n",
      "markdown D:\\upec\\IA2S\\PDF_SCRAPPER\\MARKDOWN_DATA\\Appareil de chauffage divisé à granulés - Evacuation des produits de combustion - 3.md already exists, skipping ... \n",
      "markdown D:\\upec\\IA2S\\PDF_SCRAPPER\\MARKDOWN_DATA\\Appareil de chauffage divisé à granulés - Evacuation des produits de combustion - 4.md already exists, skipping ... \n",
      "markdown D:\\upec\\IA2S\\PDF_SCRAPPER\\MARKDOWN_DATA\\Appareil de chauffage divisé à granulés - Evacuation des produits de combustion - 5.md already exists, skipping ... \n",
      "markdown D:\\upec\\IA2S\\PDF_SCRAPPER\\MARKDOWN_DATA\\Apport de chaleur paroi vitrée.md already exists, skipping ... \n",
      "markdown D:\\upec\\IA2S\\PDF_SCRAPPER\\MARKDOWN_DATA\\Apport de lumière naturelle.md already exists, skipping ... \n",
      "markdown D:\\upec\\IA2S\\PDF_SCRAPPER\\MARKDOWN_DATA\\Appréciation du confort et des ambiances – Protocole.md already exists, skipping ... \n",
      "markdown D:\\upec\\IA2S\\PDF_SCRAPPER\\MARKDOWN_DATA\\Arbres très proches de l'habitation.md already exists, skipping ... \n",
      "markdown D:\\upec\\IA2S\\PDF_SCRAPPER\\MARKDOWN_DATA\\Armature de l'enduit ITE est visible.md already exists, skipping ... \n",
      "markdown D:\\upec\\IA2S\\PDF_SCRAPPER\\MARKDOWN_DATA\\Arrivée d'eau et protocole de rinçage climatisation.md already exists, skipping ... \n",
      "markdown D:\\upec\\IA2S\\PDF_SCRAPPER\\MARKDOWN_DATA\\Aspects organisationnels - Dessin 2.md already exists, skipping ... \n",
      "pdf D:\\pdf_data\\Aspects organisationnels - Projet ENVIROBim.pdf not found, skipping ... \n",
      "pdf D:\\pdf_data\\Autoconsommation : Les solutions de stockage d’électricité en tertiaire se multiplient.pdf not found, skipping ... \n",
      "pdf D:\\pdf_data\\Automation des bâtiments - Domotique locale ou Cloud ?.pdf not found, skipping ... \n",
      "pdf D:\\pdf_data\\Automatisation : quelles solutions pour les bâtiments existants ?.pdf not found, skipping ... \n",
      "markdown D:\\upec\\IA2S\\PDF_SCRAPPER\\MARKDOWN_DATA\\Auvent translucide encrassé.md already exists, skipping ... \n",
      "markdown D:\\upec\\IA2S\\PDF_SCRAPPER\\MARKDOWN_DATA\\Ballon de stockage - Bonne pratique.md already exists, skipping ... \n",
      "markdown D:\\upec\\IA2S\\PDF_SCRAPPER\\MARKDOWN_DATA\\Ballon ECS - distances de dégagement.md already exists, skipping ... \n",
      "markdown D:\\upec\\IA2S\\PDF_SCRAPPER\\MARKDOWN_DATA\\Ballon thermodynamique - Bonne pratique.md already exists, skipping ... \n",
      "markdown D:\\upec\\IA2S\\PDF_SCRAPPER\\MARKDOWN_DATA\\BIM - La conduite du chantier.md already exists, skipping ... \n",
      "pdf D:\\pdf_data\\BIM - Quels impacts juridiques ?.pdf not found, skipping ... \n",
      "pdf D:\\pdf_data\\BIM : un potentiel énorme pour fiabiliser l'exploitation du bâtiment.pdf not found, skipping ... \n",
      "markdown D:\\upec\\IA2S\\PDF_SCRAPPER\\MARKDOWN_DATA\\Blockchain - Collaborer en toute confiance.md already exists, skipping ... \n",
      "markdown D:\\upec\\IA2S\\PDF_SCRAPPER\\MARKDOWN_DATA\\bonne pratique de conception pour les parois inclinées par rapport à la gestion de la vapeur d'eau - écran sous-toiture HPV.md already exists, skipping ... \n",
      "markdown D:\\upec\\IA2S\\PDF_SCRAPPER\\MARKDOWN_DATA\\bonne pratique de conception pour les parois inclinées par rapport à la gestion de la vapeur d'eau - écran sous-toiture non HPV.md already exists, skipping ... \n",
      "markdown D:\\upec\\IA2S\\PDF_SCRAPPER\\MARKDOWN_DATA\\Bonne pratique de conception pour une toiture terrasse béton.md already exists, skipping ... \n",
      "markdown D:\\upec\\IA2S\\PDF_SCRAPPER\\MARKDOWN_DATA\\Bonnes pratiques de conception pour la gestion de la migration de vapeur d'eau  pour des murs en béton, maçonnés et murs à ossature bois.md already exists, skipping ... \n",
      "markdown D:\\upec\\IA2S\\PDF_SCRAPPER\\MARKDOWN_DATA\\Brasseur d'air correctement dimensionné.md already exists, skipping ... \n",
      "markdown D:\\upec\\IA2S\\PDF_SCRAPPER\\MARKDOWN_DATA\\Brasseur d'air encastré dans le plafond.md already exists, skipping ... \n",
      "markdown D:\\upec\\IA2S\\PDF_SCRAPPER\\MARKDOWN_DATA\\Brasseur d'air et dégagement sous plafond.md already exists, skipping ... \n",
      "markdown D:\\upec\\IA2S\\PDF_SCRAPPER\\MARKDOWN_DATA\\Brasseur d'air sous dimensionné.md already exists, skipping ... \n",
      "markdown D:\\upec\\IA2S\\PDF_SCRAPPER\\MARKDOWN_DATA\\Brasseurs d'air sous dimensionnés.md already exists, skipping ... \n",
      "markdown D:\\upec\\IA2S\\PDF_SCRAPPER\\MARKDOWN_DATA\\Bâti ancien - Des ressources pour mieux réussir la réhabilitation énergétique.md already exists, skipping ... \n",
      "markdown D:\\upec\\IA2S\\PDF_SCRAPPER\\MARKDOWN_DATA\\Bâtiments tertiaires en Guyane – 12 enseignements à connaître.md already exists, skipping ... \n",
      "markdown D:\\upec\\IA2S\\PDF_SCRAPPER\\MARKDOWN_DATA\\Bétons biosourcés - Diversification des granulats végétaux et ouverture à la préfabrication..md already exists, skipping ... \n",
      "markdown D:\\upec\\IA2S\\PDF_SCRAPPER\\MARKDOWN_DATA\\Caillebotis permettant un accès pour l’entretien du mur végétal.md already exists, skipping ... \n",
      "pdf D:\\pdf_data\\Calepin de chantier - Bardages double peau en acier protégé et en en acier inoxydable.pdf not found, skipping ... \n",
      "pdf D:\\pdf_data\\Calepin de chantier - Calorifugeage des réseaux.pdf not found, skipping ... \n",
      "pdf D:\\pdf_data\\Calepin de chantier - Doubles fenêtres en rénovation de logements.pdf not found, skipping ... \n",
      "pdf D:\\pdf_data\\Calepin de chantier - Maçonneries Isolantes avec Isolation Thermique par l'Intérieur ou Répartie.pdf not found, skipping ... \n",
      "pdf D:\\pdf_data\\Calepin de chantier - Miroiterie - Vitrerie.pdf not found, skipping ... \n",
      "pdf D:\\pdf_data\\Calepin de chantier - Mur Double ITE.pdf not found, skipping ... \n",
      "pdf D:\\pdf_data\\Calepin de chantier - Revêtements exterieurs en bois et ITE.pdf not found, skipping ... \n",
      "pdf D:\\pdf_data\\Calepin de chantier : Appareils de chauffage divisé à bûches - neuf et rénovation.pdf not found, skipping ... \n",
      "pdf D:\\pdf_data\\Calepin de chantier : Appareils de chauffage divisé à granulés - neuf et rénovation.pdf not found, skipping ... \n",
      "pdf D:\\pdf_data\\Calepin de chantier : Chauffe-eau thermodynamique.pdf not found, skipping ... \n",
      "pdf D:\\pdf_data\\Calepin de chantier : Coffres de volets roulants - Mise en œuvre - Neuf, Rénovation.pdf not found, skipping ... \n",
      "pdf D:\\pdf_data\\Calepin de chantier : couvertures en panneaux sandwichs à deux parements en acier et à âme polyuréthane.pdf not found, skipping ... \n",
      "pdf D:\\pdf_data\\Calepin de chantier : Fenêtres avec isolation thermique par l'extérieur - Neuf et Rénovation.pdf not found, skipping ... \n",
      "pdf D:\\pdf_data\\Calepin de chantier : Murs à coffrage et isolation intégrés - neuf.pdf not found, skipping ... \n",
      "pdf D:\\pdf_data\\Calepin de chantier : Pompes à chaleur air extérieur / air intérieur en habitat individuel.pdf not found, skipping ... \n",
      "pdf D:\\pdf_data\\Calepin de chantier : Pompes à chaleur air extérieur / eau en habitat individuel.pdf not found, skipping ... \n",
      "pdf D:\\pdf_data\\Calepin de chantier : Pompes à chaleur double service en habitat individuel.pdf not found, skipping ... \n",
      "pdf D:\\pdf_data\\Calepin de chantier : Pompes à chaleur géothermiques en habitat individuel.pdf not found, skipping ... \n",
      "pdf D:\\pdf_data\\Calepin de chantier : Puits climatiques en habitat individuel et en tertiaire - Neuf et rénovation.pdf not found, skipping ... \n",
      "pdf D:\\pdf_data\\Calepin de chantier : Systèmes photovoltaïques par modules rigides intégrés en couverture.pdf not found, skipping ... \n",
      "pdf D:\\pdf_data\\Calepin de chantier : Systèmes solaires combinés en habitat individuel - Neuf et rénovation.pdf not found, skipping ... \n",
      "pdf D:\\pdf_data\\Calepin de chantier : Ventilation mécanique répartie.pdf not found, skipping ... \n",
      "pdf D:\\pdf_data\\Calepin de chantier : VMC double flux en habitat individuel.pdf not found, skipping ... \n",
      "pdf D:\\pdf_data\\Calepin de chantier : étanchéité isolation thermique des toitures terrasses en bois : conception, interfaces, mise en oeuvre.pdf not found, skipping ... \n",
      "markdown D:\\upec\\IA2S\\PDF_SCRAPPER\\MARKDOWN_DATA\\Calorifuge complet.md already exists, skipping ... \n",
      "markdown D:\\upec\\IA2S\\PDF_SCRAPPER\\MARKDOWN_DATA\\Calorifuge dégradé.md already exists, skipping ... \n",
      "markdown D:\\upec\\IA2S\\PDF_SCRAPPER\\MARKDOWN_DATA\\Calorifugeage des canalisations du circuit hydraulique primaire.md already exists, skipping ... \n",
      "markdown D:\\upec\\IA2S\\PDF_SCRAPPER\\MARKDOWN_DATA\\Calorifugeage des réseaux - Bonne pratique.md already exists, skipping ... \n",
      "markdown D:\\upec\\IA2S\\PDF_SCRAPPER\\MARKDOWN_DATA\\Calorifugeage des réseaux - Non qualité.md already exists, skipping ... \n",
      "markdown D:\\upec\\IA2S\\PDF_SCRAPPER\\MARKDOWN_DATA\\Capot de protection non remis - Climatisation.md already exists, skipping ... \n",
      "markdown D:\\upec\\IA2S\\PDF_SCRAPPER\\MARKDOWN_DATA\\Capteur du chauffe-eau solaire encrassé.md already exists, skipping ... \n",
      "markdown D:\\upec\\IA2S\\PDF_SCRAPPER\\MARKDOWN_DATA\\Capteurs du chauffe-eau solaire entretenus.md already exists, skipping ... \n",
      "markdown D:\\upec\\IA2S\\PDF_SCRAPPER\\MARKDOWN_DATA\\Capteurs solaires en partie à l'ombre.md already exists, skipping ... \n",
      "pdf D:\\pdf_data\\Capteurs solaires thermiques : un CPT pour accompagner les Eurocodes.pdf not found, skipping ... \n",
      "markdown D:\\upec\\IA2S\\PDF_SCRAPPER\\MARKDOWN_DATA\\CET fixé au sol.md already exists, skipping ... \n",
      "markdown D:\\upec\\IA2S\\PDF_SCRAPPER\\MARKDOWN_DATA\\CET sur support instable.md already exists, skipping ... \n",
      "markdown D:\\upec\\IA2S\\PDF_SCRAPPER\\MARKDOWN_DATA\\CET sur support stable.md already exists, skipping ... \n",
      "pdf D:\\pdf_data\\Chaleur Fatale : un potentiel, de nombreuses voies de récupération.pdf not found, skipping ... \n",
      "pdf D:\\pdf_data\\Changement d'une fenêtre en bois : les bons gestes en vidéo.pdf not found, skipping ... \n",
      "pdf D:\\pdf_data\\CHANGEMENT DU GÉNÉRATEUR DE CHAUFFAGE : IMPACTS DU DIMENSIONNEMENT.pdf not found, skipping ... \n",
      "pdf D:\\pdf_data\\Changer de chauffage - rénovation.pdf not found, skipping ... \n",
      "markdown D:\\upec\\IA2S\\PDF_SCRAPPER\\MARKDOWN_DATA\\Charte Led - Qualité des données produits.md already exists, skipping ... \n",
      "pdf D:\\pdf_data\\Chaudières B1 : les solutions de remplacement..pdf not found, skipping ... \n",
      "pdf D:\\pdf_data\\Chaudières à micro-cogénération à moteur Stirling en habitat individuel - rénovation - conception et dimensionnement.pdf not found, skipping ... \n",
      "pdf D:\\pdf_data\\Chauffage -  Rénovation thermique performante par étape - changement des équipements.pdf not found, skipping ... \n",
      "markdown D:\\upec\\IA2S\\PDF_SCRAPPER\\MARKDOWN_DATA\\Chauffage - Appareil de chauffage divisé à bûches - Assemblage et raccordements - 39.md already exists, skipping ... \n",
      "markdown D:\\upec\\IA2S\\PDF_SCRAPPER\\MARKDOWN_DATA\\Chauffage - Appareil de chauffage divisé à bûches - Assemblage et raccordements - 40.md already exists, skipping ... \n",
      "markdown D:\\upec\\IA2S\\PDF_SCRAPPER\\MARKDOWN_DATA\\Chauffage - Appareil de chauffage divisé à bûches - conformité de l’amenée d’air comburant - 41.md already exists, skipping ... \n",
      "markdown D:\\upec\\IA2S\\PDF_SCRAPPER\\MARKDOWN_DATA\\Chauffage - Appareil de chauffage divisé à bûches - Evacuation des produits de combustion  - 42.md already exists, skipping ... \n",
      "markdown D:\\upec\\IA2S\\PDF_SCRAPPER\\MARKDOWN_DATA\\Chauffage - Appareil de chauffage divisé à bûches - Installation du conduit de fumée - 34.md already exists, skipping ... \n",
      "markdown D:\\upec\\IA2S\\PDF_SCRAPPER\\MARKDOWN_DATA\\Chauffage - Appareil de chauffage divisé à bûches - Installation du conduit de fumée - 35.md already exists, skipping ... \n",
      "markdown D:\\upec\\IA2S\\PDF_SCRAPPER\\MARKDOWN_DATA\\Chauffage - Appareil de chauffage divisé à bûches - Installation du conduit de fumée - 36.md already exists, skipping ... \n",
      "markdown D:\\upec\\IA2S\\PDF_SCRAPPER\\MARKDOWN_DATA\\Chauffage - Appareil de chauffage divisé à bûches - Installation du conduit de fumée - 37.md already exists, skipping ... \n",
      "markdown D:\\upec\\IA2S\\PDF_SCRAPPER\\MARKDOWN_DATA\\Chauffage - Appareil de chauffage divisé à bûches - Installation du conduit de fumée - 38.md already exists, skipping ... \n",
      "markdown D:\\upec\\IA2S\\PDF_SCRAPPER\\MARKDOWN_DATA\\Chauffage - Appareil de chauffage divisé à bûches - Mise en service et réception - 32.md already exists, skipping ... \n",
      "markdown D:\\upec\\IA2S\\PDF_SCRAPPER\\MARKDOWN_DATA\\Chauffage - Appareil de chauffage divisé à bûches - Raccordement au conduit de fumée - 28.md already exists, skipping ... \n",
      "markdown D:\\upec\\IA2S\\PDF_SCRAPPER\\MARKDOWN_DATA\\Chauffage - Appareil de chauffage divisé à bûches - Raccordement au conduit de fumée - 29.md already exists, skipping ... \n",
      "markdown D:\\upec\\IA2S\\PDF_SCRAPPER\\MARKDOWN_DATA\\Chauffage - Appareil de chauffage divisé à bûches - Raccordement au conduit de fumée - 30.md already exists, skipping ... \n",
      "markdown D:\\upec\\IA2S\\PDF_SCRAPPER\\MARKDOWN_DATA\\Chauffage - Appareil de chauffage divisé à bûches - Raccordement au conduit de fumée - 31.md already exists, skipping ... \n",
      "markdown D:\\upec\\IA2S\\PDF_SCRAPPER\\MARKDOWN_DATA\\Chauffage - Appareil de chauffage divisé à bûches - Tubage et chemisage - 33.md already exists, skipping ... \n",
      "markdown D:\\upec\\IA2S\\PDF_SCRAPPER\\MARKDOWN_DATA\\Chauffage collectif - Quelles architectures hydrauliques en construction neuve.md already exists, skipping ... \n",
      "pdf D:\\pdf_data\\Chauffage et refroidissement - Déstratifier la chaleur - écoTravo* - Astuce 4.pdf not found, skipping ... \n",
      "markdown D:\\upec\\IA2S\\PDF_SCRAPPER\\MARKDOWN_DATA\\Chauffe eau thermodynamiques sur air extérieur - schéma de principe - 1.md already exists, skipping ... \n",
      "markdown D:\\upec\\IA2S\\PDF_SCRAPPER\\MARKDOWN_DATA\\Chauffe-eau solaire mal positionné.md already exists, skipping ... \n",
      "markdown D:\\upec\\IA2S\\PDF_SCRAPPER\\MARKDOWN_DATA\\Chauffe-eau solaire éloigné de masques éventuels.md already exists, skipping ... \n",
      "markdown D:\\upec\\IA2S\\PDF_SCRAPPER\\MARKDOWN_DATA\\Chauffe-eau thermodynamique en rénovation - 12 enseignements à connaître.md already exists, skipping ... \n",
      "pdf D:\\pdf_data\\Chauffe-eau thermodynamique en rénovation.pdf not found, skipping ... \n",
      "pdf D:\\pdf_data\\Chauffe-eau thermodynamique [1/3].pdf not found, skipping ... \n",
      "pdf D:\\pdf_data\\Chauffe-eau thermodynamique [2/3].pdf not found, skipping ... \n",
      "pdf D:\\pdf_data\\Chauffe-eau thermodynamique [3/3].pdf not found, skipping ... \n",
      "markdown D:\\upec\\IA2S\\PDF_SCRAPPER\\MARKDOWN_DATA\\Chauffe-eau thermodynamiques - Conduits aérauliques isolés - 22.md already exists, skipping ... \n",
      "markdown D:\\upec\\IA2S\\PDF_SCRAPPER\\MARKDOWN_DATA\\Chauffe-eau thermodynamiques - distances de dégagement - 7.md already exists, skipping ... \n",
      "markdown D:\\upec\\IA2S\\PDF_SCRAPPER\\MARKDOWN_DATA\\Chauffe-eau thermodynamiques - distances de dégagement - 8.md already exists, skipping ... \n",
      "markdown D:\\upec\\IA2S\\PDF_SCRAPPER\\MARKDOWN_DATA\\Chauffe-eau thermodynamiques - installation et fixations - 10.md already exists, skipping ... \n",
      "markdown D:\\upec\\IA2S\\PDF_SCRAPPER\\MARKDOWN_DATA\\Chauffe-eau thermodynamiques - installation et fixations - 9.md already exists, skipping ... \n",
      "markdown D:\\upec\\IA2S\\PDF_SCRAPPER\\MARKDOWN_DATA\\Chauffe-eau thermodynamiques - règles électriques - 5.md already exists, skipping ... \n",
      "markdown D:\\upec\\IA2S\\PDF_SCRAPPER\\MARKDOWN_DATA\\Chauffe-eau thermodynamiques - règles électriques - 6.md already exists, skipping ... \n",
      "markdown D:\\upec\\IA2S\\PDF_SCRAPPER\\MARKDOWN_DATA\\Chauffe-eau thermodynamiques en éléments séparés (bi-bloc) sur air extérieur - schéma de principe - 2.md already exists, skipping ... \n",
      "markdown D:\\upec\\IA2S\\PDF_SCRAPPER\\MARKDOWN_DATA\\Chauffe-eau thermodynamiques sur air ambiant - schéma de principe - 3.md already exists, skipping ... \n",
      "markdown D:\\upec\\IA2S\\PDF_SCRAPPER\\MARKDOWN_DATA\\Chauffe-eau thermodynamiques sur air ambiant - spécificités d’implantation - 16.md already exists, skipping ... \n",
      "markdown D:\\upec\\IA2S\\PDF_SCRAPPER\\MARKDOWN_DATA\\Chauffe-eau thermodynamiques sur air extrait - schéma de principe - 4.md already exists, skipping ... \n",
      "markdown D:\\upec\\IA2S\\PDF_SCRAPPER\\MARKDOWN_DATA\\Chauffe-eau thermodynamiques sur air extérieur en éléments séparés - implantation et pose de l'unité extérieure - 18.md already exists, skipping ... \n",
      "markdown D:\\upec\\IA2S\\PDF_SCRAPPER\\MARKDOWN_DATA\\Chauffe-eau thermodynamiques sur air extérieur en éléments séparés - implantation et pose de l'unité extérieure - 19.md already exists, skipping ... \n",
      "markdown D:\\upec\\IA2S\\PDF_SCRAPPER\\MARKDOWN_DATA\\Chauffe-eau thermodynamiques sur air extérieur monobloc - spécificités d’implantation - 11.md already exists, skipping ... \n",
      "markdown D:\\upec\\IA2S\\PDF_SCRAPPER\\MARKDOWN_DATA\\Chauffe-eau thermodynamiques sur air extérieur monobloc - spécificités d’implantation - 12.md already exists, skipping ... \n",
      "markdown D:\\upec\\IA2S\\PDF_SCRAPPER\\MARKDOWN_DATA\\Chauffe-eau thermodynamiques sur air extérieur monobloc - spécificités d’implantation - 13.md already exists, skipping ... \n",
      "markdown D:\\upec\\IA2S\\PDF_SCRAPPER\\MARKDOWN_DATA\\Chauffe-eau thermodynamiques sur air extérieur monobloc - spécificités d’implantation - 14.md already exists, skipping ... \n",
      "markdown D:\\upec\\IA2S\\PDF_SCRAPPER\\MARKDOWN_DATA\\Chauffe-eau thermodynamiques sur air extérieur monobloc - spécificités d’implantation - 15.md already exists, skipping ... \n",
      "pdf D:\\pdf_data\\Chauffe-eaux solaires collectifs à appoints individualisés (cescai) - Les risques sanitaires et de brûlure - Rapport.pdf not found, skipping ... \n",
      "pdf D:\\pdf_data\\Chaufferie biomasse en rénovation.pdf not found, skipping ... \n",
      "markdown D:\\upec\\IA2S\\PDF_SCRAPPER\\MARKDOWN_DATA\\Chaufferie bois en rénovation - 12 enseignements à connaître.md already exists, skipping ... \n",
      "pdf D:\\pdf_data\\Chaufferie bois en rénovation [1/3].pdf not found, skipping ... \n",
      "pdf D:\\pdf_data\\Chaufferie bois en rénovation [2/3].pdf not found, skipping ... \n",
      "pdf D:\\pdf_data\\Chaufferie bois en rénovation [3/3].pdf not found, skipping ... \n",
      "markdown D:\\upec\\IA2S\\PDF_SCRAPPER\\MARKDOWN_DATA\\Cheminement minéral pour préserver la végétation.md already exists, skipping ... \n",
      "pdf D:\\pdf_data\\Circuits hydrauliques - Composants et règles de conception - Neuf et Rénovation.pdf not found, skipping ... \n",
      "markdown D:\\upec\\IA2S\\PDF_SCRAPPER\\MARKDOWN_DATA\\Climatisation en climat tropical - 12 enseignements à connaître.md already exists, skipping ... \n",
      "pdf D:\\pdf_data\\Climatisation : l'approche énergies renouvelables.pdf not found, skipping ... \n",
      "markdown D:\\upec\\IA2S\\PDF_SCRAPPER\\MARKDOWN_DATA\\Coffres de volets roulants - Mise en oeuvre - 1.md already exists, skipping ... \n",
      "markdown D:\\upec\\IA2S\\PDF_SCRAPPER\\MARKDOWN_DATA\\Coffres de volets roulants - Mise en oeuvre - 2.md already exists, skipping ... \n",
      "markdown D:\\upec\\IA2S\\PDF_SCRAPPER\\MARKDOWN_DATA\\Coffres de volets roulants - Mise en oeuvre - 3.md already exists, skipping ... \n",
      "markdown D:\\upec\\IA2S\\PDF_SCRAPPER\\MARKDOWN_DATA\\Coffres de volets roulants - Mise en oeuvre - 4.md already exists, skipping ... \n",
      "markdown D:\\upec\\IA2S\\PDF_SCRAPPER\\MARKDOWN_DATA\\Coffres de volets roulants - Mise en oeuvre - 5.md already exists, skipping ... \n",
      "markdown D:\\upec\\IA2S\\PDF_SCRAPPER\\MARKDOWN_DATA\\Coffres de volets roulants - Mise en oeuvre - 6.md already exists, skipping ... \n",
      "markdown D:\\upec\\IA2S\\PDF_SCRAPPER\\MARKDOWN_DATA\\Coffres de volets roulants - Mise en oeuvre - 7.md already exists, skipping ... \n",
      "markdown D:\\upec\\IA2S\\PDF_SCRAPPER\\MARKDOWN_DATA\\Commande d'ouverture des jalousies inaccessible.md already exists, skipping ... \n",
      "markdown D:\\upec\\IA2S\\PDF_SCRAPPER\\MARKDOWN_DATA\\Commandes d'ouverture des jalousies facilement accessibles.md already exists, skipping ... \n",
      "pdf D:\\pdf_data\\Comment optimiser son confort thermique en été comme en hiver ?.pdf not found, skipping ... \n",
      "pdf D:\\pdf_data\\Comment poser une pompe à chaleur Air/Eau double service ? les bons gestes en vidéo.pdf not found, skipping ... \n",
      "pdf D:\\pdf_data\\Conception et dimensionnement des équipement en rénovation [1/3].pdf not found, skipping ... \n",
      "pdf D:\\pdf_data\\Conception et dimensionnement des équipement en rénovation [2/3].pdf not found, skipping ... \n",
      "pdf D:\\pdf_data\\Conception et dimensionnement des équipement en rénovation [3/3].pdf not found, skipping ... \n",
      "markdown D:\\upec\\IA2S\\PDF_SCRAPPER\\MARKDOWN_DATA\\Conception et dimensionnement des équipements en rénovation.md already exists, skipping ... \n",
      "pdf D:\\pdf_data\\Conception et dimensionnement des équipements techniques.pdf not found, skipping ... \n",
      "markdown D:\\upec\\IA2S\\PDF_SCRAPPER\\MARKDOWN_DATA\\Conduit d'arrivée d'air obstrué.md already exists, skipping ... \n",
      "markdown D:\\upec\\IA2S\\PDF_SCRAPPER\\MARKDOWN_DATA\\Confort d'été et réduction des surchauffes - 12 enseignements à connaître.md already exists, skipping ... \n",
      "pdf D:\\pdf_data\\Confort thermique : ventilation naturelle et protection solaire.pdf not found, skipping ... \n",
      "pdf D:\\pdf_data\\Construction acier - Comment améliorer l'étanchéité à l'air ?.pdf not found, skipping ... \n",
      "markdown D:\\upec\\IA2S\\PDF_SCRAPPER\\MARKDOWN_DATA\\Construction bois et gestion de l'humidité en phase chantier.md already exists, skipping ... \n",
      "markdown D:\\upec\\IA2S\\PDF_SCRAPPER\\MARKDOWN_DATA\\Construction modulaire tridimensionnelle - 12 enseignements à connaître.md already exists, skipping ... \n",
      "pdf D:\\pdf_data\\CONVERSION D'UNE INSTALLATION FIOUL EN MAISON INDIVIDUELLE.pdf not found, skipping ... \n",
      "markdown D:\\upec\\IA2S\\PDF_SCRAPPER\\MARKDOWN_DATA\\Copropriété, programme d'accompagnement - efficacité énergétique.md already exists, skipping ... \n",
      "markdown D:\\upec\\IA2S\\PDF_SCRAPPER\\MARKDOWN_DATA\\Correction QCM chauffage.md already exists, skipping ... \n",
      "markdown D:\\upec\\IA2S\\PDF_SCRAPPER\\MARKDOWN_DATA\\Correction QCM Eclairage artificiel.md already exists, skipping ... \n",
      "markdown D:\\upec\\IA2S\\PDF_SCRAPPER\\MARKDOWN_DATA\\Correction QCM Isolation des planchers bas.md already exists, skipping ... \n",
      "markdown D:\\upec\\IA2S\\PDF_SCRAPPER\\MARKDOWN_DATA\\Correction QCM L'isolation des rampants de toiture en rénovation.md already exists, skipping ... \n",
      "markdown D:\\upec\\IA2S\\PDF_SCRAPPER\\MARKDOWN_DATA\\Correction QCM La ventilation double flux en rénovation.md already exists, skipping ... \n",
      "markdown D:\\upec\\IA2S\\PDF_SCRAPPER\\MARKDOWN_DATA\\Correction QCM La ventilation simple flux en rénovation.md already exists, skipping ... \n",
      "markdown D:\\upec\\IA2S\\PDF_SCRAPPER\\MARKDOWN_DATA\\Correction QCM Parois opaques.md already exists, skipping ... \n",
      "markdown D:\\upec\\IA2S\\PDF_SCRAPPER\\MARKDOWN_DATA\\Correction QCM Pilotage.md already exists, skipping ... \n",
      "markdown D:\\upec\\IA2S\\PDF_SCRAPPER\\MARKDOWN_DATA\\Correction QCM Ventilation.md already exists, skipping ... \n",
      "markdown D:\\upec\\IA2S\\PDF_SCRAPPER\\MARKDOWN_DATA\\Corrosion suite à des fuites.md already exists, skipping ... \n",
      "markdown D:\\upec\\IA2S\\PDF_SCRAPPER\\MARKDOWN_DATA\\Corrosion sur le groupe froid.md already exists, skipping ... \n",
      "markdown D:\\upec\\IA2S\\PDF_SCRAPPER\\MARKDOWN_DATA\\Coupure d'un groupe de capteurs et dégradation d'un capteur.md already exists, skipping ... \n",
      "markdown D:\\upec\\IA2S\\PDF_SCRAPPER\\MARKDOWN_DATA\\Couverture en panneaux sandwich - Compléments d'isolation - 1.md already exists, skipping ... \n",
      "markdown D:\\upec\\IA2S\\PDF_SCRAPPER\\MARKDOWN_DATA\\Couverture en panneaux sandwich - Compléments d'isolation - 10.md already exists, skipping ... \n",
      "markdown D:\\upec\\IA2S\\PDF_SCRAPPER\\MARKDOWN_DATA\\Couverture en panneaux sandwich - Compléments d'isolation - 11.md already exists, skipping ... \n",
      "markdown D:\\upec\\IA2S\\PDF_SCRAPPER\\MARKDOWN_DATA\\Couverture en panneaux sandwich - Compléments d'isolation - 12.md already exists, skipping ... \n",
      "markdown D:\\upec\\IA2S\\PDF_SCRAPPER\\MARKDOWN_DATA\\Couverture en panneaux sandwich - Compléments d'isolation - 14.md already exists, skipping ... \n",
      "markdown D:\\upec\\IA2S\\PDF_SCRAPPER\\MARKDOWN_DATA\\Couverture en panneaux sandwich - Compléments d'isolation - 16.md already exists, skipping ... \n",
      "markdown D:\\upec\\IA2S\\PDF_SCRAPPER\\MARKDOWN_DATA\\Couverture en panneaux sandwich - Compléments d'isolation - 9.md already exists, skipping ... \n",
      "markdown D:\\upec\\IA2S\\PDF_SCRAPPER\\MARKDOWN_DATA\\Couverture en panneaux sandwich - Compléments d'étanchéité -17.md already exists, skipping ... \n",
      "markdown D:\\upec\\IA2S\\PDF_SCRAPPER\\MARKDOWN_DATA\\Couverture en panneaux sandwich - Fixation de couture - 19.md already exists, skipping ... \n",
      "markdown D:\\upec\\IA2S\\PDF_SCRAPPER\\MARKDOWN_DATA\\Couverture en panneaux sandwich - Fixation des panneaux - 18.md already exists, skipping ... \n",
      "markdown D:\\upec\\IA2S\\PDF_SCRAPPER\\MARKDOWN_DATA\\Couverture en panneaux sandwich - installation et fixation des panneaux - 7.md already exists, skipping ... \n",
      "markdown D:\\upec\\IA2S\\PDF_SCRAPPER\\MARKDOWN_DATA\\Couverture en panneaux sandwich - Installation et fixation des panneaux - 8.md already exists, skipping ... \n",
      "markdown D:\\upec\\IA2S\\PDF_SCRAPPER\\MARKDOWN_DATA\\Couverture en panneaux sandwich - Joint d'étanchéité - 2.md already exists, skipping ... \n",
      "markdown D:\\upec\\IA2S\\PDF_SCRAPPER\\MARKDOWN_DATA\\Couverture en panneaux sandwich - Phase de montage - 6.md already exists, skipping ... \n",
      "markdown D:\\upec\\IA2S\\PDF_SCRAPPER\\MARKDOWN_DATA\\Couverture en panneaux sandwich - Phases de montage - 5.md already exists, skipping ... \n",
      "markdown D:\\upec\\IA2S\\PDF_SCRAPPER\\MARKDOWN_DATA\\Couverture en panneaux sandwich - Terminologie -1.md already exists, skipping ... \n",
      "markdown D:\\upec\\IA2S\\PDF_SCRAPPER\\MARKDOWN_DATA\\Couverture en panneaux sandwich - Traitement des points singuliers - 3.md already exists, skipping ... \n",
      "markdown D:\\upec\\IA2S\\PDF_SCRAPPER\\MARKDOWN_DATA\\Couverture en panneaux sandwich - Traitement des points singuliers - 4.md already exists, skipping ... \n",
      "markdown D:\\upec\\IA2S\\PDF_SCRAPPER\\MARKDOWN_DATA\\Couverture partielle sans surchauffe.md already exists, skipping ... \n",
      "markdown D:\\upec\\IA2S\\PDF_SCRAPPER\\MARKDOWN_DATA\\Couverture teinte moyenne évitant l'encrassement.md already exists, skipping ... \n",
      "markdown D:\\upec\\IA2S\\PDF_SCRAPPER\\MARKDOWN_DATA\\Couverture transparente et surchauffe.md already exists, skipping ... \n",
      "markdown D:\\upec\\IA2S\\PDF_SCRAPPER\\MARKDOWN_DATA\\Cybersécurité - Combattre de nouveaux risques émergents.md already exists, skipping ... \n",
      "pdf D:\\pdf_data\\Diagnostic et préconisations en toiture.pdf not found, skipping ... \n",
      "markdown D:\\upec\\IA2S\\PDF_SCRAPPER\\MARKDOWN_DATA\\Diagramme de l'air humide (diagramme de Mollier).md already exists, skipping ... \n",
      "markdown D:\\upec\\IA2S\\PDF_SCRAPPER\\MARKDOWN_DATA\\Difficulté d'accès au luminaire.md already exists, skipping ... \n",
      "markdown D:\\upec\\IA2S\\PDF_SCRAPPER\\MARKDOWN_DATA\\Dimensionnement ajusté de la bavette d'appui de fenêtre.md already exists, skipping ... \n",
      "markdown D:\\upec\\IA2S\\PDF_SCRAPPER\\MARKDOWN_DATA\\Dimensionnement efficace des brasseurs d'air.md already exists, skipping ... \n",
      "markdown D:\\upec\\IA2S\\PDF_SCRAPPER\\MARKDOWN_DATA\\Disconnecteur contre le retour d’eau.md already exists, skipping ... \n",
      "markdown D:\\upec\\IA2S\\PDF_SCRAPPER\\MARKDOWN_DATA\\Discontinuité de l'ITE.md already exists, skipping ... \n",
      "markdown D:\\upec\\IA2S\\PDF_SCRAPPER\\MARKDOWN_DATA\\Discontinuité de l'étanchéité à l'air.md already exists, skipping ... \n",
      "markdown D:\\upec\\IA2S\\PDF_SCRAPPER\\MARKDOWN_DATA\\Disparition de la végétation mise en place du fait d’un défaut de drainage et d’un écrasement de la végétation par les véhicules. Le remplissage des alvéoles est trop important..md already exists, skipping ... \n",
      "markdown D:\\upec\\IA2S\\PDF_SCRAPPER\\MARKDOWN_DATA\\Du bon usage Du BIM - 12 enseignements à connaître.md already exists, skipping ... \n",
      "markdown D:\\upec\\IA2S\\PDF_SCRAPPER\\MARKDOWN_DATA\\Dysfonctionnements électriques des installations photovoltaïques- Points de vigilance.md already exists, skipping ... \n",
      "markdown D:\\upec\\IA2S\\PDF_SCRAPPER\\MARKDOWN_DATA\\Débord de toit suffisant pour protection contre la pluie.md already exists, skipping ... \n",
      "markdown D:\\upec\\IA2S\\PDF_SCRAPPER\\MARKDOWN_DATA\\Défaut d'installation compteur d'eau.md already exists, skipping ... \n",
      "markdown D:\\upec\\IA2S\\PDF_SCRAPPER\\MARKDOWN_DATA\\Défaut d'isolation intérieur.md already exists, skipping ... \n",
      "markdown D:\\upec\\IA2S\\PDF_SCRAPPER\\MARKDOWN_DATA\\Défaut d'étanchéité jonction menuiserie - ITE.md already exists, skipping ... \n",
      "markdown D:\\upec\\IA2S\\PDF_SCRAPPER\\MARKDOWN_DATA\\Défaut d'étanchéité à l'air et climatisation.md already exists, skipping ... \n",
      "markdown D:\\upec\\IA2S\\PDF_SCRAPPER\\MARKDOWN_DATA\\Défaut d'étanchéité à l'air.md already exists, skipping ... \n",
      "markdown D:\\upec\\IA2S\\PDF_SCRAPPER\\MARKDOWN_DATA\\Défaut de drainage parking végétalisé.md already exists, skipping ... \n",
      "markdown D:\\upec\\IA2S\\PDF_SCRAPPER\\MARKDOWN_DATA\\Défaut de positionnement mitigeur.md already exists, skipping ... \n",
      "markdown D:\\upec\\IA2S\\PDF_SCRAPPER\\MARKDOWN_DATA\\Défaut de réglage de détection de présence.md already exists, skipping ... \n",
      "markdown D:\\upec\\IA2S\\PDF_SCRAPPER\\MARKDOWN_DATA\\Défaut de suivi ECS.md already exists, skipping ... \n",
      "markdown D:\\upec\\IA2S\\PDF_SCRAPPER\\MARKDOWN_DATA\\Défaut de tasseautage.md already exists, skipping ... \n",
      "markdown D:\\upec\\IA2S\\PDF_SCRAPPER\\MARKDOWN_DATA\\Défaut sur détecteur de luminosité.md already exists, skipping ... \n",
      "markdown D:\\upec\\IA2S\\PDF_SCRAPPER\\MARKDOWN_DATA\\Dégradation du calorifuge du réseau d'eau glacée.md already exists, skipping ... \n",
      "markdown D:\\upec\\IA2S\\PDF_SCRAPPER\\MARKDOWN_DATA\\Dégradation sous couche réfléchissante.md already exists, skipping ... \n",
      "markdown D:\\upec\\IA2S\\PDF_SCRAPPER\\MARKDOWN_DATA\\Dégradation végétation aux abords.md already exists, skipping ... \n",
      "markdown D:\\upec\\IA2S\\PDF_SCRAPPER\\MARKDOWN_DATA\\Développement complet du mur végétalisé.md already exists, skipping ... \n",
      "markdown D:\\upec\\IA2S\\PDF_SCRAPPER\\MARKDOWN_DATA\\Développement de plantes invasives.md already exists, skipping ... \n",
      "markdown D:\\upec\\IA2S\\PDF_SCRAPPER\\MARKDOWN_DATA\\Développement homogène de la végétation.md already exists, skipping ... \n",
      "markdown D:\\upec\\IA2S\\PDF_SCRAPPER\\MARKDOWN_DATA\\Développement non contrôlé de la végétation.md already exists, skipping ... \n",
      "markdown D:\\upec\\IA2S\\PDF_SCRAPPER\\MARKDOWN_DATA\\Dévoiement de la goutière pour une ITE continue.md already exists, skipping ... \n",
      "markdown D:\\upec\\IA2S\\PDF_SCRAPPER\\MARKDOWN_DATA\\Eblouissement et inconfort visuel.md already exists, skipping ... \n",
      "markdown D:\\upec\\IA2S\\PDF_SCRAPPER\\MARKDOWN_DATA\\Eclairage artificiel en rénovation - 12 enseignements à connaître.md already exists, skipping ... \n",
      "pdf D:\\pdf_data\\Eclairage et électricité spécifique - Le positionnement du tableau électrique - écoTravo* - Astuce 9.pdf not found, skipping ... \n",
      "markdown D:\\upec\\IA2S\\PDF_SCRAPPER\\MARKDOWN_DATA\\ECS Solaire en climat tropical - 12 enseignements à connaître.md already exists, skipping ... \n",
      "markdown D:\\upec\\IA2S\\PDF_SCRAPPER\\MARKDOWN_DATA\\ECS Solaire à La Réunion.md already exists, skipping ... \n",
      "markdown D:\\upec\\IA2S\\PDF_SCRAPPER\\MARKDOWN_DATA\\Emplacement CET non adapté.md already exists, skipping ... \n",
      "markdown D:\\upec\\IA2S\\PDF_SCRAPPER\\MARKDOWN_DATA\\Emplacement CET.md already exists, skipping ... \n",
      "markdown D:\\upec\\IA2S\\PDF_SCRAPPER\\MARKDOWN_DATA\\Encrassement couverture.md already exists, skipping ... \n",
      "markdown D:\\upec\\IA2S\\PDF_SCRAPPER\\MARKDOWN_DATA\\Encrassement toiture polycarbonate.md already exists, skipping ... \n",
      "markdown D:\\upec\\IA2S\\PDF_SCRAPPER\\MARKDOWN_DATA\\Encrassement unité extérieure climatisation.md already exists, skipping ... \n",
      "markdown D:\\upec\\IA2S\\PDF_SCRAPPER\\MARKDOWN_DATA\\EnergieSprong - La rénovation à énergie zéro.md already exists, skipping ... \n",
      "pdf D:\\pdf_data\\Enjeux énergétiques liés à l'éclairage artificiel.pdf not found, skipping ... \n",
      "markdown D:\\upec\\IA2S\\PDF_SCRAPPER\\MARKDOWN_DATA\\Entretien anticipé du bardage.md already exists, skipping ... \n",
      "markdown D:\\upec\\IA2S\\PDF_SCRAPPER\\MARKDOWN_DATA\\Entretien toiture polycarbonate.md already exists, skipping ... \n",
      "markdown D:\\upec\\IA2S\\PDF_SCRAPPER\\MARKDOWN_DATA\\Entrée d'air correctement positionnée.md already exists, skipping ... \n",
      "markdown D:\\upec\\IA2S\\PDF_SCRAPPER\\MARKDOWN_DATA\\Entrée d'air et lumière sans surchauffe.md already exists, skipping ... \n",
      "markdown D:\\upec\\IA2S\\PDF_SCRAPPER\\MARKDOWN_DATA\\Entrée d'air mal positionnée.md already exists, skipping ... \n",
      "markdown D:\\upec\\IA2S\\PDF_SCRAPPER\\MARKDOWN_DATA\\Entrée d'air obstruée par l'ITE.md already exists, skipping ... \n",
      "markdown D:\\upec\\IA2S\\PDF_SCRAPPER\\MARKDOWN_DATA\\Etanchéité à l'air.md already exists, skipping ... \n",
      "markdown D:\\upec\\IA2S\\PDF_SCRAPPER\\MARKDOWN_DATA\\Facilité d'accès au luminaire.md already exists, skipping ... \n",
      "pdf D:\\pdf_data\\Façades bois - Quelles solutions vis-à-vis du risque incendie ?.pdf not found, skipping ... \n",
      "markdown D:\\upec\\IA2S\\PDF_SCRAPPER\\MARKDOWN_DATA\\Fenêtres avec isolation thermique par l'extérieur - neuf et rénovation - 1.md already exists, skipping ... \n",
      "markdown D:\\upec\\IA2S\\PDF_SCRAPPER\\MARKDOWN_DATA\\Fenêtres avec isolation thermique par l'extérieur - neuf et rénovation - 2.md already exists, skipping ... \n",
      "markdown D:\\upec\\IA2S\\PDF_SCRAPPER\\MARKDOWN_DATA\\Fenêtres avec isolation thermique par l'extérieur - neuf et rénovation - 3.md already exists, skipping ... \n",
      "markdown D:\\upec\\IA2S\\PDF_SCRAPPER\\MARKDOWN_DATA\\Fenêtres avec isolation thermique par l'extérieur - neuf et rénovation - 4.md already exists, skipping ... \n",
      "markdown D:\\upec\\IA2S\\PDF_SCRAPPER\\MARKDOWN_DATA\\Fenêtres avec isolation thermique par l'extérieur - neuf et rénovation - 5.md already exists, skipping ... \n",
      "markdown D:\\upec\\IA2S\\PDF_SCRAPPER\\MARKDOWN_DATA\\Fenêtres avec isolation thermique par l'extérieur - neuf et rénovation - 6.md already exists, skipping ... \n",
      "pdf D:\\pdf_data\\Fenêtres : la filière suit l’évolution du bâtiment.pdf not found, skipping ... \n",
      "markdown D:\\upec\\IA2S\\PDF_SCRAPPER\\MARKDOWN_DATA\\Fiche d'application Ventilation naturelle de confort thermique RTAA DOM 2016.md already exists, skipping ... \n",
      "markdown D:\\upec\\IA2S\\PDF_SCRAPPER\\MARKDOWN_DATA\\Fiche de réception - CESI.md already exists, skipping ... \n",
      "markdown D:\\upec\\IA2S\\PDF_SCRAPPER\\MARKDOWN_DATA\\Fiche de réception - CET.md already exists, skipping ... \n",
      "markdown D:\\upec\\IA2S\\PDF_SCRAPPER\\MARKDOWN_DATA\\Fiche de réception - Chaudière Bûches.md already exists, skipping ... \n",
      "markdown D:\\upec\\IA2S\\PDF_SCRAPPER\\MARKDOWN_DATA\\Fiche de réception - Chaudière Gaz.md already exists, skipping ... \n",
      "markdown D:\\upec\\IA2S\\PDF_SCRAPPER\\MARKDOWN_DATA\\Fiche de réception - Chaudière Granulés.md already exists, skipping ... \n",
      "markdown D:\\upec\\IA2S\\PDF_SCRAPPER\\MARKDOWN_DATA\\Fiche de réception - Chaudière Hybride.md already exists, skipping ... \n",
      "markdown D:\\upec\\IA2S\\PDF_SCRAPPER\\MARKDOWN_DATA\\Fiche de réception - Chauffe-eau électrique.md already exists, skipping ... \n",
      "markdown D:\\upec\\IA2S\\PDF_SCRAPPER\\MARKDOWN_DATA\\Fiche de réception - Combles perdus.md already exists, skipping ... \n",
      "markdown D:\\upec\\IA2S\\PDF_SCRAPPER\\MARKDOWN_DATA\\Fiche de réception - Fenêtre de toit.md already exists, skipping ... \n",
      "markdown D:\\upec\\IA2S\\PDF_SCRAPPER\\MARKDOWN_DATA\\Fiche de réception - ITE Bardage.md already exists, skipping ... \n",
      "markdown D:\\upec\\IA2S\\PDF_SCRAPPER\\MARKDOWN_DATA\\Fiche de réception - ITE Enduit.md already exists, skipping ... \n",
      "markdown D:\\upec\\IA2S\\PDF_SCRAPPER\\MARKDOWN_DATA\\Fiche de réception - ITI.md already exists, skipping ... \n",
      "markdown D:\\upec\\IA2S\\PDF_SCRAPPER\\MARKDOWN_DATA\\Fiche de réception - Menuiserie extérieure.md already exists, skipping ... \n",
      "markdown D:\\upec\\IA2S\\PDF_SCRAPPER\\MARKDOWN_DATA\\Fiche de réception - PAC Air Air.md already exists, skipping ... \n",
      "markdown D:\\upec\\IA2S\\PDF_SCRAPPER\\MARKDOWN_DATA\\Fiche de réception - PAC Air Eau.md already exists, skipping ... \n",
      "markdown D:\\upec\\IA2S\\PDF_SCRAPPER\\MARKDOWN_DATA\\Fiche de réception - PAC Eau Eau.md already exists, skipping ... \n",
      "markdown D:\\upec\\IA2S\\PDF_SCRAPPER\\MARKDOWN_DATA\\Fiche de réception - Plancher panneaux.md already exists, skipping ... \n",
      "markdown D:\\upec\\IA2S\\PDF_SCRAPPER\\MARKDOWN_DATA\\Fiche de réception - Plancher projection.md already exists, skipping ... \n",
      "markdown D:\\upec\\IA2S\\PDF_SCRAPPER\\MARKDOWN_DATA\\Fiche de réception - Poêle Bûches.md already exists, skipping ... \n",
      "markdown D:\\upec\\IA2S\\PDF_SCRAPPER\\MARKDOWN_DATA\\Fiche de réception - Poêle Granulés.md already exists, skipping ... \n",
      "markdown D:\\upec\\IA2S\\PDF_SCRAPPER\\MARKDOWN_DATA\\Fiche de réception - Système Solaire Combiné (SSC).md already exists, skipping ... \n",
      "markdown D:\\upec\\IA2S\\PDF_SCRAPPER\\MARKDOWN_DATA\\Fiche de réception - Toiture Sarking.md already exists, skipping ... \n",
      "markdown D:\\upec\\IA2S\\PDF_SCRAPPER\\MARKDOWN_DATA\\Fiche de réception - Toiture terrasse.md already exists, skipping ... \n",
      "markdown D:\\upec\\IA2S\\PDF_SCRAPPER\\MARKDOWN_DATA\\Fiche de réception - VMC Double Flux.md already exists, skipping ... \n",
      "markdown D:\\upec\\IA2S\\PDF_SCRAPPER\\MARKDOWN_DATA\\Fiche de réception - VMC Simple Flux.md already exists, skipping ... \n",
      "markdown D:\\upec\\IA2S\\PDF_SCRAPPER\\MARKDOWN_DATA\\Fiche de réception - VMR.md already exists, skipping ... \n",
      "markdown D:\\upec\\IA2S\\PDF_SCRAPPER\\MARKDOWN_DATA\\Fiche de réception Chauffe-eau Gaz.md already exists, skipping ... \n",
      "markdown D:\\upec\\IA2S\\PDF_SCRAPPER\\MARKDOWN_DATA\\Fiche d’application RTAA DOM 2016 - Eau chaude sanitaire solaire - Août 2016.md already exists, skipping ... \n",
      "markdown D:\\upec\\IA2S\\PDF_SCRAPPER\\MARKDOWN_DATA\\Fiche d’application RTAA DOM 2016 - Protection contre les bruits extérieurs au bâtiment - Août 2016.md already exists, skipping ... \n",
      "markdown D:\\upec\\IA2S\\PDF_SCRAPPER\\MARKDOWN_DATA\\Fiche d’application RTAA DOM 2016 - Protection contre les bruits intérieurs au bâtiment - Août 2016 au bâtiment - Août 2016.md already exists, skipping ... \n",
      "markdown D:\\upec\\IA2S\\PDF_SCRAPPER\\MARKDOWN_DATA\\Fiche d’application RTAA DOM 2016 - Protection contre les rayonnements solaires - Août 2016.md already exists, skipping ... \n",
      "markdown D:\\upec\\IA2S\\PDF_SCRAPPER\\MARKDOWN_DATA\\Fiche d’application RTAA DOM 2016 - Ventilation d’hygiène - Août 2016.md already exists, skipping ... \n",
      "markdown D:\\upec\\IA2S\\PDF_SCRAPPER\\MARKDOWN_DATA\\Filtre à tamis.md already exists, skipping ... \n",
      "pdf D:\\pdf_data\\Focus Isolation thermique par l’extérieur – Finition enduit.pdf not found, skipping ... \n",
      "markdown D:\\upec\\IA2S\\PDF_SCRAPPER\\MARKDOWN_DATA\\Gestion des surchauffes et des apports de lumière naturelle apr des BSO.md already exists, skipping ... \n",
      "markdown D:\\upec\\IA2S\\PDF_SCRAPPER\\MARKDOWN_DATA\\Gestion des éblouissements par un sore.md already exists, skipping ... \n",
      "pdf D:\\pdf_data\\Gestion du facteur solaire sur les parois opaques.pdf not found, skipping ... \n",
      "pdf D:\\pdf_data\\Guide acoustique : améliorer l'acoustique des logements collectifs.pdf not found, skipping ... \n",
      "markdown D:\\upec\\IA2S\\PDF_SCRAPPER\\MARKDOWN_DATA\\Guide d'accompagnement du protocole Promevent.md already exists, skipping ... \n",
      "markdown D:\\upec\\IA2S\\PDF_SCRAPPER\\MARKDOWN_DATA\\Guide de la rénovation de parois à l’aide de matériaux biosourcés.md already exists, skipping ... \n",
      "markdown D:\\upec\\IA2S\\PDF_SCRAPPER\\MARKDOWN_DATA\\GUIDE KIT PHOTOVOLTAÏQUE AUTOCONSOMMATION PLUG & PLAY.md already exists, skipping ... \n",
      "pdf D:\\pdf_data\\Guide méthodologique : Réhabiliter le bâti picard en pan de bois.pdf not found, skipping ... \n",
      "pdf D:\\pdf_data\\Guide pour la mise en oeuvre de modules photovoltaïques en surimposition sur couverture en petits éléments - Neuf, Rénovation.pdf not found, skipping ... \n",
      "pdf D:\\pdf_data\\Guide pratique : Les groupements permanents d'entreprises.pdf not found, skipping ... \n",
      "pdf D:\\pdf_data\\Guide RAGE - Compteurs et capteurs, bonnes pratiques - neuf et rénovation.pdf not found, skipping ... \n",
      "pdf D:\\pdf_data\\Guide RAGE : Evaluation risques pathologies liées à l'humidité (poutres encastrées dans un mur extérieur avec ITI).pdf not found, skipping ... \n",
      "pdf D:\\pdf_data\\Guide RAGE : Isolation thermique par l'intérieur - Neuf.pdf not found, skipping ... \n",
      "pdf D:\\pdf_data\\Guide RAGE : Isolation thermique par l'intérieur - Rénovation.pdf not found, skipping ... \n",
      "pdf D:\\pdf_data\\Guide RAGE : Murs à coffrage et isolation intégrés - Neuf.pdf not found, skipping ... \n",
      "pdf D:\\pdf_data\\Guide RAGE : Systèmes photovoltaïques par modules rigides en toitures inclinées - Neuf et rénovation.pdf not found, skipping ... \n",
      "pdf D:\\pdf_data\\Guide technique : Rénovation du Bâti et biodiversité.pdf not found, skipping ... \n",
      "pdf D:\\pdf_data\\Génie climatique : l'évolution des solutions depuis 2000..pdf not found, skipping ... \n",
      "pdf D:\\pdf_data\\Génie climatique : L’évolution des solutions depuis 2000 - 2ième volet : ventilation et climatisation.pdf not found, skipping ... \n",
      "pdf D:\\pdf_data\\Géothermie de minime importance : de la réglementation aux règles de l'art.pdf not found, skipping ... \n",
      "markdown D:\\upec\\IA2S\\PDF_SCRAPPER\\MARKDOWN_DATA\\HCL, confort visuel et qualité des ambiances lumineuses.md already exists, skipping ... \n",
      "markdown D:\\upec\\IA2S\\PDF_SCRAPPER\\MARKDOWN_DATA\\Humidité dans la construction - 12 enseignements à connaître.md already exists, skipping ... \n",
      "markdown D:\\upec\\IA2S\\PDF_SCRAPPER\\MARKDOWN_DATA\\Implantation unité extérieur - vent.md already exists, skipping ... \n",
      "markdown D:\\upec\\IA2S\\PDF_SCRAPPER\\MARKDOWN_DATA\\Infiltration d'eau - Climatisation.md already exists, skipping ... \n",
      "markdown D:\\upec\\IA2S\\PDF_SCRAPPER\\MARKDOWN_DATA\\Infiltrations d’eau en cas de fortes pluies..md already exists, skipping ... \n",
      "markdown D:\\upec\\IA2S\\PDF_SCRAPPER\\MARKDOWN_DATA\\Installation de chauffage et d'eau chaude sanitaire  - 12 enseignements à connaître.md already exists, skipping ... \n",
      "pdf D:\\pdf_data\\Installations d'eau chaude sanitaire - Confort, prévention des risques et maîtrise des consommations - Neuf et Rénovation.pdf not found, skipping ... \n",
      "markdown D:\\upec\\IA2S\\PDF_SCRAPPER\\MARKDOWN_DATA\\Interface Chaudière - ITE.md already exists, skipping ... \n",
      "markdown D:\\upec\\IA2S\\PDF_SCRAPPER\\MARKDOWN_DATA\\Interface Combles - ITE.md already exists, skipping ... \n",
      "markdown D:\\upec\\IA2S\\PDF_SCRAPPER\\MARKDOWN_DATA\\Interface Isolation sous chape - ITI.md already exists, skipping ... \n",
      "markdown D:\\upec\\IA2S\\PDF_SCRAPPER\\MARKDOWN_DATA\\Interface ITE - Isolation de la toiture par l’extérieur (sarking) débord insuffisant.md already exists, skipping ... \n",
      "markdown D:\\upec\\IA2S\\PDF_SCRAPPER\\MARKDOWN_DATA\\Interface ITE - Isolation de la toiture par l’extérieur (sarking) débord maçonné.md already exists, skipping ... \n",
      "markdown D:\\upec\\IA2S\\PDF_SCRAPPER\\MARKDOWN_DATA\\Interface ITE - Isolation de la toiture par l’extérieur (sarking).md already exists, skipping ... \n",
      "markdown D:\\upec\\IA2S\\PDF_SCRAPPER\\MARKDOWN_DATA\\Interface ITE - rampants avec débord de toit maçonné.md already exists, skipping ... \n",
      "markdown D:\\upec\\IA2S\\PDF_SCRAPPER\\MARKDOWN_DATA\\Interface ITE avant isolation des rampants par l’intérieur - Cas d’une toiture en appui sur un mur extérieur.md already exists, skipping ... \n",
      "markdown D:\\upec\\IA2S\\PDF_SCRAPPER\\MARKDOWN_DATA\\Interface ITE- Menuiseries pose rénovation.md already exists, skipping ... \n",
      "markdown D:\\upec\\IA2S\\PDF_SCRAPPER\\MARKDOWN_DATA\\Interface ITE- Menuiseries volets battants.md already exists, skipping ... \n",
      "markdown D:\\upec\\IA2S\\PDF_SCRAPPER\\MARKDOWN_DATA\\Interface ITI - Isolation sous chape.md already exists, skipping ... \n",
      "markdown D:\\upec\\IA2S\\PDF_SCRAPPER\\MARKDOWN_DATA\\Interface ITI- Isolation de la toiture par l’extérieur (sarking).md already exists, skipping ... \n",
      "markdown D:\\upec\\IA2S\\PDF_SCRAPPER\\MARKDOWN_DATA\\Interface ITI- Menuiseries en applique.md already exists, skipping ... \n",
      "markdown D:\\upec\\IA2S\\PDF_SCRAPPER\\MARKDOWN_DATA\\Interface ITI- Menuiseries en tunnel.md already exists, skipping ... \n",
      "markdown D:\\upec\\IA2S\\PDF_SCRAPPER\\MARKDOWN_DATA\\Interface ITI- Menuiseries pose rénovation.md already exists, skipping ... \n",
      "markdown D:\\upec\\IA2S\\PDF_SCRAPPER\\MARKDOWN_DATA\\Interface Menuiseries en applique - ITI.md already exists, skipping ... \n",
      "markdown D:\\upec\\IA2S\\PDF_SCRAPPER\\MARKDOWN_DATA\\Interface Menuiseries en tunnel - ITI.md already exists, skipping ... \n",
      "markdown D:\\upec\\IA2S\\PDF_SCRAPPER\\MARKDOWN_DATA\\Interface Menuiseries volets roulants - ITE.md already exists, skipping ... \n",
      "markdown D:\\upec\\IA2S\\PDF_SCRAPPER\\MARKDOWN_DATA\\Interface Murs ITE - rampants avec débord de toit suffisant.md already exists, skipping ... \n",
      "markdown D:\\upec\\IA2S\\PDF_SCRAPPER\\MARKDOWN_DATA\\Interface Murs ITE - Toiture avec débord de toit suffisant.md already exists, skipping ... \n",
      "markdown D:\\upec\\IA2S\\PDF_SCRAPPER\\MARKDOWN_DATA\\Interface Murs ITI - Toiture avec faux plafond.md already exists, skipping ... \n",
      "markdown D:\\upec\\IA2S\\PDF_SCRAPPER\\MARKDOWN_DATA\\Interface PAC - Isolation périphérique.md already exists, skipping ... \n",
      "markdown D:\\upec\\IA2S\\PDF_SCRAPPER\\MARKDOWN_DATA\\Interface PAC - ITE.md already exists, skipping ... \n",
      "markdown D:\\upec\\IA2S\\PDF_SCRAPPER\\MARKDOWN_DATA\\Interface Poêle à bois - Isolation périphérique.md already exists, skipping ... \n",
      "markdown D:\\upec\\IA2S\\PDF_SCRAPPER\\MARKDOWN_DATA\\Interface Poêle à bois - Isolation sous chape.md already exists, skipping ... \n",
      "markdown D:\\upec\\IA2S\\PDF_SCRAPPER\\MARKDOWN_DATA\\Interface rampants - ITI.md already exists, skipping ... \n",
      "markdown D:\\upec\\IA2S\\PDF_SCRAPPER\\MARKDOWN_DATA\\Interface Rampants - VMC Double Flux.md already exists, skipping ... \n",
      "markdown D:\\upec\\IA2S\\PDF_SCRAPPER\\MARKDOWN_DATA\\Interface Toiture terrasse- ITE.md already exists, skipping ... \n",
      "pdf D:\\pdf_data\\Internet des objets : une alternative efficace à la GTB pour les petits bâtiments performants.pdf not found, skipping ... \n",
      "markdown D:\\upec\\IA2S\\PDF_SCRAPPER\\MARKDOWN_DATA\\Intervenir sur un chantier bois.md already exists, skipping ... \n",
      "markdown D:\\upec\\IA2S\\PDF_SCRAPPER\\MARKDOWN_DATA\\IOT & DIGITAL La rénovation de l'éclairage.md already exists, skipping ... \n",
      "pdf D:\\pdf_data\\ISOLANTS INNOVANTS EN RÉNOVATION : SOLUTIONS À BASE DE PANNEAUX ISOLANTS SOUS VIDE OU D'AÉROGEL.pdf not found, skipping ... \n",
      "markdown D:\\upec\\IA2S\\PDF_SCRAPPER\\MARKDOWN_DATA\\Isolation de la toiture d'une maison individuelle en Guyane.md already exists, skipping ... \n",
      "markdown D:\\upec\\IA2S\\PDF_SCRAPPER\\MARKDOWN_DATA\\Isolation des combles - Bonne pratique.md already exists, skipping ... \n",
      "markdown D:\\upec\\IA2S\\PDF_SCRAPPER\\MARKDOWN_DATA\\Isolation des combles - Non qualité.md already exists, skipping ... \n",
      "markdown D:\\upec\\IA2S\\PDF_SCRAPPER\\MARKDOWN_DATA\\Isolation des combles perdus par soufflage - Rapport thématique AQC - 12 enseignements à connaître.md already exists, skipping ... \n",
      "markdown D:\\upec\\IA2S\\PDF_SCRAPPER\\MARKDOWN_DATA\\Isolation des combles perdus par soufflage.md already exists, skipping ... \n",
      "markdown D:\\upec\\IA2S\\PDF_SCRAPPER\\MARKDOWN_DATA\\Isolation des toitures en Guyane - 12 enseignements à connaître.md already exists, skipping ... \n",
      "markdown D:\\upec\\IA2S\\PDF_SCRAPPER\\MARKDOWN_DATA\\Isolation du plancher bas - Bonne pratique.md already exists, skipping ... \n",
      "markdown D:\\upec\\IA2S\\PDF_SCRAPPER\\MARKDOWN_DATA\\Isolation du plancher bas - Non qualité.md already exists, skipping ... \n",
      "markdown D:\\upec\\IA2S\\PDF_SCRAPPER\\MARKDOWN_DATA\\Isolation en sous-face des planchers bas - 12 enseignements à connaitre.md already exists, skipping ... \n",
      "markdown D:\\upec\\IA2S\\PDF_SCRAPPER\\MARKDOWN_DATA\\Isolation par l'extérieur - Bonne pratique.md already exists, skipping ... \n",
      "markdown D:\\upec\\IA2S\\PDF_SCRAPPER\\MARKDOWN_DATA\\Isolation par l'extérieur - Non qualité.md already exists, skipping ... \n",
      "markdown D:\\upec\\IA2S\\PDF_SCRAPPER\\MARKDOWN_DATA\\Isolation par l'intérieur - Non qualité.md already exists, skipping ... \n",
      "markdown D:\\upec\\IA2S\\PDF_SCRAPPER\\MARKDOWN_DATA\\Isolation thermique de l'enveloppe.md already exists, skipping ... \n",
      "pdf D:\\pdf_data\\Isoler des rampants par insufflation de ouate de cellulose.pdf not found, skipping ... \n",
      "pdf D:\\pdf_data\\ITE Laine de roche calé/chevillé finition enduit.pdf not found, skipping ... \n",
      "markdown D:\\upec\\IA2S\\PDF_SCRAPPER\\MARKDOWN_DATA\\ITE PSE collé finition enduit.md already exists, skipping ... \n",
      "markdown D:\\upec\\IA2S\\PDF_SCRAPPER\\MARKDOWN_DATA\\ITE PSE fixé mécaniquement finition enduit.md already exists, skipping ... \n",
      "markdown D:\\upec\\IA2S\\PDF_SCRAPPER\\MARKDOWN_DATA\\Jonction membrane d'étanchéité à l'air et mur maçonné.md already exists, skipping ... \n",
      "markdown D:\\upec\\IA2S\\PDF_SCRAPPER\\MARKDOWN_DATA\\L'humidité dans les bâtiments à la réunion - 12 enseignements à connaître.md already exists, skipping ... \n",
      "markdown D:\\upec\\IA2S\\PDF_SCRAPPER\\MARKDOWN_DATA\\L'intelligence hydraulique - Guide pratique pour des installations performantes.md already exists, skipping ... \n",
      "pdf D:\\pdf_data\\L'interaction des matériaux avec la lumière.pdf not found, skipping ... \n",
      "markdown D:\\upec\\IA2S\\PDF_SCRAPPER\\MARKDOWN_DATA\\L'isolation des rampants en rénovation - 12 enseignements à connaître.md already exists, skipping ... \n",
      "pdf D:\\pdf_data\\L'isolation des rampants en rénovation [1/3].pdf not found, skipping ... \n",
      "pdf D:\\pdf_data\\L'isolation des rampants en rénovation [2/3].pdf not found, skipping ... \n",
      "pdf D:\\pdf_data\\L'isolation des rampants en rénovation [3/3].pdf not found, skipping ... \n",
      "pdf D:\\pdf_data\\L'isolation des rampants en rénovation.pdf not found, skipping ... \n",
      "pdf D:\\pdf_data\\L'isolation en sous-face des planchers bas en rénovation [1/3].pdf not found, skipping ... \n",
      "pdf D:\\pdf_data\\L'isolation en sous-face des planchers bas en rénovation [2/3].pdf not found, skipping ... \n",
      "pdf D:\\pdf_data\\L'isolation en sous-face des planchers bas en rénovation [3/3].pdf not found, skipping ... \n",
      "pdf D:\\pdf_data\\L'isolation en sous-face des planchers bas.pdf not found, skipping ... \n",
      "pdf D:\\pdf_data\\L'isolation thermique par l'extérieur en rénovation.pdf not found, skipping ... \n",
      "markdown D:\\upec\\IA2S\\PDF_SCRAPPER\\MARKDOWN_DATA\\L'ITE en rénovation - 12 enseignements à connaître.md already exists, skipping ... \n",
      "pdf D:\\pdf_data\\L'ITE en rénovation [1/3].pdf not found, skipping ... \n",
      "pdf D:\\pdf_data\\L'ITE en rénovation [2/3].pdf not found, skipping ... \n",
      "pdf D:\\pdf_data\\L'ITE en rénovation [3/3].pdf not found, skipping ... \n",
      "markdown D:\\upec\\IA2S\\PDF_SCRAPPER\\MARKDOWN_DATA\\L'usage du bois dans les bâtiments à La Réunion – 12 enseignements à connaître.md already exists, skipping ... \n",
      "pdf D:\\pdf_data\\L'éclairage artificiel en rénovation [1/3].pdf not found, skipping ... \n",
      "pdf D:\\pdf_data\\L'éclairage artificiel en rénovation [2/3].pdf not found, skipping ... \n",
      "pdf D:\\pdf_data\\L'éclairage artificiel en rénovation [3/3].pdf not found, skipping ... \n",
      "pdf D:\\pdf_data\\L'éclairage artificiel en rénovation.pdf not found, skipping ... \n",
      "markdown D:\\upec\\IA2S\\PDF_SCRAPPER\\MARKDOWN_DATA\\La couverture végétale ne se développe pas.md already exists, skipping ... \n",
      "markdown D:\\upec\\IA2S\\PDF_SCRAPPER\\MARKDOWN_DATA\\LA DÉMARCHE COÛT GLOBAL, UNE APPROCHE RESPONSABLE.md already exists, skipping ... \n",
      "markdown D:\\upec\\IA2S\\PDF_SCRAPPER\\MARKDOWN_DATA\\La paille, un matériaux écologique, économique et légitimé.md already exists, skipping ... \n",
      "markdown D:\\upec\\IA2S\\PDF_SCRAPPER\\MARKDOWN_DATA\\La Pompe à chaleur, des solutions disponibles en habitat collectif.md already exists, skipping ... \n",
      "markdown D:\\upec\\IA2S\\PDF_SCRAPPER\\MARKDOWN_DATA\\La réhabilitation en Guyane - 12 enseignements à connaître.md already exists, skipping ... \n",
      "markdown D:\\upec\\IA2S\\PDF_SCRAPPER\\MARKDOWN_DATA\\La rénovation performante par étape (synthèse).md already exists, skipping ... \n",
      "markdown D:\\upec\\IA2S\\PDF_SCRAPPER\\MARKDOWN_DATA\\LA RÉVOLUTION LED - LA RÉNOVATION DE L’ÉCLAIRAGE.md already exists, skipping ... \n",
      "markdown D:\\upec\\IA2S\\PDF_SCRAPPER\\MARKDOWN_DATA\\La ventilation double flux en rénovation - 12 enseignements à connaître.md already exists, skipping ... \n",
      "pdf D:\\pdf_data\\La ventilation double flux en rénovation [1/3].pdf not found, skipping ... \n",
      "pdf D:\\pdf_data\\La ventilation double flux en rénovation [2/3].pdf not found, skipping ... \n",
      "pdf D:\\pdf_data\\La ventilation double flux en rénovation [3/3].pdf not found, skipping ... \n",
      "pdf D:\\pdf_data\\La ventilation double flux en rénovation.pdf not found, skipping ... \n",
      "markdown D:\\upec\\IA2S\\PDF_SCRAPPER\\MARKDOWN_DATA\\La ventilation naturelle à la Réunion - 12 enseignements à connaître.md already exists, skipping ... \n",
      "pdf D:\\pdf_data\\La ventilation simple flux en rénovation [1/3].pdf not found, skipping ... \n",
      "pdf D:\\pdf_data\\La ventilation simple flux en rénovation [2/3].pdf not found, skipping ... \n",
      "pdf D:\\pdf_data\\La ventilation simple flux en rénovation [3/3].pdf not found, skipping ... \n",
      "pdf D:\\pdf_data\\La ventilation simple flux en rénovation.pdf not found, skipping ... \n",
      "markdown D:\\upec\\IA2S\\PDF_SCRAPPER\\MARKDOWN_DATA\\La ventouse de la chaudière gaz est sous la terrasse.md already exists, skipping ... \n",
      "markdown D:\\upec\\IA2S\\PDF_SCRAPPER\\MARKDOWN_DATA\\La végétation empiète sur les voies d’accès.md already exists, skipping ... \n",
      "markdown D:\\upec\\IA2S\\PDF_SCRAPPER\\MARKDOWN_DATA\\Laine de laitier projetée - un NF DTU réactualisé.md already exists, skipping ... \n",
      "markdown D:\\upec\\IA2S\\PDF_SCRAPPER\\MARKDOWN_DATA\\Lame d'air ITE.md already exists, skipping ... \n",
      "markdown D:\\upec\\IA2S\\PDF_SCRAPPER\\MARKDOWN_DATA\\Le BIM investit le chantier grâce à la réalité augmentée..md already exists, skipping ... \n",
      "pdf D:\\pdf_data\\Le BIM: quelle appropriation par la filière?  - 12 enseignements à connaître.pdf not found, skipping ... \n",
      "pdf D:\\pdf_data\\Le bois de chauffage - Choisis le bon matériel comme Peter !.pdf not found, skipping ... \n",
      "markdown D:\\upec\\IA2S\\PDF_SCRAPPER\\MARKDOWN_DATA\\Le conduit d'extraction des produits de combustion est mal fixé et mal assemblé.md already exists, skipping ... \n",
      "markdown D:\\upec\\IA2S\\PDF_SCRAPPER\\MARKDOWN_DATA\\Le terminal ventouse gaz a été déporté et le débouché s'effectue bien au nez du surplomb du balcon..md already exists, skipping ... \n",
      "markdown D:\\upec\\IA2S\\PDF_SCRAPPER\\MARKDOWN_DATA\\Les bâtiments performants aux antilles - 12 enseignements à connaître.md already exists, skipping ... \n",
      "pdf D:\\pdf_data\\LES CHAUDIÈRES À GRANULÉS EN MAISON INDIVIDUELLE - CONCEPTION ET DIMENSIONNEMENT.pdf not found, skipping ... \n",
      "pdf D:\\pdf_data\\LES CHAUDIÈRES À GRANULÉS EN MAISON INDIVIDUELLE - ENTRETIEN ET MAINTENANCE.pdf not found, skipping ... \n",
      "pdf D:\\pdf_data\\LES CHAUDIÈRES À GRANULÉS EN MAISON INDIVIDUELLE - MISE EN ŒUVRE ET MISE EN SERVICE.pdf not found, skipping ... \n",
      "pdf D:\\pdf_data\\Les chaufferies au Bois - Neuf et Rénovation - Guide RAGE.pdf not found, skipping ... \n",
      "markdown D:\\upec\\IA2S\\PDF_SCRAPPER\\MARKDOWN_DATA\\Les différentes origines d'humidité dans un mur.md already exists, skipping ... \n",
      "markdown D:\\upec\\IA2S\\PDF_SCRAPPER\\MARKDOWN_DATA\\Les pompes à chaleur et la qualité de l'eau.md already exists, skipping ... \n",
      "pdf D:\\pdf_data\\LES SOLUTIONS DE RAFRAICHISSEMENT ADIABATIQUE DANS LES BÂTIMENTS TERTIAIRES EN RÉNOVATION.pdf not found, skipping ... \n",
      "markdown D:\\upec\\IA2S\\PDF_SCRAPPER\\MARKDOWN_DATA\\Longueurs de conduits du CET hétérogènes.md already exists, skipping ... \n",
      "pdf D:\\pdf_data\\Lumière et protection solaire des ouvertures.pdf not found, skipping ... \n",
      "markdown D:\\upec\\IA2S\\PDF_SCRAPPER\\MARKDOWN_DATA\\Légionelles - Protéger les réseaux d'eau chaude... mais aussi d'eau froide.md already exists, skipping ... \n",
      "markdown D:\\upec\\IA2S\\PDF_SCRAPPER\\MARKDOWN_DATA\\L’isolation  des façades face au risque incendie.md already exists, skipping ... \n",
      "pdf D:\\pdf_data\\L’isolation de combles perdus par soufflage de ouate de cellulose selon le NF DTU 45.11.pdf not found, skipping ... \n",
      "pdf D:\\pdf_data\\Maintenance: les solutions numériques, gains de productivité.pdf not found, skipping ... \n",
      "pdf D:\\pdf_data\\Manifestations de la pathologie : Les défauts d'isolation acoustique.pdf not found, skipping ... \n",
      "markdown D:\\upec\\IA2S\\PDF_SCRAPPER\\MARKDOWN_DATA\\Menuiseries extérieures - Mieux connaître l’origine des désordres.md already exists, skipping ... \n",
      "markdown D:\\upec\\IA2S\\PDF_SCRAPPER\\MARKDOWN_DATA\\Migration d’humidité et de vapeur d’eau dans les parois du bâti ancien.md already exists, skipping ... \n",
      "markdown D:\\upec\\IA2S\\PDF_SCRAPPER\\MARKDOWN_DATA\\Mise en place d'une nouvelle installation de chauffage.md already exists, skipping ... \n",
      "markdown D:\\upec\\IA2S\\PDF_SCRAPPER\\MARKDOWN_DATA\\Mise en place de nouvelles menuiseries.md already exists, skipping ... \n",
      "markdown D:\\upec\\IA2S\\PDF_SCRAPPER\\MARKDOWN_DATA\\Mise en place d’une VMC simple flux en rénovation.md already exists, skipping ... \n",
      "pdf D:\\pdf_data\\Mise en œuvre d'une VMC simple flux.pdf not found, skipping ... \n",
      "pdf D:\\pdf_data\\Murs doubles avec ITE  : Actualiser le NF DTU 20.1 pour satisfaire la RT 2012.pdf not found, skipping ... \n",
      "pdf D:\\pdf_data\\Mémento : Clauses sensibles du contrat de performance énergétique.pdf not found, skipping ... \n",
      "markdown D:\\upec\\IA2S\\PDF_SCRAPPER\\MARKDOWN_DATA\\Méthodes de détection des dysfonctionnements électriques des installations photovoltaïques.md already exists, skipping ... \n",
      "pdf D:\\pdf_data\\Note technique Arcanne \"ITE\".pdf not found, skipping ... \n",
      "markdown D:\\upec\\IA2S\\PDF_SCRAPPER\\MARKDOWN_DATA\\OUTRE MER -  Adapter les bâtiments au changement climatique.md already exists, skipping ... \n",
      "markdown D:\\upec\\IA2S\\PDF_SCRAPPER\\MARKDOWN_DATA\\PAC - Système à ballon intégré.md already exists, skipping ... \n",
      "markdown D:\\upec\\IA2S\\PDF_SCRAPPER\\MARKDOWN_DATA\\PAC - Système à ballon séparé.md already exists, skipping ... \n",
      "markdown D:\\upec\\IA2S\\PDF_SCRAPPER\\MARKDOWN_DATA\\PAC implantation au sol - champ libre.md already exists, skipping ... \n",
      "markdown D:\\upec\\IA2S\\PDF_SCRAPPER\\MARKDOWN_DATA\\PAC implantation au sol - contre un mur.md already exists, skipping ... \n",
      "markdown D:\\upec\\IA2S\\PDF_SCRAPPER\\MARKDOWN_DATA\\PAC implantation au sol - dans un coin.md already exists, skipping ... \n",
      "markdown D:\\upec\\IA2S\\PDF_SCRAPPER\\MARKDOWN_DATA\\PAC implantation extérieure.md already exists, skipping ... \n",
      "markdown D:\\upec\\IA2S\\PDF_SCRAPPER\\MARKDOWN_DATA\\Panneaux solaires thermiques -  BONNE PRATIQUE.md already exists, skipping ... \n",
      "markdown D:\\upec\\IA2S\\PDF_SCRAPPER\\MARKDOWN_DATA\\Panneaux solaires thermiques -  NON QUALITE.md already exists, skipping ... \n",
      "markdown D:\\upec\\IA2S\\PDF_SCRAPPER\\MARKDOWN_DATA\\Panneaux solaires thermiques - accessibilité - Bonne pratique.md already exists, skipping ... \n",
      "markdown D:\\upec\\IA2S\\PDF_SCRAPPER\\MARKDOWN_DATA\\Panneaux solaires thermiques - accessibilité - Non qualité.md already exists, skipping ... \n",
      "markdown D:\\upec\\IA2S\\PDF_SCRAPPER\\MARKDOWN_DATA\\Panneaux solaires thermiques - Bonne Pratique.md already exists, skipping ... \n",
      "markdown D:\\upec\\IA2S\\PDF_SCRAPPER\\MARKDOWN_DATA\\Panneaux solaires thermiques - Non qualité.md already exists, skipping ... \n",
      "pdf D:\\pdf_data\\Parois opaques  - Les matériaux bio-sourcés dans la construction.pdf not found, skipping ... \n",
      "pdf D:\\pdf_data\\Parois opaques - 12 enseignements construction bois.pdf not found, skipping ... \n",
      "markdown D:\\upec\\IA2S\\PDF_SCRAPPER\\MARKDOWN_DATA\\Parois opaques - Isolants bio-sourcés - 12 enseignements à connaître.md already exists, skipping ... \n",
      "pdf D:\\pdf_data\\Parois opaques - Isolants bio-sourcés : Points de vigilance.pdf not found, skipping ... \n",
      "pdf D:\\pdf_data\\Parois opaques - Isolants biosourcés dans les départements d'Outre-Mer.pdf not found, skipping ... \n",
      "pdf D:\\pdf_data\\Parois opaques - Isolation d'un plancher bas avec un béton chaux liège.pdf not found, skipping ... \n",
      "pdf D:\\pdf_data\\Parois opaques - L'étanchéité à l'air - Projet Réhafutur CD2E.pdf not found, skipping ... \n",
      "markdown D:\\upec\\IA2S\\PDF_SCRAPPER\\MARKDOWN_DATA\\Parois opaques - La construction bois - 12 enseignements à connaître.md already exists, skipping ... \n",
      "pdf D:\\pdf_data\\Parois opaques - La trappe d'accès aux combles - écoTravo* - Astuce 5.pdf not found, skipping ... \n",
      "pdf D:\\pdf_data\\Parois opaques - Le comportement et l'apport des éco-matériaux - Projet Réhafutur CD2E.pdf not found, skipping ... \n",
      "pdf D:\\pdf_data\\Parois opaques - Le confort d'été - Projet Réhafutur CD2E.pdf not found, skipping ... \n",
      "pdf D:\\pdf_data\\Parois opaques - Le traitement du bâti ancien - Projet Réhafutur CD2E.pdf not found, skipping ... \n",
      "pdf D:\\pdf_data\\Parois opaques - Les rampants des combles perdus - écoTravo* - Astuce 8.pdf not found, skipping ... \n",
      "pdf D:\\pdf_data\\Parois opaques - mars 2019 - CONSTRUCTION ET RÉHABILITATION EN TERRE CRUE : POINTS DE VIGILANCE.pdf not found, skipping ... \n",
      "pdf D:\\pdf_data\\Parois opaques - Mise en oeuvre d'un hérisson ventilé.pdf not found, skipping ... \n",
      "pdf D:\\pdf_data\\Parois opaques - Mise en oeuvre d'une forme isolante Chaux-Chanvre.pdf not found, skipping ... \n",
      "pdf D:\\pdf_data\\Parois opaques - Ponts thermiques - Projet Réhafutur CD2E.pdf not found, skipping ... \n",
      "pdf D:\\pdf_data\\Parois opaques - Quelle pérennité de la perméabilité à l'air des maisons BBC en Normandie ?.pdf not found, skipping ... \n",
      "pdf D:\\pdf_data\\Parois opaques - Réaliser une correction thermique par enduit Chaux-Chanvre - Envirobat Centre.pdf not found, skipping ... \n",
      "markdown D:\\upec\\IA2S\\PDF_SCRAPPER\\MARKDOWN_DATA\\Parois opaques - Synthèse  bibliographique des études sur la rénovation thermique du bâti ancien à l’aide de matériaux biosourcés.md already exists, skipping ... \n",
      "markdown D:\\upec\\IA2S\\PDF_SCRAPPER\\MARKDOWN_DATA\\Parois opaques - Végétalisation du bâti existant - 12 enseignements à connaître.md already exists, skipping ... \n",
      "pdf D:\\pdf_data\\Parois opaques : Planchers bas - Comment isoler leur sous-face ?.pdf not found, skipping ... \n",
      "pdf D:\\pdf_data\\Parois vitrrées - La surchauffe d'été - écoTravo* - Astuce 3.pdf not found, skipping ... \n",
      "pdf D:\\pdf_data\\Parois vitrées - 12 enseignements ambiance lumineuse.pdf not found, skipping ... \n",
      "pdf D:\\pdf_data\\Parois vitrées - 12 enseignements.pdf not found, skipping ... \n",
      "pdf D:\\pdf_data\\Parois vitrées - L'étanchéité à l'air - Projet Réhafutur CD2E.pdf not found, skipping ... \n",
      "markdown D:\\upec\\IA2S\\PDF_SCRAPPER\\MARKDOWN_DATA\\Parois vitrées - Les menuiseries extérieures - 12 enseignements à connaître.md already exists, skipping ... \n",
      "markdown D:\\upec\\IA2S\\PDF_SCRAPPER\\MARKDOWN_DATA\\Parois vitrées - Plus de performances et d'intelligence au bénéfice du confort.md already exists, skipping ... \n",
      "markdown D:\\upec\\IA2S\\PDF_SCRAPPER\\MARKDOWN_DATA\\Parois vitrées - Poignée de la menuiserie difficilement accessible - Bonne Pratique.md already exists, skipping ... \n",
      "pdf D:\\pdf_data\\Parois vitrées - Ponts thermiques - Projet Réhafutur CD2E.pdf not found, skipping ... \n",
      "markdown D:\\upec\\IA2S\\PDF_SCRAPPER\\MARKDOWN_DATA\\Parois vitrées - Protection solaire - Bonne pratique.md already exists, skipping ... \n",
      "markdown D:\\upec\\IA2S\\PDF_SCRAPPER\\MARKDOWN_DATA\\Parois vitrées - Protection solaire végétalisée - Bonne pratique.md already exists, skipping ... \n",
      "markdown D:\\upec\\IA2S\\PDF_SCRAPPER\\MARKDOWN_DATA\\Passage de réseau et membrane d'étanchéité à l'air.md already exists, skipping ... \n",
      "markdown D:\\upec\\IA2S\\PDF_SCRAPPER\\MARKDOWN_DATA\\Percement membrane d'étanchéité à l'air.md already exists, skipping ... \n",
      "pdf D:\\pdf_data\\Perf in mind : rénovation performante de maisons individuelles.pdf not found, skipping ... \n",
      "pdf D:\\pdf_data\\Performance environnementale : comprendre le facteur humain.pdf not found, skipping ... \n",
      "markdown D:\\upec\\IA2S\\PDF_SCRAPPER\\MARKDOWN_DATA\\Performances réelles de poêles à granulés.md already exists, skipping ... \n",
      "markdown D:\\upec\\IA2S\\PDF_SCRAPPER\\MARKDOWN_DATA\\Perte d'étanchéité tube sous vide.md already exists, skipping ... \n",
      "markdown D:\\upec\\IA2S\\PDF_SCRAPPER\\MARKDOWN_DATA\\Photovoltaïque - Quelles méthodes de détection des dysfonctionnements électriques.md already exists, skipping ... \n",
      "markdown D:\\upec\\IA2S\\PDF_SCRAPPER\\MARKDOWN_DATA\\Photovoltaïque en autoconsommation.md already exists, skipping ... \n",
      "pdf D:\\pdf_data\\Photovoltaïque : les enseignements d’une étude sur les dysfonctionnements électriques.pdf not found, skipping ... \n",
      "pdf D:\\pdf_data\\Photovoltaïque : risques, bons réflexes et assurance.pdf not found, skipping ... \n",
      "pdf D:\\pdf_data\\Pilotage - 12 enseignements.pdf not found, skipping ... \n",
      "markdown D:\\upec\\IA2S\\PDF_SCRAPPER\\MARKDOWN_DATA\\Pilotage - Bâtiments équipés de systèmes de pilotage - 12 enseignements à connaître.md already exists, skipping ... \n",
      "markdown D:\\upec\\IA2S\\PDF_SCRAPPER\\MARKDOWN_DATA\\Places de parking végétalisées avec des dalles perméables.md already exists, skipping ... \n",
      "markdown D:\\upec\\IA2S\\PDF_SCRAPPER\\MARKDOWN_DATA\\Plan d'étanchéité à l'air - Bonne pratique.md already exists, skipping ... \n",
      "markdown D:\\upec\\IA2S\\PDF_SCRAPPER\\MARKDOWN_DATA\\Plan d'étanchéité à l'air - Bonne qualité.md already exists, skipping ... \n",
      "markdown D:\\upec\\IA2S\\PDF_SCRAPPER\\MARKDOWN_DATA\\Plan d'étanchéité à l'air - Non qualité.md already exists, skipping ... \n",
      "markdown D:\\upec\\IA2S\\PDF_SCRAPPER\\MARKDOWN_DATA\\Plantation de végétaux aux abords d’un bâtiment.md already exists, skipping ... \n",
      "markdown D:\\upec\\IA2S\\PDF_SCRAPPER\\MARKDOWN_DATA\\Plaquettes bois humides.md already exists, skipping ... \n",
      "markdown D:\\upec\\IA2S\\PDF_SCRAPPER\\MARKDOWN_DATA\\Point chaud unité extérieure.md already exists, skipping ... \n",
      "pdf D:\\pdf_data\\Pompe à chaleur air extérieur / air intérieur en éléments avec unités intérieures à émission directe.pdf not found, skipping ... \n",
      "pdf D:\\pdf_data\\Pompe à chaleur air extérieur / air intérieur en éléments séparés avec réseau aéraulique.pdf not found, skipping ... \n",
      "pdf D:\\pdf_data\\Pompe à chaleur air extérieur / air intérieur monobloc intérieure.pdf not found, skipping ... \n",
      "pdf D:\\pdf_data\\Pompe à chaleur air extérieur / air intérieur à débit de réfrigérant variable (DRV).pdf not found, skipping ... \n",
      "pdf D:\\pdf_data\\Pompe à chaleur air extérieur/eau en éléments séparés (bibloc).pdf not found, skipping ... \n",
      "pdf D:\\pdf_data\\Pompe à chaleur air extérieur/eau monobloc extérieure.pdf not found, skipping ... \n",
      "pdf D:\\pdf_data\\Pompe à chaleur air extérieur/eau monobloc intérieure.pdf not found, skipping ... \n",
      "markdown D:\\upec\\IA2S\\PDF_SCRAPPER\\MARKDOWN_DATA\\Pompe à chaleur en rénovation - 12 enseignements à connaître.md already exists, skipping ... \n",
      "pdf D:\\pdf_data\\Pompe à chaleur en rénovation [1/3].pdf not found, skipping ... \n",
      "pdf D:\\pdf_data\\Pompe à chaleur en rénovation [2/3].pdf not found, skipping ... \n",
      "pdf D:\\pdf_data\\Pompe à chaleur en rénovation [3/3].pdf not found, skipping ... \n",
      "pdf D:\\pdf_data\\Pompe à chaleur en rénovation.pdf not found, skipping ... \n",
      "pdf D:\\pdf_data\\Pompes à absorption au gaz naturel - neuf et rénovation - conception et dimensionnement.pdf not found, skipping ... \n",
      "pdf D:\\pdf_data\\Pompes à chaleur air extérieur / eau en habitat individuel - 1.pdf not found, skipping ... \n",
      "pdf D:\\pdf_data\\Pompes à chaleur air extérieur / eau en habitat individuel - 2.pdf not found, skipping ... \n",
      "pdf D:\\pdf_data\\Pompes à chaleur air extérieur / eau en habitat individuel - 3.pdf not found, skipping ... \n",
      "pdf D:\\pdf_data\\Pompes à chaleur air extérieur / eau en habitat individuel - 4.pdf not found, skipping ... \n",
      "pdf D:\\pdf_data\\Pompes à chaleur air extérieur / eau en habitat individuel - 5.pdf not found, skipping ... \n",
      "markdown D:\\upec\\IA2S\\PDF_SCRAPPER\\MARKDOWN_DATA\\Pompes à chaleur géothermiques en habitat individuel - capteurs horizontaux.md already exists, skipping ... \n",
      "markdown D:\\upec\\IA2S\\PDF_SCRAPPER\\MARKDOWN_DATA\\Pompes à chaleur géothermiques en habitat individuel - capteurs verticaux.md already exists, skipping ... \n",
      "markdown D:\\upec\\IA2S\\PDF_SCRAPPER\\MARKDOWN_DATA\\Pompes à chaleur géothermiques en habitat individuel - implantation.md already exists, skipping ... \n",
      "markdown D:\\upec\\IA2S\\PDF_SCRAPPER\\MARKDOWN_DATA\\Pompes à chaleur géothermiques en habitat individuel - installation des capteurs enterrés.md already exists, skipping ... \n",
      "markdown D:\\upec\\IA2S\\PDF_SCRAPPER\\MARKDOWN_DATA\\Pompes à chaleur géothermiques en habitat individuel - les collecteurs.md already exists, skipping ... \n",
      "markdown D:\\upec\\IA2S\\PDF_SCRAPPER\\MARKDOWN_DATA\\Pompes à chaleur géothermiques en habitat individuel - pénétration dans le bâtiment.md already exists, skipping ... \n",
      "markdown D:\\upec\\IA2S\\PDF_SCRAPPER\\MARKDOWN_DATA\\Pompes à chaleur géothermiques en habitat individuel - schéma hydraulique PAC sur nappe aquifère.md already exists, skipping ... \n",
      "markdown D:\\upec\\IA2S\\PDF_SCRAPPER\\MARKDOWN_DATA\\Pompes à chaleur géothermiques en habitat individuel sur nappe aquifère.md already exists, skipping ... \n",
      "pdf D:\\pdf_data\\Pompes à chaleur : un NF DTU pour gérer leur installation.pdf not found, skipping ... \n",
      "markdown D:\\upec\\IA2S\\PDF_SCRAPPER\\MARKDOWN_DATA\\Pont thermique isolant structure.md already exists, skipping ... \n",
      "markdown D:\\upec\\IA2S\\PDF_SCRAPPER\\MARKDOWN_DATA\\Pot à boue.md already exists, skipping ... \n",
      "pdf D:\\pdf_data\\Pourquoi faut-il bien ventiler son logement ?.pdf not found, skipping ... \n",
      "markdown D:\\upec\\IA2S\\PDF_SCRAPPER\\MARKDOWN_DATA\\Principe de fonctionnement d'une Ventilation Mécanique Répartie (VMR).md already exists, skipping ... \n",
      "markdown D:\\upec\\IA2S\\PDF_SCRAPPER\\MARKDOWN_DATA\\Prise et rejet d'air CET trop proche.md already exists, skipping ... \n",
      "markdown D:\\upec\\IA2S\\PDF_SCRAPPER\\MARKDOWN_DATA\\Prise et rejet d'air CET trop proches.md already exists, skipping ... \n",
      "markdown D:\\upec\\IA2S\\PDF_SCRAPPER\\MARKDOWN_DATA\\Procédé d'isolation thermique extérieure par enduit sur polystyrène expansé - 1.md already exists, skipping ... \n",
      "markdown D:\\upec\\IA2S\\PDF_SCRAPPER\\MARKDOWN_DATA\\Procédé d'isolation thermique extérieure par enduit sur polystyrène expansé - 2.md already exists, skipping ... \n",
      "markdown D:\\upec\\IA2S\\PDF_SCRAPPER\\MARKDOWN_DATA\\Procédé d'isolation thermique extérieure par enduit sur polystyrène expansé - 3.md already exists, skipping ... \n",
      "markdown D:\\upec\\IA2S\\PDF_SCRAPPER\\MARKDOWN_DATA\\Procédé d'isolation thermique extérieure par enduit sur polystyrène expansé - 4.md already exists, skipping ... \n",
      "markdown D:\\upec\\IA2S\\PDF_SCRAPPER\\MARKDOWN_DATA\\Procédé d'isolation thermique extérieure par enduit sur polystyrène expansé - 5.md already exists, skipping ... \n",
      "pdf D:\\pdf_data\\Procédés d’isolation thermique extérieure par enduit sur polystyrène expansé emploi et mise en œuvre.pdf not found, skipping ... \n",
      "pdf D:\\pdf_data\\Production d'électricité - Autoconsommation Photovoltaïque citoyenne à l'horizon 2020 (APC2020).pdf not found, skipping ... \n",
      "pdf D:\\pdf_data\\Production d'électricité - Installations photovoltaïques en autoconsommation - Neuf - Rénovation.pdf not found, skipping ... \n",
      "markdown D:\\upec\\IA2S\\PDF_SCRAPPER\\MARKDOWN_DATA\\Production d'électricité - Panneaux photovoltaïques - Percement du voile d'étanchéité - Non qualité.md already exists, skipping ... \n",
      "markdown D:\\upec\\IA2S\\PDF_SCRAPPER\\MARKDOWN_DATA\\Production d'électricité - Photovoltaïque et autoconsommation – 12 enseignements à connaître.md already exists, skipping ... \n",
      "pdf D:\\pdf_data\\Production électricité - Panneaux photovoltaïques : état des lieux des pathologies.pdf not found, skipping ... \n",
      "markdown D:\\upec\\IA2S\\PDF_SCRAPPER\\MARKDOWN_DATA\\Profilé de départ ITE sous dimensionné.md already exists, skipping ... \n",
      "converting D:\\pdf_data\\Promevent (2016) - Protocole de Diagnostic des installations de ventilation mécanique résidentielles..pdf to markdown ...\n"
     ]
    },
    {
     "name": "stderr",
     "output_type": "stream",
     "text": [
      "Recognizing layout: 100%|██████████| 8/8 [00:08<00:00,  1.07s/it]\n",
      "100%|██████████| 8/8 [00:00<00:00, 47.87it/s]\n",
      "Detecting bboxes: 0it [00:00, ?it/s]\n",
      "Recognizing equations: 100%|██████████| 1/1 [00:00<00:00,  1.13it/s]\n",
      "Detecting bboxes: 0it [00:00, ?it/s]\n",
      "Recognizing tables: 100%|██████████| 5/5 [00:08<00:00,  1.79s/it]\n",
      " 76%|███████▌  | 585/773 [00:26<00:08, 22.49it/s]"
     ]
    },
    {
     "name": "stdout",
     "output_type": "stream",
     "text": [
      "Overflow in columns: 6 >= 6\n",
      "markdown D:\\upec\\IA2S\\PDF_SCRAPPER\\MARKDOWN_DATA\\Protection de chantier non étanche.md already exists, skipping ... \n",
      "markdown D:\\upec\\IA2S\\PDF_SCRAPPER\\MARKDOWN_DATA\\Protection de chantier étanche.md already exists, skipping ... \n",
      "converting D:\\pdf_data\\Protections solaires des façades en climat tropical - 12 enseignements à connaître.pdf to markdown ...\n"
     ]
    },
    {
     "name": "stderr",
     "output_type": "stream",
     "text": [
      "Recognizing layout: 100%|██████████| 5/5 [00:05<00:00,  1.07s/it]\n",
      "100%|██████████| 5/5 [00:00<00:00, 54.63it/s]\n",
      "Detecting bboxes: 0it [00:00, ?it/s]\n",
      "Recognizing equations: 0it [00:00, ?it/s]\n",
      "Detecting bboxes: 0it [00:00, ?it/s]\n",
      "Recognizing tables: 100%|██████████| 1/1 [00:00<00:00,  1.22it/s]\n",
      " 76%|███████▌  | 588/773 [00:43<00:15, 11.63it/s]"
     ]
    },
    {
     "name": "stdout",
     "output_type": "stream",
     "text": [
      "converting D:\\pdf_data\\Protections solaires et toitures en climat tropical - 12 enseignements à connaître.pdf to markdown ...\n"
     ]
    },
    {
     "name": "stderr",
     "output_type": "stream",
     "text": [
      "Recognizing layout: 100%|██████████| 5/5 [00:05<00:00,  1.07s/it]\n",
      "100%|██████████| 5/5 [00:00<00:00, 53.47it/s]\n",
      "Detecting bboxes: 0it [00:00, ?it/s]\n",
      "Recognizing equations: 0it [00:00, ?it/s]\n",
      "Detecting bboxes: 0it [00:00, ?it/s]\n",
      "Recognizing tables: 100%|██████████| 1/1 [00:00<00:00,  1.58it/s]\n",
      " 76%|███████▌  | 589/773 [00:58<00:25,  7.31it/s]"
     ]
    },
    {
     "name": "stdout",
     "output_type": "stream",
     "text": [
      "markdown D:\\upec\\IA2S\\PDF_SCRAPPER\\MARKDOWN_DATA\\Prévention et remédiation du risque Radon - 12 enseignements à connaître.md already exists, skipping ... \n",
      "markdown D:\\upec\\IA2S\\PDF_SCRAPPER\\MARKDOWN_DATA\\Puits climatiques en habitat individuel et en tertiaire - 1.md already exists, skipping ... \n",
      "markdown D:\\upec\\IA2S\\PDF_SCRAPPER\\MARKDOWN_DATA\\Puits climatiques en habitat individuel et en tertiaire - 2.md already exists, skipping ... \n",
      "markdown D:\\upec\\IA2S\\PDF_SCRAPPER\\MARKDOWN_DATA\\Puits climatiques en habitat individuel et en tertiaire - 3.md already exists, skipping ... \n",
      "markdown D:\\upec\\IA2S\\PDF_SCRAPPER\\MARKDOWN_DATA\\Puits climatiques en habitat individuel et en tertiaire - 4.md already exists, skipping ... \n",
      "markdown D:\\upec\\IA2S\\PDF_SCRAPPER\\MARKDOWN_DATA\\Purgeur automatique.md already exists, skipping ... \n",
      "pdf D:\\pdf_data\\QAI, garantir le résultat avec la simulation.pdf not found, skipping ... \n",
      "converting D:\\pdf_data\\QCM Climatisation en climat tropical - questions et réponses.pdf to markdown ...\n"
     ]
    },
    {
     "name": "stderr",
     "output_type": "stream",
     "text": [
      "Recognizing layout: 100%|██████████| 8/8 [00:04<00:00,  1.61it/s]\n",
      "100%|██████████| 8/8 [00:00<00:00, 124.00it/s]\n",
      "Detecting bboxes: 0it [00:00, ?it/s]\n",
      "Recognizing equations: 0it [00:00, ?it/s]\n",
      "Detecting bboxes: 0it [00:00, ?it/s]\n",
      " 77%|███████▋  | 597/773 [01:07<00:30,  5.75it/s]"
     ]
    },
    {
     "name": "stdout",
     "output_type": "stream",
     "text": [
      "markdown D:\\upec\\IA2S\\PDF_SCRAPPER\\MARKDOWN_DATA\\QCM Climatisation en climat tropical - questions seules.md already exists, skipping ... \n",
      "markdown D:\\upec\\IA2S\\PDF_SCRAPPER\\MARKDOWN_DATA\\QCM Eclairage artificiel - questions seules.md already exists, skipping ... \n",
      "markdown D:\\upec\\IA2S\\PDF_SCRAPPER\\MARKDOWN_DATA\\QCM Isolation des planchers bas - questions seules.md already exists, skipping ... \n",
      "converting D:\\pdf_data\\QCM Isolation des toitures en Guyane - QUESTIONS et REPONSES.pdf to markdown ...\n"
     ]
    },
    {
     "name": "stderr",
     "output_type": "stream",
     "text": [
      "Recognizing layout: 100%|██████████| 7/7 [00:04<00:00,  1.42it/s]\n",
      "100%|██████████| 7/7 [00:00<00:00, 100.70it/s]\n",
      "Detecting bboxes: 0it [00:00, ?it/s]\n",
      "Recognizing equations: 0it [00:00, ?it/s]\n",
      "Detecting bboxes: 0it [00:00, ?it/s]\n",
      " 78%|███████▊  | 601/773 [01:15<00:38,  4.42it/s]"
     ]
    },
    {
     "name": "stdout",
     "output_type": "stream",
     "text": [
      "markdown D:\\upec\\IA2S\\PDF_SCRAPPER\\MARKDOWN_DATA\\QCM Isolation des toitures en Guyane - QUESTIONS SEULES.md already exists, skipping ... \n",
      "markdown D:\\upec\\IA2S\\PDF_SCRAPPER\\MARKDOWN_DATA\\QCM La ventilation double flux en rénovation.md already exists, skipping ... \n",
      "markdown D:\\upec\\IA2S\\PDF_SCRAPPER\\MARKDOWN_DATA\\QCM La ventilation simple flux en rénovation.md already exists, skipping ... \n",
      "markdown D:\\upec\\IA2S\\PDF_SCRAPPER\\MARKDOWN_DATA\\QCM Pilotage.md already exists, skipping ... \n",
      "markdown D:\\upec\\IA2S\\PDF_SCRAPPER\\MARKDOWN_DATA\\QCM Production d'électricité.md already exists, skipping ... \n",
      "converting D:\\pdf_data\\QCM Protections solaires façades - questions et réponses.pdf to markdown ...\n"
     ]
    },
    {
     "name": "stderr",
     "output_type": "stream",
     "text": [
      "Recognizing layout: 100%|██████████| 7/7 [00:05<00:00,  1.22it/s]\n",
      "100%|██████████| 7/7 [00:00<00:00, 79.06it/s]\n",
      "Detecting bboxes: 0it [00:00, ?it/s]\n",
      "Recognizing equations: 0it [00:00, ?it/s]\n",
      "Detecting bboxes: 100%|██████████| 1/1 [00:00<00:00,  2.00it/s]\n",
      "Recognizing Text: 100%|██████████| 2/2 [00:01<00:00,  1.04it/s]\n",
      "Recognizing tables: 100%|██████████| 1/1 [00:00<00:00,  1.85it/s]\n",
      " 79%|███████▊  | 607/773 [01:27<00:53,  3.09it/s]"
     ]
    },
    {
     "name": "stdout",
     "output_type": "stream",
     "text": [
      "markdown D:\\upec\\IA2S\\PDF_SCRAPPER\\MARKDOWN_DATA\\QCM Protections solaires façades - questions seules.md already exists, skipping ... \n",
      "markdown D:\\upec\\IA2S\\PDF_SCRAPPER\\MARKDOWN_DATA\\QCM Ventilation.md already exists, skipping ... \n",
      "converting D:\\pdf_data\\QCM Végétalisation et bâtiments en climat tropical - QUESTIONS ET REPONSES.pdf to markdown ...\n"
     ]
    },
    {
     "name": "stderr",
     "output_type": "stream",
     "text": [
      "Recognizing layout: 100%|██████████| 8/8 [00:04<00:00,  1.62it/s]\n",
      "100%|██████████| 8/8 [00:00<00:00, 90.37it/s]\n",
      "Detecting bboxes: 0it [00:00, ?it/s]\n",
      "Recognizing equations: 0it [00:00, ?it/s]\n",
      "Detecting bboxes: 0it [00:00, ?it/s]\n",
      " 79%|███████▉  | 610/773 [01:37<01:09,  2.34it/s]"
     ]
    },
    {
     "name": "stdout",
     "output_type": "stream",
     "text": [
      "markdown D:\\upec\\IA2S\\PDF_SCRAPPER\\MARKDOWN_DATA\\QCM Végétalisation et bâtiments en climat tropical - QUESTIONS SEULES.md already exists, skipping ... \n",
      "pdf D:\\pdf_data\\Quantifier la lumière.pdf not found, skipping ... \n",
      "converting D:\\pdf_data\\Rafraîchissement en ventilation naturelle - 12 enseignements à connaître.pdf to markdown ...\n"
     ]
    },
    {
     "name": "stderr",
     "output_type": "stream",
     "text": [
      "Recognizing layout: 100%|██████████| 5/5 [00:05<00:00,  1.03s/it]\n",
      "100%|██████████| 5/5 [00:00<00:00, 46.94it/s]\n",
      "Detecting bboxes: 0it [00:00, ?it/s]\n",
      "Recognizing equations: 0it [00:00, ?it/s]\n",
      "Detecting bboxes: 0it [00:00, ?it/s]\n",
      "Recognizing tables: 100%|██████████| 1/1 [00:00<00:00,  2.73it/s]\n",
      " 79%|███████▉  | 613/773 [01:54<01:49,  1.46it/s]"
     ]
    },
    {
     "name": "stdout",
     "output_type": "stream",
     "text": [
      "pdf D:\\pdf_data\\Recommandations professionnelles RAGE - Appareils de chauffage divisé à bûches en habitat individuel - rénovation - conception et dimensionnement.pdf not found, skipping ... \n",
      "pdf D:\\pdf_data\\Recommandations professionnelles RAGE - Appareils de chauffage divisé à granulés en habitat individuel - rénovation - conception et dimensionnement.pdf not found, skipping ... \n",
      "pdf D:\\pdf_data\\Recommandations Professionnelles RAGE - Bardages en panneaux sandwich à deux parements en acier et à âme polyuréthane - neuf et rénovation.pdf not found, skipping ... \n",
      "pdf D:\\pdf_data\\Recommandations Professionnelles RAGE - Isolation en sous-face des planchers bas - Neuf et rénovation.pdf not found, skipping ... \n",
      "pdf D:\\pdf_data\\Recommandations professionnelles RAGE - Pompes à chaleur air/air - rénovation - conception et dimensionnement.pdf not found, skipping ... \n",
      "pdf D:\\pdf_data\\Recommandations professionnelles RAGE - Pompes à chaleur air/eau - rénovation - conception et dimensionnement.pdf not found, skipping ... \n",
      "pdf D:\\pdf_data\\Recommandations professionnelles RAGE - Pompes à chaleur en habitat collectif et tertiaire - rénovation - conception et dimensionnement.pdf not found, skipping ... \n",
      "pdf D:\\pdf_data\\Recommandations professionnelles RAGE - Systèmes solaires combinés en habitat individuel - rénovation - conception et dimensionnement.pdf not found, skipping ... \n",
      "pdf D:\\pdf_data\\Recommandations Professionnelles RAGE - Toitures-terrasses accessibles aux piétons avec éléments porteur en bois et panneaux à base de bois avec revêtement d'étanchéité - Neuf, Rénovation.pdf not found, skipping ... \n",
      "pdf D:\\pdf_data\\Recommandations Professionnelles RAGE. Maçonneries isolantes avec isolation thermique par l'intérieur ou répartie - Neuf - Règles de mise en oeuvre (partie 2).pdf not found, skipping ... \n",
      "pdf D:\\pdf_data\\Recommandations Professionnelles RAGE. Maçonneries isolantes avec isolation thermique par l'intérieur ou répartie - Neuf - Spécifications relatives aux produits (partie 1).pdf not found, skipping ... \n",
      "pdf D:\\pdf_data\\Recommandations Professionnelles RAGE. Murs doubles avec isolation thermique par l'extérieur - Neuf et rénovation.pdf not found, skipping ... \n",
      "converting D:\\pdf_data\\Remplacer les chaudières par des pompes à chaleur géothermiques.pdf to markdown ...\n"
     ]
    },
    {
     "name": "stderr",
     "output_type": "stream",
     "text": [
      "Recognizing layout: 100%|██████████| 2/2 [00:01<00:00,  1.22it/s]\n",
      "100%|██████████| 2/2 [00:00<00:00, 51.28it/s]\n",
      "Detecting bboxes: 0it [00:00, ?it/s]\n",
      "Recognizing equations: 0it [00:00, ?it/s]\n",
      "Detecting bboxes: 0it [00:00, ?it/s]\n",
      "Recognizing tables: 100%|██████████| 1/1 [00:00<00:00,  3.84it/s]\n",
      " 81%|████████  | 626/773 [02:00<01:33,  1.57it/s]"
     ]
    },
    {
     "name": "stdout",
     "output_type": "stream",
     "text": [
      "converting D:\\pdf_data\\Repérage des raccords.pdf to markdown ...\n"
     ]
    },
    {
     "name": "stderr",
     "output_type": "stream",
     "text": [
      "Recognizing layout: 100%|██████████| 1/1 [00:00<00:00,  6.15it/s]\n",
      "100%|██████████| 1/1 [00:00<00:00, 111.13it/s]\n",
      "Detecting bboxes: 100%|██████████| 1/1 [00:00<00:00,  5.38it/s]\n",
      "Recognizing Text: 100%|██████████| 1/1 [00:00<00:00,  2.34it/s]\n",
      "Recognizing equations: 0it [00:00, ?it/s]\n",
      "Detecting bboxes: 0it [00:00, ?it/s]\n",
      " 81%|████████  | 627/773 [02:01<01:33,  1.56it/s]"
     ]
    },
    {
     "name": "stdout",
     "output_type": "stream",
     "text": [
      "converting D:\\pdf_data\\Revégétalisation d'un bâtiment et de ses abords.pdf to markdown ...\n"
     ]
    },
    {
     "name": "stderr",
     "output_type": "stream",
     "text": [
      "Recognizing layout: 100%|██████████| 4/4 [00:02<00:00,  1.47it/s]\n",
      "100%|██████████| 4/4 [00:00<00:00, 60.53it/s]\n",
      "Detecting bboxes: 0it [00:00, ?it/s]\n",
      "Recognizing equations: 0it [00:00, ?it/s]\n",
      "Detecting bboxes: 0it [00:00, ?it/s]\n",
      "Recognizing tables: 100%|██████████| 1/1 [00:00<00:00,  5.40it/s]\n",
      " 81%|████████  | 628/773 [02:07<01:59,  1.21it/s]"
     ]
    },
    {
     "name": "stdout",
     "output_type": "stream",
     "text": [
      "converting D:\\pdf_data\\Revêtement du sol à la périphérie du bâtiment non protégé du rayonnement solaire et sans aucune recherche d’implantation de végétaux.pdf to markdown ...\n"
     ]
    },
    {
     "name": "stderr",
     "output_type": "stream",
     "text": [
      "Recognizing layout: 100%|██████████| 1/1 [00:01<00:00,  1.02s/it]\n",
      "100%|██████████| 1/1 [00:00<00:00, 76.91it/s]\n",
      "Detecting bboxes: 0it [00:00, ?it/s]\n",
      "Recognizing equations: 0it [00:00, ?it/s]\n",
      "Detecting bboxes: 0it [00:00, ?it/s]\n",
      " 81%|████████▏ | 629/773 [02:08<02:02,  1.18it/s]"
     ]
    },
    {
     "name": "stdout",
     "output_type": "stream",
     "text": [
      "converting D:\\pdf_data\\risque de condensation au cœur de la paroi en fonction du SD et du positionnement des matériaux utilisés.pdf to markdown ...\n"
     ]
    },
    {
     "name": "stderr",
     "output_type": "stream",
     "text": [
      "Recognizing layout: 100%|██████████| 1/1 [00:00<00:00,  4.36it/s]\n",
      "100%|██████████| 1/1 [00:00<00:00, 142.92it/s]\n",
      "Detecting bboxes: 100%|██████████| 1/1 [00:00<00:00,  4.61it/s]\n",
      "Recognizing Text: 100%|██████████| 1/1 [00:00<00:00,  3.09it/s]\n",
      "Recognizing equations: 0it [00:00, ?it/s]\n",
      "Detecting bboxes: 0it [00:00, ?it/s]\n",
      " 82%|████████▏ | 630/773 [02:09<02:01,  1.18it/s]"
     ]
    },
    {
     "name": "stdout",
     "output_type": "stream",
     "text": [
      "converting D:\\pdf_data\\Robinets de réglage et d’équilibrage PAC.pdf to markdown ...\n"
     ]
    },
    {
     "name": "stderr",
     "output_type": "stream",
     "text": [
      "Recognizing layout: 100%|██████████| 1/1 [00:00<00:00,  5.86it/s]\n",
      "100%|██████████| 1/1 [00:00<00:00, 125.03it/s]\n",
      "Detecting bboxes: 100%|██████████| 1/1 [00:00<00:00,  5.68it/s]\n",
      "Recognizing Text: 100%|██████████| 1/1 [00:01<00:00,  1.86s/it]\n",
      "Recognizing equations: 0it [00:00, ?it/s]\n",
      "Detecting bboxes: 0it [00:00, ?it/s]\n",
      " 82%|████████▏ | 631/773 [02:11<02:17,  1.03it/s]"
     ]
    },
    {
     "name": "stdout",
     "output_type": "stream",
     "text": [
      "converting D:\\pdf_data\\Règles professionnelles pour la conception et la réalisation des terrasses et toitures végétalisées.pdf to markdown ...\n"
     ]
    },
    {
     "name": "stderr",
     "output_type": "stream",
     "text": [
      "Recognizing layout: 100%|██████████| 14/14 [00:13<00:00,  1.06it/s]\n",
      "100%|██████████| 14/14 [00:00<00:00, 49.73it/s]\n",
      "Detecting bboxes: 0it [00:00, ?it/s]\n",
      "Recognizing equations: 100%|██████████| 2/2 [00:00<00:00,  2.13it/s]\n",
      "Detecting bboxes: 0it [00:00, ?it/s]\n",
      "Recognizing tables: 100%|██████████| 7/7 [00:08<00:00,  1.22s/it]\n",
      " 82%|████████▏ | 632/773 [02:51<12:03,  5.13s/it]"
     ]
    },
    {
     "name": "stdout",
     "output_type": "stream",
     "text": [
      "pdf D:\\pdf_data\\Réglage de la luminosité, de la temporisation de l’éclairage et de la sensibilité/portée..pdf not found, skipping ... \n",
      "converting D:\\pdf_data\\Régulation climatisation en tout ou rien.pdf to markdown ...\n"
     ]
    },
    {
     "name": "stderr",
     "output_type": "stream",
     "text": [
      "Recognizing layout: 100%|██████████| 1/1 [00:00<00:00,  1.07it/s]\n",
      "100%|██████████| 1/1 [00:00<00:00, 90.93it/s]\n",
      "Detecting bboxes: 0it [00:00, ?it/s]\n",
      "Recognizing equations: 0it [00:00, ?it/s]\n",
      "Detecting bboxes: 0it [00:00, ?it/s]\n",
      "Recognizing tables: 100%|██████████| 1/1 [00:00<00:00,  3.48it/s]\n",
      " 82%|████████▏ | 634/773 [02:53<09:33,  4.13s/it]"
     ]
    },
    {
     "name": "stdout",
     "output_type": "stream",
     "text": [
      "pdf D:\\pdf_data\\Réhabilitation d'une installation solaire thermique collective.pdf not found, skipping ... \n",
      "pdf D:\\pdf_data\\Rénovation performante de l’enveloppe, risques et bons réflexes.pdf not found, skipping ... \n",
      "pdf D:\\pdf_data\\Rénovation thermique performante par étape - changement des menuiseries ?.pdf not found, skipping ... \n",
      "pdf D:\\pdf_data\\Rénovation thermique performante par étape - changement des équipements.pdf not found, skipping ... \n",
      "pdf D:\\pdf_data\\Rénovation thermique performante par étape - isolation des parois opaques.pdf not found, skipping ... \n",
      "converting D:\\pdf_data\\Rénovation énergétique, confort acoustique et qualité de l’air.pdf to markdown ...\n"
     ]
    },
    {
     "name": "stderr",
     "output_type": "stream",
     "text": [
      "Recognizing layout: 100%|██████████| 34/34 [00:36<00:00,  1.07s/it]\n",
      "100%|██████████| 34/34 [00:00<00:00, 38.85it/s]\n",
      "Detecting bboxes: 0it [00:00, ?it/s]\n",
      "Recognizing equations: 100%|██████████| 1/1 [00:00<00:00,  1.97it/s]\n",
      "Detecting bboxes: 0it [00:00, ?it/s]\n",
      "Recognizing tables: 100%|██████████| 21/21 [00:18<00:00,  1.11it/s]\n",
      " 83%|████████▎ | 640/773 [04:59<27:48, 12.55s/it]"
     ]
    },
    {
     "name": "stdout",
     "output_type": "stream",
     "text": [
      "converting D:\\pdf_data\\Rénover l'éclairage des bâtiments tertiaires.pdf to markdown ...\n"
     ]
    },
    {
     "name": "stderr",
     "output_type": "stream",
     "text": [
      "Recognizing layout: 100%|██████████| 8/8 [00:05<00:00,  1.35it/s]\n",
      "100%|██████████| 8/8 [00:00<00:00, 53.68it/s]\n",
      "Detecting bboxes: 0it [00:00, ?it/s]\n",
      "Recognizing equations: 0it [00:00, ?it/s]\n",
      "Detecting bboxes: 0it [00:00, ?it/s]\n",
      "Recognizing tables: 100%|██████████| 2/2 [00:02<00:00,  1.14s/it]\n",
      " 83%|████████▎ | 641/773 [05:14<28:16, 12.85s/it]"
     ]
    },
    {
     "name": "stdout",
     "output_type": "stream",
     "text": [
      "converting D:\\pdf_data\\Réseau ECS - Non qualité.pdf to markdown ...\n"
     ]
    },
    {
     "name": "stderr",
     "output_type": "stream",
     "text": [
      "Recognizing layout: 100%|██████████| 1/1 [00:00<00:00,  2.91it/s]\n",
      "100%|██████████| 1/1 [00:00<00:00, 100.02it/s]\n",
      "Detecting bboxes: 0it [00:00, ?it/s]\n",
      "Recognizing equations: 0it [00:00, ?it/s]\n",
      "Detecting bboxes: 0it [00:00, ?it/s]\n",
      "Recognizing tables: 100%|██████████| 1/1 [00:00<00:00,  1.04it/s]\n",
      " 83%|████████▎ | 642/773 [05:16<24:47, 11.36s/it]"
     ]
    },
    {
     "name": "stdout",
     "output_type": "stream",
     "text": [
      "converting D:\\pdf_data\\Réseau hydraulique PAC AIR EAU.pdf to markdown ...\n"
     ]
    },
    {
     "name": "stderr",
     "output_type": "stream",
     "text": [
      "Recognizing layout: 100%|██████████| 1/1 [00:00<00:00,  6.73it/s]\n",
      "100%|██████████| 1/1 [00:00<00:00, 76.92it/s]\n",
      "Detecting bboxes: 100%|██████████| 1/1 [00:00<00:00,  5.03it/s]\n",
      "Recognizing Text: 100%|██████████| 1/1 [00:00<00:00,  1.08it/s]\n",
      "Recognizing equations: 0it [00:00, ?it/s]\n",
      "Detecting bboxes: 0it [00:00, ?it/s]\n",
      " 83%|████████▎ | 643/773 [05:17<21:10,  9.77s/it]"
     ]
    },
    {
     "name": "stdout",
     "output_type": "stream",
     "text": [
      "converting D:\\pdf_data\\Réseaux de chaleur et de froid urbain. La mutation vers les énergies renouvelables..pdf to markdown ...\n"
     ]
    },
    {
     "name": "stderr",
     "output_type": "stream",
     "text": [
      "Recognizing layout: 100%|██████████| 2/2 [00:01<00:00,  1.76it/s]\n",
      "100%|██████████| 2/2 [00:00<00:00, 64.50it/s]\n",
      "Detecting bboxes: 0it [00:00, ?it/s]\n",
      "Recognizing equations: 0it [00:00, ?it/s]\n",
      "Detecting bboxes: 0it [00:00, ?it/s]\n",
      " 83%|████████▎ | 644/773 [05:20<18:25,  8.57s/it]"
     ]
    },
    {
     "name": "stdout",
     "output_type": "stream",
     "text": [
      "pdf D:\\pdf_data\\Schémathèque appareils de chauffage au bois bûches en habitat individuel - Neuf, Rénovation.pdf not found, skipping ... \n",
      "pdf D:\\pdf_data\\Schémathèque appareils de chauffage aux granulés en habitat individuel - Neuf, Rénovation.pdf not found, skipping ... \n",
      "pdf D:\\pdf_data\\Schématèque des systèmes solaires en habitat individuel - Neuf, Rénovation.pdf not found, skipping ... \n",
      "converting D:\\pdf_data\\Sens de migration de la vapeur d'eau dans les parois en hiver.pdf to markdown ...\n"
     ]
    },
    {
     "name": "stderr",
     "output_type": "stream",
     "text": [
      "Recognizing layout: 100%|██████████| 1/1 [00:00<00:00,  6.19it/s]\n",
      "100%|██████████| 1/1 [00:00<00:00, 105.19it/s]\n",
      "Detecting bboxes: 100%|██████████| 1/1 [00:00<00:00,  5.42it/s]\n",
      "Recognizing Text: 100%|██████████| 1/1 [00:00<00:00,  4.97it/s]\n",
      "Recognizing equations: 0it [00:00, ?it/s]\n",
      "Detecting bboxes: 0it [00:00, ?it/s]\n",
      " 84%|████████▍ | 648/773 [05:21<08:51,  4.25s/it]"
     ]
    },
    {
     "name": "stdout",
     "output_type": "stream",
     "text": [
      "converting D:\\pdf_data\\Sollicitation appoint électrique.pdf to markdown ...\n"
     ]
    },
    {
     "name": "stderr",
     "output_type": "stream",
     "text": [
      "Recognizing layout: 100%|██████████| 1/1 [00:00<00:00,  1.21it/s]\n",
      "100%|██████████| 1/1 [00:00<00:00, 125.06it/s]\n",
      "Detecting bboxes: 0it [00:00, ?it/s]\n",
      "Recognizing equations: 0it [00:00, ?it/s]\n",
      "Detecting bboxes: 0it [00:00, ?it/s]\n",
      "Recognizing tables: 100%|██████████| 1/1 [00:00<00:00,  4.64it/s]\n",
      " 84%|████████▍ | 649/773 [05:22<07:52,  3.81s/it]"
     ]
    },
    {
     "name": "stdout",
     "output_type": "stream",
     "text": [
      "converting D:\\pdf_data\\Soupape de sécurité PAC.pdf to markdown ...\n"
     ]
    },
    {
     "name": "stderr",
     "output_type": "stream",
     "text": [
      "Recognizing layout: 100%|██████████| 1/1 [00:00<00:00,  6.43it/s]\n",
      "100%|██████████| 1/1 [00:00<00:00, 125.01it/s]\n",
      "Detecting bboxes: 100%|██████████| 1/1 [00:00<00:00,  5.48it/s]\n",
      "Recognizing Text: 100%|██████████| 1/1 [00:00<00:00,  2.10it/s]\n",
      "Recognizing equations: 0it [00:00, ?it/s]\n",
      "Detecting bboxes: 0it [00:00, ?it/s]\n",
      " 84%|████████▍ | 650/773 [05:23<06:42,  3.28s/it]"
     ]
    },
    {
     "name": "stdout",
     "output_type": "stream",
     "text": [
      "converting D:\\pdf_data\\Sous dimensionnement de la bavette d'appui de fenêtre.pdf to markdown ...\n"
     ]
    },
    {
     "name": "stderr",
     "output_type": "stream",
     "text": [
      "Recognizing layout: 100%|██████████| 1/1 [00:00<00:00,  1.16it/s]\n",
      "100%|██████████| 1/1 [00:00<00:00, 76.89it/s]\n",
      "Detecting bboxes: 0it [00:00, ?it/s]\n",
      "Recognizing equations: 0it [00:00, ?it/s]\n",
      "Detecting bboxes: 100%|██████████| 1/1 [00:00<00:00,  5.68it/s]\n",
      "Recognizing Text: 100%|██████████| 1/1 [00:00<00:00,  9.13it/s]\n",
      "Recognizing tables: 100%|██████████| 1/1 [00:00<00:00,  1.90it/s]\n",
      " 84%|████████▍ | 651/773 [05:27<06:45,  3.32s/it]"
     ]
    },
    {
     "name": "stdout",
     "output_type": "stream",
     "text": [
      "converting D:\\pdf_data\\Stockage de l'isolant - Bonne pratique.pdf to markdown ...\n"
     ]
    },
    {
     "name": "stderr",
     "output_type": "stream",
     "text": [
      "Recognizing layout: 100%|██████████| 1/1 [00:00<00:00,  2.68it/s]\n",
      "100%|██████████| 1/1 [00:00<00:00, 111.08it/s]\n",
      "Detecting bboxes: 0it [00:00, ?it/s]\n",
      "Recognizing equations: 0it [00:00, ?it/s]\n",
      "Detecting bboxes: 0it [00:00, ?it/s]\n",
      "Recognizing tables: 100%|██████████| 1/1 [00:00<00:00,  2.07it/s]\n",
      " 84%|████████▍ | 652/773 [05:28<05:40,  2.82s/it]"
     ]
    },
    {
     "name": "stdout",
     "output_type": "stream",
     "text": [
      "Overflow in columns: 5 >= 5\n",
      "converting D:\\pdf_data\\Surchauffe paroi vitrée.pdf to markdown ...\n"
     ]
    },
    {
     "name": "stderr",
     "output_type": "stream",
     "text": [
      "Recognizing layout: 100%|██████████| 1/1 [00:00<00:00,  1.11it/s]\n",
      "100%|██████████| 1/1 [00:00<00:00, 99.98it/s]\n",
      "Detecting bboxes: 0it [00:00, ?it/s]\n",
      "Recognizing equations: 0it [00:00, ?it/s]\n",
      "Detecting bboxes: 0it [00:00, ?it/s]\n",
      " 84%|████████▍ | 653/773 [05:29<04:53,  2.45s/it]"
     ]
    },
    {
     "name": "stdout",
     "output_type": "stream",
     "text": [
      "converting D:\\pdf_data\\Surchauffe sous toiture.pdf to markdown ...\n"
     ]
    },
    {
     "name": "stderr",
     "output_type": "stream",
     "text": [
      "Recognizing layout: 100%|██████████| 1/1 [00:00<00:00,  1.28it/s]\n",
      "100%|██████████| 1/1 [00:00<00:00, 76.91it/s]\n",
      "Detecting bboxes: 0it [00:00, ?it/s]\n",
      "Recognizing equations: 0it [00:00, ?it/s]\n",
      "Detecting bboxes: 0it [00:00, ?it/s]\n",
      "Recognizing tables: 100%|██████████| 1/1 [00:00<00:00,  2.49it/s]\n",
      " 85%|████████▍ | 654/773 [05:31<04:24,  2.22s/it]"
     ]
    },
    {
     "name": "stdout",
     "output_type": "stream",
     "text": [
      "converting D:\\pdf_data\\Surconsommation appoint électrique.pdf to markdown ...\n"
     ]
    },
    {
     "name": "stderr",
     "output_type": "stream",
     "text": [
      "Recognizing layout: 100%|██████████| 1/1 [00:00<00:00,  1.06it/s]\n",
      "100%|██████████| 1/1 [00:00<00:00, 142.72it/s]\n",
      "Detecting bboxes: 0it [00:00, ?it/s]\n",
      "Recognizing equations: 0it [00:00, ?it/s]\n",
      "Detecting bboxes: 100%|██████████| 1/1 [00:00<00:00,  6.47it/s]\n",
      "Recognizing Text: 100%|██████████| 1/1 [00:00<00:00, 10.58it/s]\n",
      "Recognizing tables: 100%|██████████| 1/1 [00:00<00:00,  4.62it/s]\n",
      " 85%|████████▍ | 655/773 [05:32<04:08,  2.11s/it]"
     ]
    },
    {
     "name": "stdout",
     "output_type": "stream",
     "text": [
      "converting D:\\pdf_data\\Système Solaire Combiné (SSC) en habitat individuel.pdf to markdown ...\n"
     ]
    },
    {
     "name": "stderr",
     "output_type": "stream",
     "text": [
      "Recognizing layout: 100%|██████████| 1/1 [00:00<00:00,  4.11it/s]\n",
      "100%|██████████| 1/1 [00:00<00:00, 125.03it/s]\n",
      "Detecting bboxes: 100%|██████████| 1/1 [00:00<00:00,  5.23it/s]\n",
      "Recognizing Text: 100%|██████████| 1/1 [00:00<00:00,  2.24it/s]\n",
      "Recognizing equations: 0it [00:00, ?it/s]\n",
      "Detecting bboxes: 0it [00:00, ?it/s]\n",
      " 85%|████████▍ | 656/773 [05:33<03:29,  1.79s/it]"
     ]
    },
    {
     "name": "stdout",
     "output_type": "stream",
     "text": [
      "converting D:\\pdf_data\\Systèmes Photovoltaïques par modules rigides intégrés en couverture - 1.pdf to markdown ...\n"
     ]
    },
    {
     "name": "stderr",
     "output_type": "stream",
     "text": [
      "Recognizing layout: 100%|██████████| 1/1 [00:00<00:00,  3.17it/s]\n",
      "100%|██████████| 1/1 [00:00<00:00, 166.78it/s]\n",
      "Detecting bboxes: 100%|██████████| 1/1 [00:00<00:00,  5.49it/s]\n",
      "Recognizing Text: 100%|██████████| 1/1 [00:00<00:00,  1.40it/s]\n",
      "Recognizing equations: 0it [00:00, ?it/s]\n",
      "Detecting bboxes: 0it [00:00, ?it/s]\n",
      " 85%|████████▍ | 657/773 [05:35<03:10,  1.65s/it]"
     ]
    },
    {
     "name": "stdout",
     "output_type": "stream",
     "text": [
      "converting D:\\pdf_data\\Systèmes Photovoltaïques par modules rigides intégrés en couverture - 2.pdf to markdown ...\n"
     ]
    },
    {
     "name": "stderr",
     "output_type": "stream",
     "text": [
      "Recognizing layout: 100%|██████████| 1/1 [00:00<00:00,  4.05it/s]\n",
      "100%|██████████| 1/1 [00:00<00:00, 142.93it/s]\n",
      "Detecting bboxes: 100%|██████████| 1/1 [00:00<00:00,  5.46it/s]\n",
      "Recognizing Text: 100%|██████████| 1/1 [00:00<00:00,  2.24it/s]\n",
      "Recognizing equations: 0it [00:00, ?it/s]\n",
      "Detecting bboxes: 0it [00:00, ?it/s]\n",
      " 85%|████████▌ | 658/773 [05:36<02:46,  1.45s/it]"
     ]
    },
    {
     "name": "stdout",
     "output_type": "stream",
     "text": [
      "converting D:\\pdf_data\\Systèmes Photovoltaïques par modules rigides intégrés en couverture - 3.pdf to markdown ...\n"
     ]
    },
    {
     "name": "stderr",
     "output_type": "stream",
     "text": [
      "Recognizing layout: 100%|██████████| 1/1 [00:00<00:00,  2.67it/s]\n",
      "100%|██████████| 1/1 [00:00<00:00, 166.71it/s]\n",
      "Detecting bboxes: 100%|██████████| 1/1 [00:00<00:00,  5.49it/s]\n",
      "Recognizing Text: 100%|██████████| 1/1 [00:00<00:00,  2.75it/s]\n",
      "Recognizing equations: 0it [00:00, ?it/s]\n",
      "Detecting bboxes: 0it [00:00, ?it/s]\n",
      " 85%|████████▌ | 659/773 [05:37<02:30,  1.32s/it]"
     ]
    },
    {
     "name": "stdout",
     "output_type": "stream",
     "text": [
      "converting D:\\pdf_data\\Température de ballon trop basse.pdf to markdown ...\n"
     ]
    },
    {
     "name": "stderr",
     "output_type": "stream",
     "text": [
      "Recognizing layout: 100%|██████████| 1/1 [00:00<00:00,  1.33it/s]\n",
      "100%|██████████| 1/1 [00:00<00:00, 124.84it/s]\n",
      "Detecting bboxes: 0it [00:00, ?it/s]\n",
      "Recognizing equations: 0it [00:00, ?it/s]\n",
      "Detecting bboxes: 0it [00:00, ?it/s]\n",
      "Recognizing tables: 100%|██████████| 1/1 [00:00<00:00,  4.25it/s]\n",
      " 85%|████████▌ | 660/773 [05:38<02:29,  1.33s/it]"
     ]
    },
    {
     "name": "stdout",
     "output_type": "stream",
     "text": [
      "converting D:\\pdf_data\\Trappe d'accès ramonage.pdf to markdown ...\n"
     ]
    },
    {
     "name": "stderr",
     "output_type": "stream",
     "text": [
      "Recognizing layout: 100%|██████████| 1/1 [00:00<00:00,  4.53it/s]\n",
      "100%|██████████| 1/1 [00:00<00:00, 124.92it/s]\n",
      "Detecting bboxes: 100%|██████████| 1/1 [00:00<00:00,  2.72it/s]\n",
      "Recognizing Text: 100%|██████████| 1/1 [00:01<00:00,  1.43s/it]\n",
      "Recognizing equations: 0it [00:00, ?it/s]\n",
      "Detecting bboxes: 0it [00:00, ?it/s]\n",
      " 86%|████████▌ | 661/773 [05:40<02:53,  1.55s/it]"
     ]
    },
    {
     "name": "stdout",
     "output_type": "stream",
     "text": [
      "error saving D:\\upec\\IA2S\\PDF_SCRAPPER\\MARKDOWN_DATA\\images\\Trappe d'accès ramonage\\_page_0_Picture_0.jpeg\n",
      "converting D:\\pdf_data\\Traversé de parois intérieures circuit hydraulique.pdf to markdown ...\n"
     ]
    },
    {
     "name": "stderr",
     "output_type": "stream",
     "text": [
      "Recognizing layout: 100%|██████████| 1/1 [00:00<00:00,  7.02it/s]\n",
      "100%|██████████| 1/1 [00:00<00:00, 142.75it/s]\n",
      "Detecting bboxes: 100%|██████████| 1/1 [00:00<00:00,  6.41it/s]\n",
      "Recognizing Text: 100%|██████████| 1/1 [00:00<00:00,  3.08it/s]\n",
      "Recognizing equations: 0it [00:00, ?it/s]\n",
      "Detecting bboxes: 0it [00:00, ?it/s]\n",
      " 86%|████████▌ | 662/773 [05:41<02:23,  1.29s/it]"
     ]
    },
    {
     "name": "stdout",
     "output_type": "stream",
     "text": [
      "converting D:\\pdf_data\\Traversée de l'enveloppe - Bonne pratique.pdf to markdown ...\n"
     ]
    },
    {
     "name": "stderr",
     "output_type": "stream",
     "text": [
      "Recognizing layout: 100%|██████████| 1/1 [00:00<00:00,  2.33it/s]\n",
      "100%|██████████| 1/1 [00:00<00:00, 90.91it/s]\n",
      "Detecting bboxes: 0it [00:00, ?it/s]\n",
      "Recognizing equations: 0it [00:00, ?it/s]\n",
      "Detecting bboxes: 0it [00:00, ?it/s]\n",
      "Recognizing tables: 100%|██████████| 1/1 [00:00<00:00,  3.51it/s]\n",
      " 86%|████████▌ | 663/773 [05:42<02:11,  1.19s/it]"
     ]
    },
    {
     "name": "stdout",
     "output_type": "stream",
     "text": [
      "converting D:\\pdf_data\\Traversée de l'enveloppe - Non qualité.pdf to markdown ...\n"
     ]
    },
    {
     "name": "stderr",
     "output_type": "stream",
     "text": [
      "Recognizing layout: 100%|██████████| 1/1 [00:00<00:00,  2.28it/s]\n",
      "100%|██████████| 1/1 [00:00<00:00, 143.05it/s]\n",
      "Detecting bboxes: 0it [00:00, ?it/s]\n",
      "Recognizing equations: 0it [00:00, ?it/s]\n",
      "Detecting bboxes: 0it [00:00, ?it/s]\n",
      "Recognizing tables: 100%|██████████| 1/1 [00:00<00:00,  3.91it/s]\n",
      " 86%|████████▌ | 664/773 [05:43<02:01,  1.11s/it]"
     ]
    },
    {
     "name": "stdout",
     "output_type": "stream",
     "text": [
      "converting D:\\pdf_data\\Traversées de parois extérieures hotizontales.pdf to markdown ...\n"
     ]
    },
    {
     "name": "stderr",
     "output_type": "stream",
     "text": [
      "Recognizing layout: 100%|██████████| 1/1 [00:00<00:00,  6.00it/s]\n",
      "100%|██████████| 1/1 [00:00<00:00, 125.05it/s]\n",
      "Detecting bboxes: 100%|██████████| 1/1 [00:00<00:00,  4.97it/s]\n",
      "Recognizing Text: 100%|██████████| 1/1 [00:00<00:00,  1.37it/s]\n",
      "Recognizing equations: 0it [00:00, ?it/s]\n",
      "Detecting bboxes: 0it [00:00, ?it/s]\n",
      " 86%|████████▌ | 665/773 [05:44<02:02,  1.14s/it]"
     ]
    },
    {
     "name": "stdout",
     "output_type": "stream",
     "text": [
      "converting D:\\pdf_data\\Traversées de parois extérieures verticales.pdf to markdown ...\n"
     ]
    },
    {
     "name": "stderr",
     "output_type": "stream",
     "text": [
      "Recognizing layout: 100%|██████████| 1/1 [00:00<00:00,  6.46it/s]\n",
      "100%|██████████| 1/1 [00:00<00:00, 142.92it/s]\n",
      "Detecting bboxes: 100%|██████████| 1/1 [00:00<00:00,  5.29it/s]\n",
      "Recognizing Text: 100%|██████████| 1/1 [00:00<00:00,  1.52it/s]\n",
      "Recognizing equations: 0it [00:00, ?it/s]\n",
      "Detecting bboxes: 0it [00:00, ?it/s]\n",
      " 86%|████████▌ | 666/773 [05:45<01:59,  1.12s/it]"
     ]
    },
    {
     "name": "stdout",
     "output_type": "stream",
     "text": [
      "converting D:\\pdf_data\\Un NF DTU créé pour les laines minérales.pdf to markdown ...\n"
     ]
    },
    {
     "name": "stderr",
     "output_type": "stream",
     "text": [
      "Recognizing layout: 100%|██████████| 2/2 [00:01<00:00,  1.17it/s]\n",
      "100%|██████████| 2/2 [00:00<00:00, 76.90it/s]\n",
      "Detecting bboxes: 0it [00:00, ?it/s]\n",
      "Recognizing equations: 0it [00:00, ?it/s]\n",
      "Detecting bboxes: 0it [00:00, ?it/s]\n",
      " 86%|████████▋ | 667/773 [05:50<04:06,  2.32s/it]"
     ]
    },
    {
     "name": "stdout",
     "output_type": "stream",
     "text": [
      "pdf D:\\pdf_data\\Utiliser et dimensionner les coursives pour ombrager les façades.pdf not found, skipping ... \n",
      "pdf D:\\pdf_data\\Utiliser la lumière du jour.pdf not found, skipping ... \n",
      "converting D:\\pdf_data\\Vanne du circuit de bouclage en position fermée.pdf to markdown ...\n"
     ]
    },
    {
     "name": "stderr",
     "output_type": "stream",
     "text": [
      "Recognizing layout: 100%|██████████| 1/1 [00:00<00:00,  1.41it/s]\n",
      "100%|██████████| 1/1 [00:00<00:00, 100.02it/s]\n",
      "Detecting bboxes: 0it [00:00, ?it/s]\n",
      "Recognizing equations: 0it [00:00, ?it/s]\n",
      "Detecting bboxes: 0it [00:00, ?it/s]\n",
      "Recognizing tables: 100%|██████████| 1/1 [00:00<00:00,  3.70it/s]\n",
      " 87%|████████▋ | 670/773 [05:51<02:10,  1.27s/it]"
     ]
    },
    {
     "name": "stdout",
     "output_type": "stream",
     "text": [
      "converting D:\\pdf_data\\Vase d'expansion PAC.pdf to markdown ...\n"
     ]
    },
    {
     "name": "stderr",
     "output_type": "stream",
     "text": [
      "Recognizing layout: 100%|██████████| 1/1 [00:00<00:00,  6.35it/s]\n",
      "100%|██████████| 1/1 [00:00<00:00, 124.93it/s]\n",
      "Detecting bboxes: 100%|██████████| 1/1 [00:00<00:00,  5.15it/s]\n",
      "Recognizing Text: 100%|██████████| 1/1 [00:00<00:00,  1.84it/s]\n",
      "Recognizing equations: 0it [00:00, ?it/s]\n",
      "Detecting bboxes: 0it [00:00, ?it/s]\n",
      " 87%|████████▋ | 671/773 [05:52<02:02,  1.20s/it]"
     ]
    },
    {
     "name": "stdout",
     "output_type": "stream",
     "text": [
      "converting D:\\pdf_data\\Ventelles pour la ventilation naturelle.pdf to markdown ...\n"
     ]
    },
    {
     "name": "stderr",
     "output_type": "stream",
     "text": [
      "Recognizing layout: 100%|██████████| 1/1 [00:00<00:00,  1.14it/s]\n",
      "100%|██████████| 1/1 [00:00<00:00, 124.89it/s]\n",
      "Detecting bboxes: 0it [00:00, ?it/s]\n",
      "Recognizing equations: 0it [00:00, ?it/s]\n",
      "Detecting bboxes: 0it [00:00, ?it/s]\n",
      " 87%|████████▋ | 672/773 [05:54<02:06,  1.25s/it]"
     ]
    },
    {
     "name": "stdout",
     "output_type": "stream",
     "text": [
      "pdf D:\\pdf_data\\Ventilation - 12 Enseignements à connaître : La ventilation naturelle à La Réunion.pdf not found, skipping ... \n",
      "pdf D:\\pdf_data\\Ventilation - La ventilation double flux - écoTravo* - Astuce 11.pdf not found, skipping ... \n",
      "pdf D:\\pdf_data\\Ventilation - Les entrées d'air - écoTravo* - Astuce 7.pdf not found, skipping ... \n",
      "converting D:\\pdf_data\\Ventilation double flux décentralisée - 12 enseignements à connaître.pdf to markdown ...\n"
     ]
    },
    {
     "name": "stderr",
     "output_type": "stream",
     "text": [
      "Recognizing layout: 100%|██████████| 6/6 [00:05<00:00,  1.09it/s]\n",
      "100%|██████████| 6/6 [00:00<00:00, 56.32it/s]\n",
      "Detecting bboxes: 0it [00:00, ?it/s]\n",
      "Recognizing equations: 0it [00:00, ?it/s]\n",
      "Detecting bboxes: 100%|██████████| 1/1 [00:00<00:00,  1.61it/s]\n",
      "Recognizing tables: 100%|██████████| 1/1 [00:01<00:00,  1.01s/it]\n",
      " 87%|████████▋ | 676/773 [06:14<05:25,  3.36s/it]"
     ]
    },
    {
     "name": "stdout",
     "output_type": "stream",
     "text": [
      "converting D:\\pdf_data\\Ventilation décentralisée - libérer de la hauteur sous plafond dans les tours et immeubles de bureau.pdf to markdown ...\n"
     ]
    },
    {
     "name": "stderr",
     "output_type": "stream",
     "text": [
      "Recognizing layout: 100%|██████████| 2/2 [00:01<00:00,  1.25it/s]\n",
      "100%|██████████| 2/2 [00:00<00:00, 64.50it/s]\n",
      "Detecting bboxes: 0it [00:00, ?it/s]\n",
      "Recognizing equations: 0it [00:00, ?it/s]\n",
      "Detecting bboxes: 0it [00:00, ?it/s]\n",
      " 88%|████████▊ | 677/773 [06:18<05:43,  3.58s/it]"
     ]
    },
    {
     "name": "stdout",
     "output_type": "stream",
     "text": [
      "pdf D:\\pdf_data\\Ventilation en logements collectifs : Concilier Directive ErP et Réglementation incendie.pdf not found, skipping ... \n",
      "pdf D:\\pdf_data\\VENTILATION MÉCANIQUE PONCTUELLE DOUBLE-FLUX.pdf not found, skipping ... \n",
      "converting D:\\pdf_data\\Ventilation Mécanique Répartie (VMR) - Balcon ou débord de toiture - 23.pdf to markdown ...\n"
     ]
    },
    {
     "name": "stderr",
     "output_type": "stream",
     "text": [
      "Recognizing layout: 100%|██████████| 1/1 [00:00<00:00,  6.05it/s]\n",
      "100%|██████████| 1/1 [00:00<00:00, 125.02it/s]\n",
      "Detecting bboxes: 100%|██████████| 1/1 [00:00<00:00,  5.02it/s]\n",
      "Recognizing Text: 100%|██████████| 1/1 [00:00<00:00,  2.18it/s]\n",
      "Recognizing equations: 0it [00:00, ?it/s]\n",
      "Detecting bboxes: 0it [00:00, ?it/s]\n",
      " 88%|████████▊ | 680/773 [06:19<03:24,  2.20s/it]"
     ]
    },
    {
     "name": "stdout",
     "output_type": "stream",
     "text": [
      "converting D:\\pdf_data\\Ventilation Mécanique Répartie (VMR) - choix du type d'installation - 2.pdf to markdown ...\n"
     ]
    },
    {
     "name": "stderr",
     "output_type": "stream",
     "text": [
      "Recognizing layout: 100%|██████████| 1/1 [00:00<00:00,  6.13it/s]\n",
      "100%|██████████| 1/1 [00:00<00:00, 125.03it/s]\n",
      "Detecting bboxes: 100%|██████████| 1/1 [00:00<00:00,  5.68it/s]\n",
      "Recognizing Text: 100%|██████████| 1/1 [00:00<00:00,  2.53it/s]\n",
      "Recognizing equations: 0it [00:00, ?it/s]\n",
      "Detecting bboxes: 0it [00:00, ?it/s]\n",
      " 88%|████████▊ | 681/773 [06:20<03:01,  1.97s/it]"
     ]
    },
    {
     "name": "stdout",
     "output_type": "stream",
     "text": [
      "converting D:\\pdf_data\\Ventilation Mécanique Répartie (VMR) - choix du type d'installation - 3.pdf to markdown ...\n"
     ]
    },
    {
     "name": "stderr",
     "output_type": "stream",
     "text": [
      "Recognizing layout: 100%|██████████| 1/1 [00:00<00:00,  6.08it/s]\n",
      "100%|██████████| 1/1 [00:00<00:00, 83.33it/s]\n",
      "Detecting bboxes: 100%|██████████| 1/1 [00:00<00:00,  5.43it/s]\n",
      "Recognizing Text: 100%|██████████| 1/1 [00:01<00:00,  1.67s/it]\n",
      "Recognizing equations: 0it [00:00, ?it/s]\n",
      "Detecting bboxes: 0it [00:00, ?it/s]\n",
      " 88%|████████▊ | 682/773 [06:22<03:01,  2.00s/it]"
     ]
    },
    {
     "name": "stdout",
     "output_type": "stream",
     "text": [
      "converting D:\\pdf_data\\Ventilation Mécanique Répartie (VMR) - choix du type d'installation - 4.pdf to markdown ...\n"
     ]
    },
    {
     "name": "stderr",
     "output_type": "stream",
     "text": [
      "Recognizing layout: 100%|██████████| 1/1 [00:00<00:00,  6.36it/s]\n",
      "100%|██████████| 1/1 [00:00<00:00, 142.88it/s]\n",
      "Detecting bboxes: 100%|██████████| 1/1 [00:00<00:00,  5.78it/s]\n",
      "Recognizing Text: 100%|██████████| 1/1 [00:00<00:00,  2.46it/s]\n",
      "Recognizing equations: 0it [00:00, ?it/s]\n",
      "Detecting bboxes: 0it [00:00, ?it/s]\n",
      " 88%|████████▊ | 683/773 [06:23<02:36,  1.74s/it]"
     ]
    },
    {
     "name": "stdout",
     "output_type": "stream",
     "text": [
      "converting D:\\pdf_data\\Ventilation Mécanique Répartie (VMR) - choix du type d'installation - 5.pdf to markdown ...\n"
     ]
    },
    {
     "name": "stderr",
     "output_type": "stream",
     "text": [
      "Recognizing layout: 100%|██████████| 1/1 [00:00<00:00,  5.65it/s]\n",
      "100%|██████████| 1/1 [00:00<00:00, 142.80it/s]\n",
      "Detecting bboxes: 100%|██████████| 1/1 [00:00<00:00,  5.86it/s]\n",
      "Recognizing Text: 100%|██████████| 1/1 [00:00<00:00,  2.84it/s]\n",
      "Recognizing equations: 0it [00:00, ?it/s]\n",
      "Detecting bboxes: 0it [00:00, ?it/s]\n",
      " 88%|████████▊ | 684/773 [06:24<02:15,  1.52s/it]"
     ]
    },
    {
     "name": "stdout",
     "output_type": "stream",
     "text": [
      "converting D:\\pdf_data\\Ventilation Mécanique Répartie (VMR) - choix du type d'installation - 6.pdf to markdown ...\n"
     ]
    },
    {
     "name": "stderr",
     "output_type": "stream",
     "text": [
      "Recognizing layout: 100%|██████████| 1/1 [00:00<00:00,  6.13it/s]\n",
      "100%|██████████| 1/1 [00:00<00:00, 142.70it/s]\n",
      "Detecting bboxes: 100%|██████████| 1/1 [00:00<00:00,  5.75it/s]\n",
      "Recognizing Text: 100%|██████████| 1/1 [00:00<00:00,  1.97it/s]\n",
      "Recognizing equations: 0it [00:00, ?it/s]\n",
      "Detecting bboxes: 0it [00:00, ?it/s]\n",
      " 89%|████████▊ | 685/773 [06:25<02:00,  1.37s/it]"
     ]
    },
    {
     "name": "stdout",
     "output_type": "stream",
     "text": [
      "converting D:\\pdf_data\\Ventilation Mécanique Répartie (VMR) - Entrées d'air - 11.pdf to markdown ...\n"
     ]
    },
    {
     "name": "stderr",
     "output_type": "stream",
     "text": [
      "Recognizing layout: 100%|██████████| 1/1 [00:00<00:00,  6.82it/s]\n",
      "100%|██████████| 1/1 [00:00<00:00, 142.89it/s]\n",
      "Detecting bboxes: 100%|██████████| 1/1 [00:00<00:00,  6.05it/s]\n",
      "Recognizing Text: 100%|██████████| 1/1 [00:00<00:00,  3.96it/s]\n",
      "Recognizing equations: 0it [00:00, ?it/s]\n",
      "Detecting bboxes: 0it [00:00, ?it/s]\n",
      " 89%|████████▊ | 686/773 [06:25<01:42,  1.18s/it]"
     ]
    },
    {
     "name": "stdout",
     "output_type": "stream",
     "text": [
      "converting D:\\pdf_data\\Ventilation Mécanique Répartie (VMR) - Entrées d'air - 12.pdf to markdown ...\n"
     ]
    },
    {
     "name": "stderr",
     "output_type": "stream",
     "text": [
      "Recognizing layout: 100%|██████████| 1/1 [00:00<00:00,  5.78it/s]\n",
      "100%|██████████| 1/1 [00:00<00:00, 124.97it/s]\n",
      "Detecting bboxes: 100%|██████████| 1/1 [00:00<00:00,  5.63it/s]\n",
      "Recognizing Text: 100%|██████████| 1/1 [00:00<00:00,  1.12it/s]\n",
      "Recognizing equations: 0it [00:00, ?it/s]\n",
      "Detecting bboxes: 0it [00:00, ?it/s]\n",
      " 89%|████████▉ | 687/773 [06:27<01:45,  1.22s/it]"
     ]
    },
    {
     "name": "stdout",
     "output_type": "stream",
     "text": [
      "converting D:\\pdf_data\\Ventilation Mécanique Répartie (VMR) - Entrées d'air - 13.pdf to markdown ...\n"
     ]
    },
    {
     "name": "stderr",
     "output_type": "stream",
     "text": [
      "Recognizing layout: 100%|██████████| 1/1 [00:00<00:00,  6.04it/s]\n",
      "100%|██████████| 1/1 [00:00<00:00, 76.92it/s]\n",
      "Detecting bboxes: 100%|██████████| 1/1 [00:00<00:00,  6.04it/s]\n",
      "Recognizing Text: 100%|██████████| 1/1 [00:00<00:00,  4.24it/s]\n",
      "Recognizing equations: 0it [00:00, ?it/s]\n",
      "Detecting bboxes: 0it [00:00, ?it/s]\n",
      " 89%|████████▉ | 688/773 [06:27<01:30,  1.06s/it]"
     ]
    },
    {
     "name": "stdout",
     "output_type": "stream",
     "text": [
      "converting D:\\pdf_data\\Ventilation Mécanique Répartie (VMR) - Implantation du point d'extraction - 17.pdf to markdown ...\n"
     ]
    },
    {
     "name": "stderr",
     "output_type": "stream",
     "text": [
      "Recognizing layout: 100%|██████████| 1/1 [00:00<00:00,  6.29it/s]\n",
      "100%|██████████| 1/1 [00:00<00:00, 125.03it/s]\n",
      "Detecting bboxes: 100%|██████████| 1/1 [00:00<00:00,  6.04it/s]\n",
      "Recognizing Text: 100%|██████████| 1/1 [00:00<00:00,  2.49it/s]\n",
      "Recognizing equations: 0it [00:00, ?it/s]\n",
      "Detecting bboxes: 0it [00:00, ?it/s]\n",
      " 89%|████████▉ | 689/773 [06:28<01:23,  1.01it/s]"
     ]
    },
    {
     "name": "stdout",
     "output_type": "stream",
     "text": [
      "converting D:\\pdf_data\\Ventilation Mécanique Répartie (VMR) - Implantation du point d'extraction - 18.pdf to markdown ...\n"
     ]
    },
    {
     "name": "stderr",
     "output_type": "stream",
     "text": [
      "Recognizing layout: 100%|██████████| 1/1 [00:00<00:00,  6.41it/s]\n",
      "100%|██████████| 1/1 [00:00<00:00, 142.91it/s]\n",
      "Detecting bboxes: 100%|██████████| 1/1 [00:00<00:00,  6.30it/s]\n",
      "Recognizing Text: 100%|██████████| 1/1 [00:01<00:00,  1.54s/it]\n",
      "Recognizing equations: 0it [00:00, ?it/s]\n",
      "Detecting bboxes: 0it [00:00, ?it/s]\n",
      " 89%|████████▉ | 690/773 [06:30<01:45,  1.27s/it]"
     ]
    },
    {
     "name": "stdout",
     "output_type": "stream",
     "text": [
      "converting D:\\pdf_data\\Ventilation Mécanique Répartie (VMR) - Interrupteur de commande de grand débit en cuisine - 9.pdf to markdown ...\n"
     ]
    },
    {
     "name": "stderr",
     "output_type": "stream",
     "text": [
      "Recognizing layout: 100%|██████████| 1/1 [00:00<00:00,  5.95it/s]\n",
      "100%|██████████| 1/1 [00:00<00:00, 142.91it/s]\n",
      "Detecting bboxes: 100%|██████████| 1/1 [00:00<00:00,  5.14it/s]\n",
      "Recognizing Text: 100%|██████████| 1/1 [00:00<00:00,  3.01it/s]\n",
      "Recognizing equations: 0it [00:00, ?it/s]\n",
      "Detecting bboxes: 0it [00:00, ?it/s]\n",
      " 89%|████████▉ | 691/773 [06:31<01:32,  1.12s/it]"
     ]
    },
    {
     "name": "stdout",
     "output_type": "stream",
     "text": [
      "converting D:\\pdf_data\\Ventilation Mécanique Répartie (VMR) - Montage des grilles - 20.pdf to markdown ...\n"
     ]
    },
    {
     "name": "stderr",
     "output_type": "stream",
     "text": [
      "Recognizing layout: 100%|██████████| 1/1 [00:00<00:00,  6.66it/s]\n",
      "100%|██████████| 1/1 [00:00<00:00, 124.99it/s]\n",
      "Detecting bboxes: 100%|██████████| 1/1 [00:00<00:00,  5.72it/s]\n",
      "Recognizing Text: 100%|██████████| 1/1 [00:00<00:00,  2.06it/s]\n",
      "Recognizing equations: 0it [00:00, ?it/s]\n",
      "Detecting bboxes: 0it [00:00, ?it/s]\n",
      " 90%|████████▉ | 692/773 [06:32<01:25,  1.06s/it]"
     ]
    },
    {
     "name": "stdout",
     "output_type": "stream",
     "text": [
      "converting D:\\pdf_data\\Ventilation Mécanique Répartie (VMR) - Montage des grilles -19.pdf to markdown ...\n"
     ]
    },
    {
     "name": "stderr",
     "output_type": "stream",
     "text": [
      "Recognizing layout: 100%|██████████| 1/1 [00:00<00:00,  5.75it/s]\n",
      "100%|██████████| 1/1 [00:00<00:00, 125.02it/s]\n",
      "Detecting bboxes: 100%|██████████| 1/1 [00:00<00:00,  5.75it/s]\n",
      "Recognizing Text: 100%|██████████| 1/1 [00:00<00:00,  3.14it/s]\n",
      "Recognizing equations: 0it [00:00, ?it/s]\n",
      "Detecting bboxes: 0it [00:00, ?it/s]\n",
      " 90%|████████▉ | 693/773 [06:32<01:17,  1.04it/s]"
     ]
    },
    {
     "name": "stdout",
     "output_type": "stream",
     "text": [
      "converting D:\\pdf_data\\Ventilation Mécanique Répartie (VMR) - Nettoyage des points d'extraction - 24.pdf to markdown ...\n"
     ]
    },
    {
     "name": "stderr",
     "output_type": "stream",
     "text": [
      "Recognizing layout: 100%|██████████| 1/1 [00:00<00:00,  6.66it/s]\n",
      "100%|██████████| 1/1 [00:00<00:00, 90.86it/s]\n",
      "Detecting bboxes: 100%|██████████| 1/1 [00:00<00:00,  6.15it/s]\n",
      "Recognizing Text: 100%|██████████| 1/1 [00:00<00:00,  3.52it/s]\n",
      "Recognizing equations: 0it [00:00, ?it/s]\n",
      "Detecting bboxes: 0it [00:00, ?it/s]\n",
      " 90%|████████▉ | 694/773 [06:33<01:09,  1.13it/s]"
     ]
    },
    {
     "name": "stdout",
     "output_type": "stream",
     "text": [
      "converting D:\\pdf_data\\Ventilation Mécanique Répartie (VMR) - Passage de transit - 14.pdf to markdown ...\n"
     ]
    },
    {
     "name": "stderr",
     "output_type": "stream",
     "text": [
      "Recognizing layout: 100%|██████████| 1/1 [00:00<00:00,  6.17it/s]\n",
      "100%|██████████| 1/1 [00:00<00:00, 142.79it/s]\n",
      "Detecting bboxes: 100%|██████████| 1/1 [00:00<00:00,  5.95it/s]\n",
      "Recognizing Text: 100%|██████████| 1/1 [00:00<00:00,  2.85it/s]\n",
      "Recognizing equations: 0it [00:00, ?it/s]\n",
      "Detecting bboxes: 0it [00:00, ?it/s]\n",
      " 90%|████████▉ | 695/773 [06:34<01:05,  1.18it/s]"
     ]
    },
    {
     "name": "stdout",
     "output_type": "stream",
     "text": [
      "converting D:\\pdf_data\\Ventilation Mécanique Répartie (VMR) - Passage de transit - 15.pdf to markdown ...\n"
     ]
    },
    {
     "name": "stderr",
     "output_type": "stream",
     "text": [
      "Recognizing layout: 100%|██████████| 1/1 [00:00<00:00,  5.65it/s]\n",
      "100%|██████████| 1/1 [00:00<00:00, 90.92it/s]\n",
      "Detecting bboxes: 100%|██████████| 1/1 [00:00<00:00,  6.17it/s]\n",
      "Recognizing Text: 100%|██████████| 1/1 [00:00<00:00,  3.37it/s]\n",
      "Recognizing equations: 0it [00:00, ?it/s]\n",
      "Detecting bboxes: 0it [00:00, ?it/s]\n",
      " 90%|█████████ | 696/773 [06:35<01:01,  1.24it/s]"
     ]
    },
    {
     "name": "stdout",
     "output_type": "stream",
     "text": [
      "converting D:\\pdf_data\\Ventilation Mécanique Répartie (VMR) - Passage de transit - 16.pdf to markdown ...\n"
     ]
    },
    {
     "name": "stderr",
     "output_type": "stream",
     "text": [
      "Recognizing layout: 100%|██████████| 1/1 [00:00<00:00,  6.99it/s]\n",
      "100%|██████████| 1/1 [00:00<00:00, 142.87it/s]\n",
      "Detecting bboxes: 100%|██████████| 1/1 [00:00<00:00,  6.39it/s]\n",
      "Recognizing Text: 100%|██████████| 1/1 [00:00<00:00,  3.63it/s]\n",
      "Recognizing equations: 0it [00:00, ?it/s]\n",
      "Detecting bboxes: 0it [00:00, ?it/s]\n",
      " 90%|█████████ | 697/773 [06:35<00:57,  1.33it/s]"
     ]
    },
    {
     "name": "stdout",
     "output_type": "stream",
     "text": [
      "converting D:\\pdf_data\\Ventilation Mécanique Répartie (VMR) - Règles acoustiques - 10.pdf to markdown ...\n"
     ]
    },
    {
     "name": "stderr",
     "output_type": "stream",
     "text": [
      "Recognizing layout: 100%|██████████| 1/1 [00:00<00:00,  5.88it/s]\n",
      "100%|██████████| 1/1 [00:00<00:00, 142.78it/s]\n",
      "Detecting bboxes: 100%|██████████| 1/1 [00:00<00:00,  5.90it/s]\n",
      "Recognizing Text: 100%|██████████| 1/1 [00:00<00:00,  1.50it/s]\n",
      "Recognizing equations: 0it [00:00, ?it/s]\n",
      "Detecting bboxes: 0it [00:00, ?it/s]\n",
      " 90%|█████████ | 698/773 [06:36<01:03,  1.17it/s]"
     ]
    },
    {
     "name": "stdout",
     "output_type": "stream",
     "text": [
      "converting D:\\pdf_data\\Ventilation Mécanique Répartie (VMR) - règles électriques - 7.pdf to markdown ...\n"
     ]
    },
    {
     "name": "stderr",
     "output_type": "stream",
     "text": [
      "Recognizing layout: 100%|██████████| 1/1 [00:00<00:00,  6.23it/s]\n",
      "100%|██████████| 1/1 [00:00<00:00, 142.94it/s]\n",
      "Detecting bboxes: 100%|██████████| 1/1 [00:00<00:00,  5.66it/s]\n",
      "Recognizing Text: 100%|██████████| 1/1 [00:00<00:00,  2.00it/s]\n",
      "Recognizing equations: 0it [00:00, ?it/s]\n",
      "Detecting bboxes: 0it [00:00, ?it/s]\n",
      " 90%|█████████ | 699/773 [06:37<01:04,  1.14it/s]"
     ]
    },
    {
     "name": "stdout",
     "output_type": "stream",
     "text": [
      "converting D:\\pdf_data\\Ventilation Mécanique Répartie (VMR) - règles électriques - 8.pdf to markdown ...\n"
     ]
    },
    {
     "name": "stderr",
     "output_type": "stream",
     "text": [
      "Recognizing layout: 100%|██████████| 1/1 [00:00<00:00,  6.69it/s]\n",
      "100%|██████████| 1/1 [00:00<00:00, 143.32it/s]\n",
      "Detecting bboxes: 100%|██████████| 1/1 [00:00<00:00,  5.57it/s]\n",
      "Recognizing Text: 100%|██████████| 1/1 [00:00<00:00,  1.87it/s]\n",
      "Recognizing equations: 0it [00:00, ?it/s]\n",
      "Detecting bboxes: 0it [00:00, ?it/s]\n",
      " 91%|█████████ | 700/773 [06:38<01:05,  1.12it/s]"
     ]
    },
    {
     "name": "stdout",
     "output_type": "stream",
     "text": [
      "converting D:\\pdf_data\\Ventilation Mécanique Répartie (VMR) - Schéma de principe - 1.pdf to markdown ...\n"
     ]
    },
    {
     "name": "stderr",
     "output_type": "stream",
     "text": [
      "Recognizing layout: 100%|██████████| 1/1 [00:00<00:00,  6.21it/s]\n",
      "100%|██████████| 1/1 [00:00<00:00, 124.98it/s]\n",
      "Detecting bboxes: 100%|██████████| 1/1 [00:00<00:00,  5.92it/s]\n",
      "Recognizing Text: 100%|██████████| 1/1 [00:00<00:00,  2.10it/s]\n",
      "Recognizing equations: 0it [00:00, ?it/s]\n",
      "Detecting bboxes: 0it [00:00, ?it/s]\n",
      " 91%|█████████ | 701/773 [06:39<01:04,  1.12it/s]"
     ]
    },
    {
     "name": "stdout",
     "output_type": "stream",
     "text": [
      "converting D:\\pdf_data\\Ventilation Mécanique Répartie (VMR) - Traversée de parois - 21.pdf to markdown ...\n"
     ]
    },
    {
     "name": "stderr",
     "output_type": "stream",
     "text": [
      "Recognizing layout: 100%|██████████| 1/1 [00:00<00:00,  6.67it/s]\n",
      "100%|██████████| 1/1 [00:00<00:00, 90.92it/s]\n",
      "Detecting bboxes: 100%|██████████| 1/1 [00:00<00:00,  5.40it/s]\n",
      "Recognizing Text: 100%|██████████| 1/1 [00:00<00:00,  1.59it/s]\n",
      "Recognizing equations: 0it [00:00, ?it/s]\n",
      "Detecting bboxes: 0it [00:00, ?it/s]\n",
      " 91%|█████████ | 702/773 [06:40<01:06,  1.06it/s]"
     ]
    },
    {
     "name": "stdout",
     "output_type": "stream",
     "text": [
      "converting D:\\pdf_data\\Ventilation Mécanique Répartie (VMR) - Traversée de parois - 22.pdf to markdown ...\n"
     ]
    },
    {
     "name": "stderr",
     "output_type": "stream",
     "text": [
      "Recognizing layout: 100%|██████████| 1/1 [00:00<00:00,  6.32it/s]\n",
      "100%|██████████| 1/1 [00:00<00:00, 125.01it/s]\n",
      "Detecting bboxes: 100%|██████████| 1/1 [00:00<00:00,  5.40it/s]\n",
      "Recognizing Text: 100%|██████████| 1/1 [00:00<00:00,  1.37it/s]\n",
      "Recognizing equations: 0it [00:00, ?it/s]\n",
      "Detecting bboxes: 0it [00:00, ?it/s]\n",
      " 91%|█████████ | 703/773 [06:41<01:10,  1.01s/it]"
     ]
    },
    {
     "name": "stdout",
     "output_type": "stream",
     "text": [
      "converting D:\\pdf_data\\Ventilation naturelle obstruée.pdf to markdown ...\n"
     ]
    },
    {
     "name": "stderr",
     "output_type": "stream",
     "text": [
      "Recognizing layout: 100%|██████████| 1/1 [00:00<00:00,  1.04it/s]\n",
      "100%|██████████| 1/1 [00:00<00:00, 132.50it/s]\n",
      "Detecting bboxes: 0it [00:00, ?it/s]\n",
      "Recognizing equations: 0it [00:00, ?it/s]\n",
      "Detecting bboxes: 0it [00:00, ?it/s]\n",
      " 91%|█████████ | 704/773 [06:43<01:19,  1.15s/it]"
     ]
    },
    {
     "name": "stdout",
     "output_type": "stream",
     "text": [
      "converting D:\\pdf_data\\Ventilation simple flux en rénovation - 12 enseignements à connaître.pdf to markdown ...\n"
     ]
    },
    {
     "name": "stderr",
     "output_type": "stream",
     "text": [
      "Recognizing layout: 100%|██████████| 5/5 [00:05<00:00,  1.11s/it]\n",
      "100%|██████████| 5/5 [00:00<00:00, 54.61it/s]\n",
      "Detecting bboxes: 0it [00:00, ?it/s]\n",
      "Recognizing equations: 0it [00:00, ?it/s]\n",
      "Detecting bboxes: 0it [00:00, ?it/s]\n",
      "Recognizing tables: 100%|██████████| 1/1 [00:00<00:00,  1.27it/s]\n",
      " 91%|█████████ | 705/773 [07:00<06:53,  6.08s/it]"
     ]
    },
    {
     "name": "stdout",
     "output_type": "stream",
     "text": [
      "converting D:\\pdf_data\\Vitrage à contrôle solaire.pdf to markdown ...\n"
     ]
    },
    {
     "name": "stderr",
     "output_type": "stream",
     "text": [
      "Recognizing layout: 100%|██████████| 1/1 [00:00<00:00,  6.97it/s]\n",
      "100%|██████████| 1/1 [00:00<00:00, 142.85it/s]\n",
      "Detecting bboxes: 100%|██████████| 1/1 [00:00<00:00,  6.45it/s]\n",
      "Recognizing Text: 100%|██████████| 1/1 [00:00<00:00,  2.83it/s]\n",
      "Recognizing equations: 0it [00:00, ?it/s]\n",
      "Detecting bboxes: 0it [00:00, ?it/s]\n",
      " 91%|█████████▏| 706/773 [07:01<04:59,  4.47s/it]"
     ]
    },
    {
     "name": "stdout",
     "output_type": "stream",
     "text": [
      "converting D:\\pdf_data\\Vitrage à Isolation Renforcée (VIR).pdf to markdown ...\n"
     ]
    },
    {
     "name": "stderr",
     "output_type": "stream",
     "text": [
      "Recognizing layout: 100%|██████████| 1/1 [00:00<00:00,  7.51it/s]\n",
      "100%|██████████| 1/1 [00:00<00:00, 125.02it/s]\n",
      "Detecting bboxes: 100%|██████████| 1/1 [00:00<00:00,  6.20it/s]\n",
      "Recognizing Text: 100%|██████████| 1/1 [00:00<00:00,  2.52it/s]\n",
      "Recognizing equations: 0it [00:00, ?it/s]\n",
      "Detecting bboxes: 0it [00:00, ?it/s]\n",
      " 91%|█████████▏| 707/773 [07:02<03:41,  3.35s/it]"
     ]
    },
    {
     "name": "stdout",
     "output_type": "stream",
     "text": [
      "converting D:\\pdf_data\\VMC - Qualité de l’air intérieur et logement BCC.pdf to markdown ...\n"
     ]
    },
    {
     "name": "stderr",
     "output_type": "stream",
     "text": [
      "Recognizing layout: 100%|██████████| 2/2 [00:02<00:00,  1.27s/it]\n",
      "100%|██████████| 2/2 [00:00<00:00, 51.29it/s]\n",
      "Detecting bboxes: 0it [00:00, ?it/s]\n",
      "Recognizing equations: 0it [00:00, ?it/s]\n",
      "Detecting bboxes: 0it [00:00, ?it/s]\n",
      " 92%|█████████▏| 708/773 [07:07<04:17,  3.97s/it]"
     ]
    },
    {
     "name": "stdout",
     "output_type": "stream",
     "text": [
      "converting D:\\pdf_data\\VMC double flux - bouches de soufflage - Non qualité.pdf to markdown ...\n"
     ]
    },
    {
     "name": "stderr",
     "output_type": "stream",
     "text": [
      "Recognizing layout: 100%|██████████| 1/1 [00:00<00:00,  1.98it/s]\n",
      "100%|██████████| 1/1 [00:00<00:00, 111.03it/s]\n",
      "Detecting bboxes: 0it [00:00, ?it/s]\n",
      "Recognizing equations: 0it [00:00, ?it/s]\n",
      "Detecting bboxes: 0it [00:00, ?it/s]\n",
      "Recognizing tables: 100%|██████████| 1/1 [00:00<00:00,  1.99it/s]\n",
      " 92%|█████████▏| 709/773 [07:08<03:21,  3.15s/it]"
     ]
    },
    {
     "name": "stdout",
     "output_type": "stream",
     "text": [
      "converting D:\\pdf_data\\VMC double flux - caisson de ventilation - Non qualité.pdf to markdown ...\n"
     ]
    },
    {
     "name": "stderr",
     "output_type": "stream",
     "text": [
      "Recognizing layout: 100%|██████████| 1/1 [00:00<00:00,  3.26it/s]\n",
      "100%|██████████| 1/1 [00:00<00:00, 142.83it/s]\n",
      "Detecting bboxes: 0it [00:00, ?it/s]\n",
      "Recognizing equations: 0it [00:00, ?it/s]\n",
      "Detecting bboxes: 0it [00:00, ?it/s]\n",
      "Recognizing tables: 100%|██████████| 1/1 [00:00<00:00,  1.98it/s]\n",
      " 92%|█████████▏| 710/773 [07:09<02:38,  2.52s/it]"
     ]
    },
    {
     "name": "stdout",
     "output_type": "stream",
     "text": [
      "converting D:\\pdf_data\\VMC double flux - entrée d'air - Non qualité.pdf to markdown ...\n"
     ]
    },
    {
     "name": "stderr",
     "output_type": "stream",
     "text": [
      "Recognizing layout: 100%|██████████| 1/1 [00:00<00:00,  2.08it/s]\n",
      "100%|██████████| 1/1 [00:00<00:00, 110.16it/s]\n",
      "Detecting bboxes: 0it [00:00, ?it/s]\n",
      "Recognizing equations: 0it [00:00, ?it/s]\n",
      "Detecting bboxes: 0it [00:00, ?it/s]\n",
      "Recognizing tables: 100%|██████████| 1/1 [00:00<00:00,  1.59it/s]\n",
      " 92%|█████████▏| 711/773 [07:11<02:15,  2.18s/it]"
     ]
    },
    {
     "name": "stdout",
     "output_type": "stream",
     "text": [
      "converting D:\\pdf_data\\VMC double flux - filtres - Non qualité.pdf to markdown ...\n"
     ]
    },
    {
     "name": "stderr",
     "output_type": "stream",
     "text": [
      "Recognizing layout: 100%|██████████| 1/1 [00:00<00:00,  3.00it/s]\n",
      "100%|██████████| 1/1 [00:00<00:00, 124.87it/s]\n",
      "Detecting bboxes: 0it [00:00, ?it/s]\n",
      "Recognizing equations: 0it [00:00, ?it/s]\n",
      "Detecting bboxes: 0it [00:00, ?it/s]\n",
      "Recognizing tables: 100%|██████████| 1/1 [00:00<00:00,  1.70it/s]\n",
      " 92%|█████████▏| 712/773 [07:12<01:54,  1.87s/it]"
     ]
    },
    {
     "name": "stdout",
     "output_type": "stream",
     "text": [
      "converting D:\\pdf_data\\VMC double flux - Prise d'air neuf et rejet d'air vicié - Bonne pratique.pdf to markdown ...\n"
     ]
    },
    {
     "name": "stderr",
     "output_type": "stream",
     "text": [
      "Recognizing layout: 100%|██████████| 1/1 [00:00<00:00,  3.11it/s]\n",
      "100%|██████████| 1/1 [00:00<00:00, 142.86it/s]\n",
      "Detecting bboxes: 0it [00:00, ?it/s]\n",
      "Recognizing equations: 0it [00:00, ?it/s]\n",
      "Detecting bboxes: 0it [00:00, ?it/s]\n",
      "Recognizing tables: 100%|██████████| 1/1 [00:00<00:00,  1.50it/s]\n",
      " 92%|█████████▏| 713/773 [07:13<01:41,  1.69s/it]"
     ]
    },
    {
     "name": "stdout",
     "output_type": "stream",
     "text": [
      "converting D:\\pdf_data\\VMC double flux - réseau aéraulique - Bonne pratique.pdf to markdown ...\n"
     ]
    },
    {
     "name": "stderr",
     "output_type": "stream",
     "text": [
      "Recognizing layout: 100%|██████████| 1/1 [00:00<00:00,  1.63it/s]\n",
      "100%|██████████| 1/1 [00:00<00:00, 124.61it/s]\n",
      "Detecting bboxes: 0it [00:00, ?it/s]\n",
      "Recognizing equations: 0it [00:00, ?it/s]\n",
      "Detecting bboxes: 0it [00:00, ?it/s]\n",
      "Recognizing tables: 100%|██████████| 1/1 [00:00<00:00,  3.02it/s]\n",
      " 92%|█████████▏| 714/773 [07:14<01:30,  1.54s/it]"
     ]
    },
    {
     "name": "stdout",
     "output_type": "stream",
     "text": [
      "converting D:\\pdf_data\\VMC double flux - unité de ventilation - Bonne Pratique.pdf to markdown ...\n"
     ]
    },
    {
     "name": "stderr",
     "output_type": "stream",
     "text": [
      "Recognizing layout: 100%|██████████| 1/1 [00:00<00:00,  2.55it/s]\n",
      "100%|██████████| 1/1 [00:00<00:00, 125.09it/s]\n",
      "Detecting bboxes: 0it [00:00, ?it/s]\n",
      "Recognizing equations: 0it [00:00, ?it/s]\n",
      "Detecting bboxes: 0it [00:00, ?it/s]\n",
      "Recognizing tables: 100%|██████████| 1/1 [00:00<00:00,  1.62it/s]\n",
      " 92%|█████████▏| 715/773 [07:16<01:25,  1.48s/it]"
     ]
    },
    {
     "name": "stdout",
     "output_type": "stream",
     "text": [
      "converting D:\\pdf_data\\VMC double flux - unité de ventilation - Non qualité.pdf to markdown ...\n"
     ]
    },
    {
     "name": "stderr",
     "output_type": "stream",
     "text": [
      "Recognizing layout: 100%|██████████| 1/1 [00:00<00:00,  2.44it/s]\n",
      "100%|██████████| 1/1 [00:00<00:00, 142.69it/s]\n",
      "Detecting bboxes: 0it [00:00, ?it/s]\n",
      "Recognizing equations: 0it [00:00, ?it/s]\n",
      "Detecting bboxes: 0it [00:00, ?it/s]\n",
      "Recognizing tables: 100%|██████████| 1/1 [00:00<00:00,  1.79it/s]\n",
      " 93%|█████████▎| 716/773 [07:17<01:21,  1.42s/it]"
     ]
    },
    {
     "name": "stdout",
     "output_type": "stream",
     "text": [
      "pdf D:\\pdf_data\\VMC Double flux en habitat collectif.pdf not found, skipping ... \n",
      "converting D:\\pdf_data\\VMC Double Flux en habitat individuel - neuf et rénovation - 1.pdf to markdown ...\n"
     ]
    },
    {
     "name": "stderr",
     "output_type": "stream",
     "text": [
      "Recognizing layout: 100%|██████████| 1/1 [00:00<00:00,  6.99it/s]\n",
      "100%|██████████| 1/1 [00:00<00:00, 125.00it/s]\n",
      "Detecting bboxes: 100%|██████████| 1/1 [00:00<00:00,  5.88it/s]\n",
      "Recognizing Text: 100%|██████████| 1/1 [00:00<00:00,  2.84it/s]\n",
      "Recognizing equations: 0it [00:00, ?it/s]\n",
      "Detecting bboxes: 0it [00:00, ?it/s]\n",
      " 93%|█████████▎| 718/773 [07:18<00:51,  1.07it/s]"
     ]
    },
    {
     "name": "stdout",
     "output_type": "stream",
     "text": [
      "converting D:\\pdf_data\\VMC Double Flux en habitat individuel - neuf et rénovation - 10.pdf to markdown ...\n"
     ]
    },
    {
     "name": "stderr",
     "output_type": "stream",
     "text": [
      "Recognizing layout: 100%|██████████| 1/1 [00:00<00:00,  6.31it/s]\n",
      "100%|██████████| 1/1 [00:00<00:00, 142.88it/s]\n",
      "Detecting bboxes: 100%|██████████| 1/1 [00:00<00:00,  5.33it/s]\n",
      "Recognizing Text: 100%|██████████| 1/1 [00:01<00:00,  1.08s/it]\n",
      "Recognizing equations: 0it [00:00, ?it/s]\n",
      "Detecting bboxes: 0it [00:00, ?it/s]\n",
      " 93%|█████████▎| 719/773 [07:19<00:58,  1.08s/it]"
     ]
    },
    {
     "name": "stdout",
     "output_type": "stream",
     "text": [
      "converting D:\\pdf_data\\VMC Double Flux en habitat individuel - neuf et rénovation - 11.pdf to markdown ...\n"
     ]
    },
    {
     "name": "stderr",
     "output_type": "stream",
     "text": [
      "Recognizing layout: 100%|██████████| 1/1 [00:00<00:00,  5.58it/s]\n",
      "100%|██████████| 1/1 [00:00<00:00, 142.89it/s]\n",
      "Detecting bboxes: 100%|██████████| 1/1 [00:00<00:00,  5.06it/s]\n",
      "Recognizing Text: 100%|██████████| 1/1 [00:00<00:00,  1.35it/s]\n",
      "Recognizing equations: 0it [00:00, ?it/s]\n",
      "Detecting bboxes: 0it [00:00, ?it/s]\n",
      " 93%|█████████▎| 720/773 [07:21<00:59,  1.12s/it]"
     ]
    },
    {
     "name": "stdout",
     "output_type": "stream",
     "text": [
      "converting D:\\pdf_data\\VMC Double Flux en habitat individuel - neuf et rénovation - 12.pdf to markdown ...\n"
     ]
    },
    {
     "name": "stderr",
     "output_type": "stream",
     "text": [
      "Recognizing layout: 100%|██████████| 1/1 [00:00<00:00,  2.91it/s]\n",
      "100%|██████████| 1/1 [00:00<00:00, 111.13it/s]\n",
      "Detecting bboxes: 100%|██████████| 1/1 [00:00<00:00,  4.85it/s]\n",
      "Recognizing Text: 100%|██████████| 1/1 [00:00<00:00,  1.32it/s]\n",
      "Recognizing equations: 0it [00:00, ?it/s]\n",
      "Detecting bboxes: 0it [00:00, ?it/s]\n",
      " 93%|█████████▎| 721/773 [07:22<01:02,  1.20s/it]"
     ]
    },
    {
     "name": "stdout",
     "output_type": "stream",
     "text": [
      "converting D:\\pdf_data\\VMC Double Flux en habitat individuel - neuf et rénovation - 13.pdf to markdown ...\n"
     ]
    },
    {
     "name": "stderr",
     "output_type": "stream",
     "text": [
      "Recognizing layout: 100%|██████████| 1/1 [00:00<00:00,  6.17it/s]\n",
      "100%|██████████| 1/1 [00:00<00:00, 125.11it/s]\n",
      "Detecting bboxes: 100%|██████████| 1/1 [00:00<00:00,  6.13it/s]\n",
      "Recognizing Text: 100%|██████████| 1/1 [00:00<00:00,  4.12it/s]\n",
      "Recognizing equations: 0it [00:00, ?it/s]\n",
      "Detecting bboxes: 0it [00:00, ?it/s]\n",
      " 93%|█████████▎| 722/773 [07:23<00:53,  1.04s/it]"
     ]
    },
    {
     "name": "stdout",
     "output_type": "stream",
     "text": [
      "converting D:\\pdf_data\\VMC Double Flux en habitat individuel - neuf et rénovation - 14.pdf to markdown ...\n"
     ]
    },
    {
     "name": "stderr",
     "output_type": "stream",
     "text": [
      "Recognizing layout: 100%|██████████| 1/1 [00:00<00:00,  6.08it/s]\n",
      "100%|██████████| 1/1 [00:00<00:00, 125.00it/s]\n",
      "Detecting bboxes: 100%|██████████| 1/1 [00:00<00:00,  5.86it/s]\n",
      "Recognizing Text: 100%|██████████| 1/1 [00:00<00:00,  2.35it/s]\n",
      "Recognizing equations: 0it [00:00, ?it/s]\n",
      "Detecting bboxes: 0it [00:00, ?it/s]\n",
      " 94%|█████████▎| 723/773 [07:23<00:49,  1.01it/s]"
     ]
    },
    {
     "name": "stdout",
     "output_type": "stream",
     "text": [
      "converting D:\\pdf_data\\VMC Double Flux en habitat individuel - neuf et rénovation - 15.pdf to markdown ...\n"
     ]
    },
    {
     "name": "stderr",
     "output_type": "stream",
     "text": [
      "Recognizing layout: 100%|██████████| 1/1 [00:00<00:00,  5.46it/s]\n",
      "100%|██████████| 1/1 [00:00<00:00, 125.02it/s]\n",
      "Detecting bboxes: 100%|██████████| 1/1 [00:00<00:00,  5.95it/s]\n",
      "Recognizing Text: 100%|██████████| 1/1 [00:00<00:00,  3.06it/s]\n",
      "Recognizing equations: 0it [00:00, ?it/s]\n",
      "Detecting bboxes: 0it [00:00, ?it/s]\n",
      " 94%|█████████▎| 724/773 [07:24<00:45,  1.08it/s]"
     ]
    },
    {
     "name": "stdout",
     "output_type": "stream",
     "text": [
      "converting D:\\pdf_data\\VMC Double Flux en habitat individuel - neuf et rénovation - 16.pdf to markdown ...\n"
     ]
    },
    {
     "name": "stderr",
     "output_type": "stream",
     "text": [
      "Recognizing layout: 100%|██████████| 1/1 [00:00<00:00,  4.73it/s]\n",
      "100%|██████████| 1/1 [00:00<00:00, 111.08it/s]\n",
      "Detecting bboxes: 100%|██████████| 1/1 [00:00<00:00,  5.95it/s]\n",
      "Recognizing Text: 100%|██████████| 1/1 [00:00<00:00,  3.58it/s]\n",
      "Recognizing equations: 0it [00:00, ?it/s]\n",
      "Detecting bboxes: 0it [00:00, ?it/s]\n",
      " 94%|█████████▍| 725/773 [07:25<00:41,  1.15it/s]"
     ]
    },
    {
     "name": "stdout",
     "output_type": "stream",
     "text": [
      "converting D:\\pdf_data\\VMC Double Flux en habitat individuel - neuf et rénovation - 17.pdf to markdown ...\n"
     ]
    },
    {
     "name": "stderr",
     "output_type": "stream",
     "text": [
      "Recognizing layout: 100%|██████████| 1/1 [00:00<00:00,  4.90it/s]\n",
      "100%|██████████| 1/1 [00:00<00:00, 90.93it/s]\n",
      "Detecting bboxes: 100%|██████████| 1/1 [00:00<00:00,  5.70it/s]\n",
      "Recognizing Text: 100%|██████████| 1/1 [00:00<00:00,  4.03it/s]\n",
      "Recognizing equations: 0it [00:00, ?it/s]\n",
      "Detecting bboxes: 0it [00:00, ?it/s]\n",
      " 94%|█████████▍| 726/773 [07:26<00:38,  1.21it/s]"
     ]
    },
    {
     "name": "stdout",
     "output_type": "stream",
     "text": [
      "converting D:\\pdf_data\\VMC Double Flux en habitat individuel - neuf et rénovation - 18.pdf to markdown ...\n"
     ]
    },
    {
     "name": "stderr",
     "output_type": "stream",
     "text": [
      "Recognizing layout: 100%|██████████| 1/1 [00:00<00:00,  6.45it/s]\n",
      "100%|██████████| 1/1 [00:00<00:00, 142.88it/s]\n",
      "Detecting bboxes: 100%|██████████| 1/1 [00:00<00:00,  6.15it/s]\n",
      "Recognizing Text: 100%|██████████| 1/1 [00:00<00:00,  4.33it/s]\n",
      "Recognizing equations: 0it [00:00, ?it/s]\n",
      "Detecting bboxes: 0it [00:00, ?it/s]\n",
      " 94%|█████████▍| 727/773 [07:26<00:35,  1.31it/s]"
     ]
    },
    {
     "name": "stdout",
     "output_type": "stream",
     "text": [
      "converting D:\\pdf_data\\VMC Double Flux en habitat individuel - neuf et rénovation - 19.pdf to markdown ...\n"
     ]
    },
    {
     "name": "stderr",
     "output_type": "stream",
     "text": [
      "Recognizing layout: 100%|██████████| 1/1 [00:00<00:00,  5.77it/s]\n",
      "100%|██████████| 1/1 [00:00<00:00, 125.03it/s]\n",
      "Detecting bboxes: 100%|██████████| 1/1 [00:00<00:00,  5.80it/s]\n",
      "Recognizing Text: 100%|██████████| 1/1 [00:00<00:00,  4.83it/s]\n",
      "Recognizing equations: 0it [00:00, ?it/s]\n",
      "Detecting bboxes: 0it [00:00, ?it/s]\n",
      " 94%|█████████▍| 728/773 [07:27<00:32,  1.37it/s]"
     ]
    },
    {
     "name": "stdout",
     "output_type": "stream",
     "text": [
      "converting D:\\pdf_data\\VMC Double Flux en habitat individuel - neuf et rénovation - 2.pdf to markdown ...\n"
     ]
    },
    {
     "name": "stderr",
     "output_type": "stream",
     "text": [
      "Recognizing layout: 100%|██████████| 1/1 [00:00<00:00,  5.10it/s]\n",
      "100%|██████████| 1/1 [00:00<00:00, 125.04it/s]\n",
      "Detecting bboxes: 100%|██████████| 1/1 [00:00<00:00,  6.29it/s]\n",
      "Recognizing Text: 100%|██████████| 1/1 [00:00<00:00,  2.72it/s]\n",
      "Recognizing equations: 0it [00:00, ?it/s]\n",
      "Detecting bboxes: 0it [00:00, ?it/s]\n",
      " 94%|█████████▍| 729/773 [07:28<00:32,  1.35it/s]"
     ]
    },
    {
     "name": "stdout",
     "output_type": "stream",
     "text": [
      "converting D:\\pdf_data\\VMC Double Flux en habitat individuel - neuf et rénovation - 20.pdf to markdown ...\n"
     ]
    },
    {
     "name": "stderr",
     "output_type": "stream",
     "text": [
      "Recognizing layout: 100%|██████████| 1/1 [00:00<00:00,  6.51it/s]\n",
      "100%|██████████| 1/1 [00:00<00:00, 142.85it/s]\n",
      "Detecting bboxes: 100%|██████████| 1/1 [00:00<00:00,  5.88it/s]\n",
      "Recognizing Text: 100%|██████████| 1/1 [00:00<00:00,  4.39it/s]\n",
      "Recognizing equations: 0it [00:00, ?it/s]\n",
      "Detecting bboxes: 0it [00:00, ?it/s]\n",
      " 94%|█████████▍| 730/773 [07:28<00:30,  1.41it/s]"
     ]
    },
    {
     "name": "stdout",
     "output_type": "stream",
     "text": [
      "converting D:\\pdf_data\\VMC Double Flux en habitat individuel - neuf et rénovation - 21.pdf to markdown ...\n"
     ]
    },
    {
     "name": "stderr",
     "output_type": "stream",
     "text": [
      "Recognizing layout: 100%|██████████| 1/1 [00:00<00:00,  6.13it/s]\n",
      "100%|██████████| 1/1 [00:00<00:00, 111.13it/s]\n",
      "Detecting bboxes: 100%|██████████| 1/1 [00:00<00:00,  5.78it/s]\n",
      "Recognizing Text: 100%|██████████| 1/1 [00:00<00:00,  3.49it/s]\n",
      "Recognizing equations: 0it [00:00, ?it/s]\n",
      "Detecting bboxes: 0it [00:00, ?it/s]\n",
      " 95%|█████████▍| 731/773 [07:29<00:29,  1.41it/s]"
     ]
    },
    {
     "name": "stdout",
     "output_type": "stream",
     "text": [
      "converting D:\\pdf_data\\VMC Double Flux en habitat individuel - neuf et rénovation - 22.pdf to markdown ...\n"
     ]
    },
    {
     "name": "stderr",
     "output_type": "stream",
     "text": [
      "Recognizing layout: 100%|██████████| 1/1 [00:00<00:00,  6.06it/s]\n",
      "100%|██████████| 1/1 [00:00<00:00, 142.92it/s]\n",
      "Detecting bboxes: 100%|██████████| 1/1 [00:00<00:00,  5.50it/s]\n",
      "Recognizing Text: 100%|██████████| 1/1 [00:00<00:00,  3.45it/s]\n",
      "Recognizing equations: 0it [00:00, ?it/s]\n",
      "Detecting bboxes: 0it [00:00, ?it/s]\n",
      " 95%|█████████▍| 732/773 [07:30<00:29,  1.40it/s]"
     ]
    },
    {
     "name": "stdout",
     "output_type": "stream",
     "text": [
      "converting D:\\pdf_data\\VMC Double Flux en habitat individuel - neuf et rénovation - 23.pdf to markdown ...\n"
     ]
    },
    {
     "name": "stderr",
     "output_type": "stream",
     "text": [
      "Recognizing layout: 100%|██████████| 1/1 [00:00<00:00,  6.25it/s]\n",
      "100%|██████████| 1/1 [00:00<00:00, 142.90it/s]\n",
      "Detecting bboxes: 100%|██████████| 1/1 [00:00<00:00,  5.62it/s]\n",
      "Recognizing Text: 100%|██████████| 1/1 [00:00<00:00,  2.85it/s]\n",
      "Recognizing equations: 0it [00:00, ?it/s]\n",
      "Detecting bboxes: 0it [00:00, ?it/s]\n",
      " 95%|█████████▍| 733/773 [07:31<00:29,  1.37it/s]"
     ]
    },
    {
     "name": "stdout",
     "output_type": "stream",
     "text": [
      "converting D:\\pdf_data\\VMC Double Flux en habitat individuel - neuf et rénovation - 24.pdf to markdown ...\n"
     ]
    },
    {
     "name": "stderr",
     "output_type": "stream",
     "text": [
      "Recognizing layout: 100%|██████████| 1/1 [00:00<00:00,  5.81it/s]\n",
      "100%|██████████| 1/1 [00:00<00:00, 125.06it/s]\n",
      "Detecting bboxes: 100%|██████████| 1/1 [00:00<00:00,  5.52it/s]\n",
      "Recognizing Text: 100%|██████████| 1/1 [00:00<00:00,  2.71it/s]\n",
      "Recognizing equations: 0it [00:00, ?it/s]\n",
      "Detecting bboxes: 0it [00:00, ?it/s]\n",
      " 95%|█████████▍| 734/773 [07:31<00:29,  1.32it/s]"
     ]
    },
    {
     "name": "stdout",
     "output_type": "stream",
     "text": [
      "converting D:\\pdf_data\\VMC Double Flux en habitat individuel - neuf et rénovation - 25.pdf to markdown ...\n"
     ]
    },
    {
     "name": "stderr",
     "output_type": "stream",
     "text": [
      "Recognizing layout: 100%|██████████| 1/1 [00:00<00:00,  6.53it/s]\n",
      "100%|██████████| 1/1 [00:00<00:00, 125.04it/s]\n",
      "Detecting bboxes: 100%|██████████| 1/1 [00:00<00:00,  5.40it/s]\n",
      "Recognizing Text: 100%|██████████| 1/1 [00:00<00:00,  2.18it/s]\n",
      "Recognizing equations: 0it [00:00, ?it/s]\n",
      "Detecting bboxes: 0it [00:00, ?it/s]\n",
      " 95%|█████████▌| 735/773 [07:32<00:30,  1.26it/s]"
     ]
    },
    {
     "name": "stdout",
     "output_type": "stream",
     "text": [
      "converting D:\\pdf_data\\VMC Double Flux en habitat individuel - neuf et rénovation - 26.pdf to markdown ...\n"
     ]
    },
    {
     "name": "stderr",
     "output_type": "stream",
     "text": [
      "Recognizing layout: 100%|██████████| 1/1 [00:00<00:00,  6.08it/s]\n",
      "100%|██████████| 1/1 [00:00<00:00, 142.87it/s]\n",
      "Detecting bboxes: 100%|██████████| 1/1 [00:00<00:00,  5.02it/s]\n",
      "Recognizing Text: 100%|██████████| 1/1 [00:00<00:00,  1.38it/s]\n",
      "Recognizing equations: 0it [00:00, ?it/s]\n",
      "Detecting bboxes: 0it [00:00, ?it/s]\n",
      " 95%|█████████▌| 736/773 [07:33<00:33,  1.09it/s]"
     ]
    },
    {
     "name": "stdout",
     "output_type": "stream",
     "text": [
      "converting D:\\pdf_data\\VMC Double Flux en habitat individuel - neuf et rénovation - 3.pdf to markdown ...\n"
     ]
    },
    {
     "name": "stderr",
     "output_type": "stream",
     "text": [
      "Recognizing layout: 100%|██████████| 1/1 [00:00<00:00,  6.35it/s]\n",
      "100%|██████████| 1/1 [00:00<00:00, 133.20it/s]\n",
      "Detecting bboxes: 100%|██████████| 1/1 [00:00<00:00,  6.37it/s]\n",
      "Recognizing Text: 100%|██████████| 1/1 [00:00<00:00,  3.09it/s]\n",
      "Recognizing equations: 0it [00:00, ?it/s]\n",
      "Detecting bboxes: 0it [00:00, ?it/s]\n",
      " 95%|█████████▌| 737/773 [07:34<00:30,  1.18it/s]"
     ]
    },
    {
     "name": "stdout",
     "output_type": "stream",
     "text": [
      "converting D:\\pdf_data\\VMC Double Flux en habitat individuel - neuf et rénovation - 4.pdf to markdown ...\n"
     ]
    },
    {
     "name": "stderr",
     "output_type": "stream",
     "text": [
      "Recognizing layout: 100%|██████████| 1/1 [00:00<00:00,  6.08it/s]\n",
      "100%|██████████| 1/1 [00:00<00:00, 117.58it/s]\n",
      "Detecting bboxes: 100%|██████████| 1/1 [00:00<00:00,  5.80it/s]\n",
      "Recognizing Text: 100%|██████████| 1/1 [00:01<00:00,  1.49s/it]\n",
      "Recognizing equations: 0it [00:00, ?it/s]\n",
      "Detecting bboxes: 0it [00:00, ?it/s]\n",
      " 95%|█████████▌| 738/773 [07:36<00:40,  1.17s/it]"
     ]
    },
    {
     "name": "stdout",
     "output_type": "stream",
     "text": [
      "converting D:\\pdf_data\\VMC Double Flux en habitat individuel - neuf et rénovation - 5.pdf to markdown ...\n"
     ]
    },
    {
     "name": "stderr",
     "output_type": "stream",
     "text": [
      "Recognizing layout: 100%|██████████| 1/1 [00:00<00:00,  5.49it/s]\n",
      "100%|██████████| 1/1 [00:00<00:00, 124.96it/s]\n",
      "Detecting bboxes: 100%|██████████| 1/1 [00:00<00:00,  5.35it/s]\n",
      "Recognizing Text: 100%|██████████| 1/1 [00:00<00:00,  3.53it/s]\n",
      "Recognizing equations: 0it [00:00, ?it/s]\n",
      "Detecting bboxes: 0it [00:00, ?it/s]\n",
      " 96%|█████████▌| 739/773 [07:37<00:35,  1.04s/it]"
     ]
    },
    {
     "name": "stdout",
     "output_type": "stream",
     "text": [
      "converting D:\\pdf_data\\VMC Double Flux en habitat individuel - neuf et rénovation - 6.pdf to markdown ...\n"
     ]
    },
    {
     "name": "stderr",
     "output_type": "stream",
     "text": [
      "Recognizing layout: 100%|██████████| 1/1 [00:00<00:00,  6.10it/s]\n",
      "100%|██████████| 1/1 [00:00<00:00, 142.84it/s]\n",
      "Detecting bboxes: 100%|██████████| 1/1 [00:00<00:00,  5.39it/s]\n",
      "Recognizing Text: 100%|██████████| 1/1 [00:00<00:00,  2.18it/s]\n",
      "Recognizing equations: 0it [00:00, ?it/s]\n",
      "Detecting bboxes: 0it [00:00, ?it/s]\n",
      " 96%|█████████▌| 740/773 [07:38<00:33,  1.00s/it]"
     ]
    },
    {
     "name": "stdout",
     "output_type": "stream",
     "text": [
      "converting D:\\pdf_data\\VMC Double Flux en habitat individuel - neuf et rénovation - 7.pdf to markdown ...\n"
     ]
    },
    {
     "name": "stderr",
     "output_type": "stream",
     "text": [
      "Recognizing layout: 100%|██████████| 1/1 [00:00<00:00,  6.23it/s]\n",
      "100%|██████████| 1/1 [00:00<00:00, 111.09it/s]\n",
      "Detecting bboxes: 100%|██████████| 1/1 [00:00<00:00,  5.31it/s]\n",
      "Recognizing Text: 100%|██████████| 1/1 [00:01<00:00,  1.88s/it]\n",
      "Recognizing equations: 0it [00:00, ?it/s]\n",
      "Detecting bboxes: 0it [00:00, ?it/s]\n",
      " 96%|█████████▌| 741/773 [07:40<00:44,  1.40s/it]"
     ]
    },
    {
     "name": "stdout",
     "output_type": "stream",
     "text": [
      "converting D:\\pdf_data\\VMC Double Flux en habitat individuel - neuf et rénovation - 8.pdf to markdown ...\n"
     ]
    },
    {
     "name": "stderr",
     "output_type": "stream",
     "text": [
      "Recognizing layout: 100%|██████████| 1/1 [00:00<00:00,  6.25it/s]\n",
      "100%|██████████| 1/1 [00:00<00:00, 83.32it/s]\n",
      "Detecting bboxes: 100%|██████████| 1/1 [00:00<00:00,  5.32it/s]\n",
      "Recognizing Text: 100%|██████████| 1/1 [00:00<00:00,  3.07it/s]\n",
      "Recognizing equations: 0it [00:00, ?it/s]\n",
      "Detecting bboxes: 0it [00:00, ?it/s]\n",
      " 96%|█████████▌| 742/773 [07:41<00:37,  1.21s/it]"
     ]
    },
    {
     "name": "stdout",
     "output_type": "stream",
     "text": [
      "converting D:\\pdf_data\\VMC Double Flux en habitat individuel - neuf et rénovation - 9.pdf to markdown ...\n"
     ]
    },
    {
     "name": "stderr",
     "output_type": "stream",
     "text": [
      "Recognizing layout: 100%|██████████| 1/1 [00:00<00:00,  4.63it/s]\n",
      "100%|██████████| 1/1 [00:00<00:00, 111.19it/s]\n",
      "Detecting bboxes: 100%|██████████| 1/1 [00:00<00:00,  4.67it/s]\n",
      "Recognizing Text: 100%|██████████| 1/1 [00:00<00:00,  3.82it/s]\n",
      "Recognizing equations: 0it [00:00, ?it/s]\n",
      "Detecting bboxes: 0it [00:00, ?it/s]\n",
      " 96%|█████████▌| 743/773 [07:42<00:32,  1.08s/it]"
     ]
    },
    {
     "name": "stdout",
     "output_type": "stream",
     "text": [
      "pdf D:\\pdf_data\\VMC Double flux en habitat individuel.pdf not found, skipping ... \n",
      "pdf D:\\pdf_data\\VMC Double Flux : Intégration dans le NF DTU de ventilation mécanique.pdf not found, skipping ... \n",
      "converting D:\\pdf_data\\VMC simple et double flux - réseau aéraulique - Bonne pratique.pdf to markdown ...\n"
     ]
    },
    {
     "name": "stderr",
     "output_type": "stream",
     "text": [
      "Recognizing layout: 100%|██████████| 1/1 [00:00<00:00,  2.45it/s]\n",
      "100%|██████████| 1/1 [00:00<00:00, 90.90it/s]\n",
      "Detecting bboxes: 0it [00:00, ?it/s]\n",
      "Recognizing equations: 0it [00:00, ?it/s]\n",
      "Detecting bboxes: 0it [00:00, ?it/s]\n",
      "Recognizing tables: 100%|██████████| 1/1 [00:00<00:00,  1.64it/s]\n",
      " 97%|█████████▋| 746/773 [07:43<00:19,  1.39it/s]"
     ]
    },
    {
     "name": "stdout",
     "output_type": "stream",
     "text": [
      "converting D:\\pdf_data\\VMC simple flux - bouche d'extraction - Non qualité.pdf to markdown ...\n"
     ]
    },
    {
     "name": "stderr",
     "output_type": "stream",
     "text": [
      "Recognizing layout: 100%|██████████| 1/1 [00:00<00:00,  2.49it/s]\n",
      "100%|██████████| 1/1 [00:00<00:00, 125.01it/s]\n",
      "Detecting bboxes: 0it [00:00, ?it/s]\n",
      "Recognizing equations: 0it [00:00, ?it/s]\n",
      "Detecting bboxes: 0it [00:00, ?it/s]\n",
      "Recognizing tables: 100%|██████████| 1/1 [00:00<00:00,  1.60it/s]\n",
      " 97%|█████████▋| 747/773 [07:44<00:21,  1.19it/s]"
     ]
    },
    {
     "name": "stdout",
     "output_type": "stream",
     "text": [
      "converting D:\\pdf_data\\VMC simple flux - caisson d'extraction - Bonne pratique.pdf to markdown ...\n"
     ]
    },
    {
     "name": "stderr",
     "output_type": "stream",
     "text": [
      "Recognizing layout: 100%|██████████| 1/1 [00:00<00:00,  2.11it/s]\n",
      "100%|██████████| 1/1 [00:00<00:00, 82.82it/s]\n",
      "Detecting bboxes: 0it [00:00, ?it/s]\n",
      "Recognizing equations: 0it [00:00, ?it/s]\n",
      "Detecting bboxes: 0it [00:00, ?it/s]\n",
      "Recognizing tables: 100%|██████████| 1/1 [00:00<00:00,  1.74it/s]\n",
      " 97%|█████████▋| 748/773 [07:46<00:24,  1.04it/s]"
     ]
    },
    {
     "name": "stdout",
     "output_type": "stream",
     "text": [
      "converting D:\\pdf_data\\VMC simple flux - caisson d'extraction - Non Qualité.pdf to markdown ...\n"
     ]
    },
    {
     "name": "stderr",
     "output_type": "stream",
     "text": [
      "Recognizing layout: 100%|██████████| 1/1 [00:00<00:00,  2.13it/s]\n",
      "100%|██████████| 1/1 [00:00<00:00, 142.83it/s]\n",
      "Detecting bboxes: 0it [00:00, ?it/s]\n",
      "Recognizing equations: 0it [00:00, ?it/s]\n",
      "Detecting bboxes: 0it [00:00, ?it/s]\n",
      "Recognizing tables: 100%|██████████| 1/1 [00:00<00:00,  1.84it/s]\n",
      " 97%|█████████▋| 749/773 [07:47<00:25,  1.05s/it]"
     ]
    },
    {
     "name": "stdout",
     "output_type": "stream",
     "text": [
      "converting D:\\pdf_data\\VMC simple flux - entrée d'air - Bonne pratique.pdf to markdown ...\n"
     ]
    },
    {
     "name": "stderr",
     "output_type": "stream",
     "text": [
      "Recognizing layout: 100%|██████████| 1/1 [00:00<00:00,  1.46it/s]\n",
      "100%|██████████| 1/1 [00:00<00:00, 166.35it/s]\n",
      "Detecting bboxes: 0it [00:00, ?it/s]\n",
      "Recognizing equations: 0it [00:00, ?it/s]\n",
      "Detecting bboxes: 0it [00:00, ?it/s]\n",
      "Recognizing tables: 100%|██████████| 1/1 [00:00<00:00,  2.40it/s]\n",
      " 97%|█████████▋| 750/773 [07:48<00:25,  1.12s/it]"
     ]
    },
    {
     "name": "stdout",
     "output_type": "stream",
     "text": [
      "converting D:\\pdf_data\\VMC simple flux - entrée d'air - NON QUALITE.pdf to markdown ...\n"
     ]
    },
    {
     "name": "stderr",
     "output_type": "stream",
     "text": [
      "Recognizing layout: 100%|██████████| 1/1 [00:00<00:00,  1.39it/s]\n",
      "100%|██████████| 1/1 [00:00<00:00, 95.10it/s]\n",
      "Detecting bboxes: 0it [00:00, ?it/s]\n",
      "Recognizing equations: 0it [00:00, ?it/s]\n",
      "Detecting bboxes: 0it [00:00, ?it/s]\n",
      "Recognizing tables: 100%|██████████| 1/1 [00:00<00:00,  2.95it/s]\n",
      " 97%|█████████▋| 751/773 [07:50<00:26,  1.20s/it]"
     ]
    },
    {
     "name": "stdout",
     "output_type": "stream",
     "text": [
      "converting D:\\pdf_data\\VMC simple flux - entrée d'air - Non qualité.pdf to markdown ...\n"
     ]
    },
    {
     "name": "stderr",
     "output_type": "stream",
     "text": [
      "Recognizing layout: 100%|██████████| 1/1 [00:00<00:00,  1.62it/s]\n",
      "100%|██████████| 1/1 [00:00<00:00, 90.93it/s]\n",
      "Detecting bboxes: 0it [00:00, ?it/s]\n",
      "Recognizing equations: 0it [00:00, ?it/s]\n",
      "Detecting bboxes: 0it [00:00, ?it/s]\n",
      "Recognizing tables: 100%|██████████| 1/1 [00:00<00:00,  2.54it/s]\n",
      " 97%|█████████▋| 752/773 [07:51<00:25,  1.22s/it]"
     ]
    },
    {
     "name": "stdout",
     "output_type": "stream",
     "text": [
      "converting D:\\pdf_data\\VMC simple flux - grille d'extraction - Non qualité.pdf to markdown ...\n"
     ]
    },
    {
     "name": "stderr",
     "output_type": "stream",
     "text": [
      "Recognizing layout: 100%|██████████| 1/1 [00:00<00:00,  3.85it/s]\n",
      "100%|██████████| 1/1 [00:00<00:00, 55.56it/s]\n",
      "Detecting bboxes: 0it [00:00, ?it/s]\n",
      "Recognizing equations: 0it [00:00, ?it/s]\n",
      "Detecting bboxes: 0it [00:00, ?it/s]\n",
      "Recognizing tables: 100%|██████████| 1/1 [00:00<00:00,  1.59it/s]\n",
      " 97%|█████████▋| 753/773 [07:52<00:24,  1.20s/it]"
     ]
    },
    {
     "name": "stdout",
     "output_type": "stream",
     "text": [
      "converting D:\\pdf_data\\VMC simple flux - Passage de transit - Bonne pratique.pdf to markdown ...\n"
     ]
    },
    {
     "name": "stderr",
     "output_type": "stream",
     "text": [
      "Recognizing layout: 100%|██████████| 1/1 [00:00<00:00,  3.35it/s]\n",
      "100%|██████████| 1/1 [00:00<00:00, 117.49it/s]\n",
      "Detecting bboxes: 0it [00:00, ?it/s]\n",
      "Recognizing equations: 0it [00:00, ?it/s]\n",
      "Detecting bboxes: 0it [00:00, ?it/s]\n",
      "Recognizing tables: 100%|██████████| 1/1 [00:00<00:00,  3.23it/s]\n",
      " 98%|█████████▊| 754/773 [07:53<00:21,  1.12s/it]"
     ]
    },
    {
     "name": "stdout",
     "output_type": "stream",
     "text": [
      "converting D:\\pdf_data\\VMC simple flux - rejet d'air vicié - BONNE PRATIQUE.pdf to markdown ...\n"
     ]
    },
    {
     "name": "stderr",
     "output_type": "stream",
     "text": [
      "Recognizing layout: 100%|██████████| 1/1 [00:00<00:00,  1.51it/s]\n",
      "100%|██████████| 1/1 [00:00<00:00, 125.00it/s]\n",
      "Detecting bboxes: 0it [00:00, ?it/s]\n",
      "Recognizing equations: 0it [00:00, ?it/s]\n",
      "Detecting bboxes: 0it [00:00, ?it/s]\n",
      "Recognizing tables: 100%|██████████| 1/1 [00:00<00:00,  2.66it/s]\n",
      " 98%|█████████▊| 755/773 [07:54<00:21,  1.19s/it]"
     ]
    },
    {
     "name": "stdout",
     "output_type": "stream",
     "text": [
      "converting D:\\pdf_data\\VMC simple flux - rejet d'air vicié - NON QUALITE.pdf to markdown ...\n"
     ]
    },
    {
     "name": "stderr",
     "output_type": "stream",
     "text": [
      "Recognizing layout: 100%|██████████| 1/1 [00:00<00:00,  1.40it/s]\n",
      "100%|██████████| 1/1 [00:00<00:00, 111.18it/s]\n",
      "Detecting bboxes: 0it [00:00, ?it/s]\n",
      "Recognizing equations: 0it [00:00, ?it/s]\n",
      "Detecting bboxes: 0it [00:00, ?it/s]\n",
      "Recognizing tables: 100%|██████████| 1/1 [00:00<00:00,  2.46it/s]\n",
      " 98%|█████████▊| 756/773 [07:56<00:21,  1.26s/it]"
     ]
    },
    {
     "name": "stdout",
     "output_type": "stream",
     "text": [
      "converting D:\\pdf_data\\VMC simple flux - Réseau aéraulique - Bonne pratique.pdf to markdown ...\n"
     ]
    },
    {
     "name": "stderr",
     "output_type": "stream",
     "text": [
      "Recognizing layout: 100%|██████████| 1/1 [00:00<00:00,  1.48it/s]\n",
      "100%|██████████| 1/1 [00:00<00:00, 71.43it/s]\n",
      "Detecting bboxes: 0it [00:00, ?it/s]\n",
      "Recognizing equations: 0it [00:00, ?it/s]\n",
      "Detecting bboxes: 0it [00:00, ?it/s]\n",
      "Recognizing tables: 100%|██████████| 1/1 [00:00<00:00,  2.54it/s]\n",
      " 98%|█████████▊| 757/773 [07:57<00:20,  1.29s/it]"
     ]
    },
    {
     "name": "stdout",
     "output_type": "stream",
     "text": [
      "converting D:\\pdf_data\\VMC simple flux - Réseau aéraulique - Non qualité.pdf to markdown ...\n"
     ]
    },
    {
     "name": "stderr",
     "output_type": "stream",
     "text": [
      "Recognizing layout: 100%|██████████| 1/1 [00:00<00:00,  1.93it/s]\n",
      "100%|██████████| 1/1 [00:00<00:00, 111.15it/s]\n",
      "Detecting bboxes: 0it [00:00, ?it/s]\n",
      "Recognizing equations: 0it [00:00, ?it/s]\n",
      "Detecting bboxes: 0it [00:00, ?it/s]\n",
      "Recognizing tables: 100%|██████████| 1/1 [00:00<00:00,  2.48it/s]\n",
      " 98%|█████████▊| 758/773 [07:58<00:19,  1.27s/it]"
     ]
    },
    {
     "name": "stdout",
     "output_type": "stream",
     "text": [
      "converting D:\\pdf_data\\VMC simple flux - unité de ventilation - NON QUALITE.pdf to markdown ...\n"
     ]
    },
    {
     "name": "stderr",
     "output_type": "stream",
     "text": [
      "Recognizing layout: 100%|██████████| 1/1 [00:00<00:00,  1.92it/s]\n",
      "100%|██████████| 1/1 [00:00<00:00, 124.98it/s]\n",
      "Detecting bboxes: 0it [00:00, ?it/s]\n",
      "Recognizing equations: 0it [00:00, ?it/s]\n",
      "Detecting bboxes: 0it [00:00, ?it/s]\n",
      "Recognizing tables: 100%|██████████| 1/1 [00:00<00:00,  2.50it/s]\n",
      " 98%|█████████▊| 759/773 [08:00<00:17,  1.26s/it]"
     ]
    },
    {
     "name": "stdout",
     "output_type": "stream",
     "text": [
      "converting D:\\pdf_data\\VMC simple ou double flux  - bouche d'extraction - Non qualité.pdf to markdown ...\n"
     ]
    },
    {
     "name": "stderr",
     "output_type": "stream",
     "text": [
      "Recognizing layout: 100%|██████████| 1/1 [00:00<00:00,  1.88it/s]\n",
      "100%|██████████| 1/1 [00:00<00:00, 125.03it/s]\n",
      "Detecting bboxes: 0it [00:00, ?it/s]\n",
      "Recognizing equations: 0it [00:00, ?it/s]\n",
      "Detecting bboxes: 0it [00:00, ?it/s]\n",
      "Recognizing tables: 100%|██████████| 1/1 [00:00<00:00,  2.42it/s]\n",
      " 98%|█████████▊| 760/773 [08:01<00:16,  1.26s/it]"
     ]
    },
    {
     "name": "stdout",
     "output_type": "stream",
     "text": [
      "converting D:\\pdf_data\\VMC simple ou double flux - bouche d'extraction - Bonne pratique.pdf to markdown ...\n"
     ]
    },
    {
     "name": "stderr",
     "output_type": "stream",
     "text": [
      "Recognizing layout: 100%|██████████| 1/1 [00:00<00:00,  2.25it/s]\n",
      "100%|██████████| 1/1 [00:00<00:00, 124.88it/s]\n",
      "Detecting bboxes: 0it [00:00, ?it/s]\n",
      "Recognizing equations: 0it [00:00, ?it/s]\n",
      "Detecting bboxes: 0it [00:00, ?it/s]\n",
      "Recognizing tables: 100%|██████████| 1/1 [00:00<00:00,  1.48it/s]\n",
      " 98%|█████████▊| 761/773 [08:02<00:15,  1.31s/it]"
     ]
    },
    {
     "name": "stdout",
     "output_type": "stream",
     "text": [
      "converting D:\\pdf_data\\VMC simple ou double flux - bouche d'extraction - Non qualité.pdf to markdown ...\n"
     ]
    },
    {
     "name": "stderr",
     "output_type": "stream",
     "text": [
      "Recognizing layout: 100%|██████████| 1/1 [00:00<00:00,  2.69it/s]\n",
      "100%|██████████| 1/1 [00:00<00:00, 142.79it/s]\n",
      "Detecting bboxes: 0it [00:00, ?it/s]\n",
      "Recognizing equations: 0it [00:00, ?it/s]\n",
      "Detecting bboxes: 0it [00:00, ?it/s]\n",
      "Recognizing tables: 100%|██████████| 1/1 [00:00<00:00,  2.03it/s]\n",
      " 99%|█████████▊| 762/773 [08:03<00:13,  1.24s/it]"
     ]
    },
    {
     "name": "stdout",
     "output_type": "stream",
     "text": [
      "converting D:\\pdf_data\\VMC simple ou double flux - conduit aéraulique - Non qualité.pdf to markdown ...\n"
     ]
    },
    {
     "name": "stderr",
     "output_type": "stream",
     "text": [
      "Recognizing layout: 100%|██████████| 1/1 [00:00<00:00,  2.28it/s]\n",
      "100%|██████████| 1/1 [00:00<00:00, 142.57it/s]\n",
      "Detecting bboxes: 0it [00:00, ?it/s]\n",
      "Recognizing equations: 0it [00:00, ?it/s]\n",
      "Detecting bboxes: 0it [00:00, ?it/s]\n",
      "Recognizing tables: 100%|██████████| 1/1 [00:00<00:00,  1.36it/s]\n",
      " 99%|█████████▊| 763/773 [08:05<00:13,  1.31s/it]"
     ]
    },
    {
     "name": "stdout",
     "output_type": "stream",
     "text": [
      "converting D:\\pdf_data\\VMC simple ou double flux - Réseau aéraulique - Non qualité.pdf to markdown ...\n"
     ]
    },
    {
     "name": "stderr",
     "output_type": "stream",
     "text": [
      "Recognizing layout: 100%|██████████| 1/1 [00:00<00:00,  2.96it/s]\n",
      "100%|██████████| 1/1 [00:00<00:00, 76.91it/s]\n",
      "Detecting bboxes: 0it [00:00, ?it/s]\n",
      "Recognizing equations: 0it [00:00, ?it/s]\n",
      "Detecting bboxes: 0it [00:00, ?it/s]\n",
      "Recognizing tables: 100%|██████████| 1/1 [00:00<00:00,  1.86it/s]\n",
      " 99%|█████████▉| 764/773 [08:06<00:11,  1.26s/it]"
     ]
    },
    {
     "name": "stdout",
     "output_type": "stream",
     "text": [
      "converting D:\\pdf_data\\Volume tampon PAC.pdf to markdown ...\n"
     ]
    },
    {
     "name": "stderr",
     "output_type": "stream",
     "text": [
      "Recognizing layout: 100%|██████████| 1/1 [00:00<00:00,  5.36it/s]\n",
      "100%|██████████| 1/1 [00:00<00:00, 125.09it/s]\n",
      "Detecting bboxes: 100%|██████████| 1/1 [00:00<00:00,  5.35it/s]\n",
      "Recognizing Text: 100%|██████████| 1/1 [00:00<00:00,  2.74it/s]\n",
      "Recognizing equations: 0it [00:00, ?it/s]\n",
      "Detecting bboxes: 0it [00:00, ?it/s]\n",
      " 99%|█████████▉| 765/773 [08:07<00:08,  1.12s/it]"
     ]
    },
    {
     "name": "stdout",
     "output_type": "stream",
     "text": [
      "converting D:\\pdf_data\\Vous allez changer changer vos fenêtres, voici quelques conseils.pdf to markdown ...\n"
     ]
    },
    {
     "name": "stderr",
     "output_type": "stream",
     "text": [
      "Recognizing layout: 100%|██████████| 1/1 [00:01<00:00,  1.59s/it]\n",
      "100%|██████████| 1/1 [00:00<00:00, 52.44it/s]\n",
      "Detecting bboxes: 0it [00:00, ?it/s]\n",
      "Recognizing equations: 0it [00:00, ?it/s]\n",
      "Detecting bboxes: 100%|██████████| 1/1 [00:00<00:00,  4.76it/s]\n",
      "Recognizing Text: 100%|██████████| 1/1 [00:02<00:00,  2.16s/it]\n",
      "Recognizing tables: 100%|██████████| 1/1 [00:01<00:00,  1.16s/it]\n",
      " 99%|█████████▉| 766/773 [08:15<00:22,  3.27s/it]"
     ]
    },
    {
     "name": "stdout",
     "output_type": "stream",
     "text": [
      "converting D:\\pdf_data\\Végétalisation et bâtiments en climat tropical - 12 enseignements à connaître.pdf to markdown ...\n"
     ]
    },
    {
     "name": "stderr",
     "output_type": "stream",
     "text": [
      "Recognizing layout: 100%|██████████| 5/5 [00:05<00:00,  1.11s/it]\n",
      "100%|██████████| 5/5 [00:00<00:00, 53.72it/s]\n",
      "Detecting bboxes: 0it [00:00, ?it/s]\n",
      "Recognizing equations: 0it [00:00, ?it/s]\n",
      "Detecting bboxes: 0it [00:00, ?it/s]\n",
      "Recognizing tables: 100%|██████████| 1/1 [00:00<00:00,  1.66it/s]\n",
      " 99%|█████████▉| 767/773 [08:32<00:44,  7.35s/it]"
     ]
    },
    {
     "name": "stdout",
     "output_type": "stream",
     "text": [
      "converting D:\\pdf_data\\Végétalisation protégeant l’espace de circulation.pdf to markdown ...\n"
     ]
    },
    {
     "name": "stderr",
     "output_type": "stream",
     "text": [
      "Recognizing layout: 100%|██████████| 1/1 [00:01<00:00,  1.12s/it]\n",
      "100%|██████████| 1/1 [00:00<00:00, 36.30it/s]\n",
      "Detecting bboxes: 0it [00:00, ?it/s]\n",
      "Recognizing equations: 0it [00:00, ?it/s]\n",
      "Detecting bboxes: 0it [00:00, ?it/s]\n",
      " 99%|█████████▉| 768/773 [08:33<00:28,  5.62s/it]"
     ]
    },
    {
     "name": "stdout",
     "output_type": "stream",
     "text": [
      "converting D:\\pdf_data\\Végétation et bardage bonne pratique.pdf to markdown ...\n"
     ]
    },
    {
     "name": "stderr",
     "output_type": "stream",
     "text": [
      "Recognizing layout: 100%|██████████| 1/1 [00:00<00:00,  1.36it/s]\n",
      "100%|██████████| 1/1 [00:00<00:00, 143.18it/s]\n",
      "Detecting bboxes: 0it [00:00, ?it/s]\n",
      "Recognizing equations: 0it [00:00, ?it/s]\n",
      "Detecting bboxes: 0it [00:00, ?it/s]\n",
      " 99%|█████████▉| 769/773 [08:35<00:16,  4.24s/it]"
     ]
    },
    {
     "name": "stdout",
     "output_type": "stream",
     "text": [
      "converting D:\\pdf_data\\Végétation et bardage.pdf to markdown ...\n"
     ]
    },
    {
     "name": "stderr",
     "output_type": "stream",
     "text": [
      "Recognizing layout: 100%|██████████| 1/1 [00:00<00:00,  1.38it/s]\n",
      "100%|██████████| 1/1 [00:00<00:00, 124.72it/s]\n",
      "Detecting bboxes: 0it [00:00, ?it/s]\n",
      "Recognizing equations: 0it [00:00, ?it/s]\n",
      "Detecting bboxes: 0it [00:00, ?it/s]\n",
      "100%|█████████▉| 770/773 [08:36<00:09,  3.27s/it]"
     ]
    },
    {
     "name": "stdout",
     "output_type": "stream",
     "text": [
      "converting D:\\pdf_data\\Végétation maîtrisée et entretenue.pdf to markdown ...\n"
     ]
    },
    {
     "name": "stderr",
     "output_type": "stream",
     "text": [
      "Recognizing layout: 100%|██████████| 1/1 [00:01<00:00,  1.03s/it]\n",
      "100%|██████████| 1/1 [00:00<00:00, 28.16it/s]\n",
      "Detecting bboxes: 0it [00:00, ?it/s]\n",
      "Recognizing equations: 0it [00:00, ?it/s]\n",
      "Detecting bboxes: 0it [00:00, ?it/s]\n",
      "100%|█████████▉| 771/773 [08:37<00:05,  2.73s/it]"
     ]
    },
    {
     "name": "stdout",
     "output_type": "stream",
     "text": [
      "converting D:\\pdf_data\\Évacuation des condensats dans le réseau d'évacuation du bâtiment.pdf to markdown ...\n"
     ]
    },
    {
     "name": "stderr",
     "output_type": "stream",
     "text": [
      "Recognizing layout: 100%|██████████| 1/1 [00:00<00:00,  4.20it/s]\n",
      "100%|██████████| 1/1 [00:00<00:00, 142.89it/s]\n",
      "Detecting bboxes: 100%|██████████| 1/1 [00:00<00:00,  5.18it/s]\n",
      "Recognizing Text: 100%|██████████| 1/1 [00:00<00:00,  2.17it/s]\n",
      "Recognizing equations: 0it [00:00, ?it/s]\n",
      "Detecting bboxes: 0it [00:00, ?it/s]\n",
      "100%|█████████▉| 772/773 [08:38<00:02,  2.20s/it]"
     ]
    },
    {
     "name": "stdout",
     "output_type": "stream",
     "text": [
      "converting D:\\pdf_data\\Évacuation des condensats.pdf to markdown ...\n"
     ]
    },
    {
     "name": "stderr",
     "output_type": "stream",
     "text": [
      "Recognizing layout: 100%|██████████| 1/1 [00:00<00:00,  6.43it/s]\n",
      "100%|██████████| 1/1 [00:00<00:00, 111.08it/s]\n",
      "Detecting bboxes: 100%|██████████| 1/1 [00:00<00:00,  5.43it/s]\n",
      "Recognizing Text: 100%|██████████| 1/1 [00:00<00:00,  2.95it/s]\n",
      "Recognizing equations: 0it [00:00, ?it/s]\n",
      "Detecting bboxes: 0it [00:00, ?it/s]\n",
      "100%|██████████| 773/773 [08:39<00:00,  1.49it/s]\n"
     ]
    }
   ],
   "source": [
    "for m in tqdm(metadata):\n",
    "    transform_pdf_to_markdown(converter,m)"
   ]
  }
 ],
 "metadata": {
  "kernelspec": {
   "display_name": "ds_env",
   "language": "python",
   "name": "python3"
  },
  "language_info": {
   "codemirror_mode": {
    "name": "ipython",
    "version": 3
   },
   "file_extension": ".py",
   "mimetype": "text/x-python",
   "name": "python",
   "nbconvert_exporter": "python",
   "pygments_lexer": "ipython3",
   "version": "3.10.16"
  }
 },
 "nbformat": 4,
 "nbformat_minor": 2
}
