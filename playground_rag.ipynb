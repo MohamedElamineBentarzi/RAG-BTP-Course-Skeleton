{
 "cells": [
  {
   "cell_type": "code",
   "execution_count": 8,
   "metadata": {},
   "outputs": [],
   "source": [
    "from neo4j import GraphDatabase\n",
    "from qdrant_client import QdrantClient\n",
    "from qdrant_client.models import PointStruct, VectorParams, Distance\n",
    "import pandas as pd\n",
    "from sentence_transformers import SentenceTransformer\n",
    "from tqdm import tqdm\n"
   ]
  },
  {
   "cell_type": "code",
   "execution_count": 2,
   "metadata": {},
   "outputs": [],
   "source": [
    "\n",
    "driver = GraphDatabase.driver(\"bolt://localhost:7687\", auth=(\"neo4j\", \"12345678\"))\n",
    "\n",
    "def get_related_keywords(keyword):\n",
    "    query = \"\"\"\n",
    "    MATCH (n)\n",
    "    WHERE toLower(n.name) CONTAINS toLower($keyword)\n",
    "    MATCH (n)--(related)\n",
    "    RETURN DISTINCT related.name AS keyword, labels(related) AS type\n",
    "    \"\"\"\n",
    "    with driver.session() as session:\n",
    "        result = session.run(query, keyword=keyword)\n",
    "        return [record[\"keyword\"] for record in result]\n",
    "\n"
   ]
  },
  {
   "cell_type": "code",
   "execution_count": null,
   "metadata": {},
   "outputs": [],
   "source": [
    "print(get_related_keywords(\"chauffage\"))"
   ]
  },
  {
   "cell_type": "code",
   "execution_count": null,
   "metadata": {},
   "outputs": [],
   "source": [
    "df = pd.read_csv(\"CHUNKS\\\\file_chunks.csv\") \n",
    "model = SentenceTransformer(\"dangvantuan/sentence-camembert-base\")\n",
    "\n",
    "# Let's quickly check the embedding dimension:\n",
    "dummy_vector = model.encode(\"texte de test\")\n",
    "dim = len(dummy_vector)  # This will be used in Qdrant's vector params\n",
    "print(f\"Embedding dimension: {dim}\")"
   ]
  },
  {
   "cell_type": "code",
   "execution_count": null,
   "metadata": {},
   "outputs": [],
   "source": [
    "# Adjust host/port if Qdrant is elsewhere:\n",
    "client = QdrantClient(url=\"http://localhost:6333\")  # or QdrantClient(\"localhost\", port=6333)\n",
    "\n",
    "# Create or recreate a collection\n",
    "collection_name = \"PROJET_RCRA2\"\n",
    "client.recreate_collection(\n",
    "    collection_name=collection_name,\n",
    "    vectors_config=VectorParams(size=dim, distance=Distance.COSINE)\n",
    ")\n",
    "\n",
    "# Now, embed and upsert each CSV chunk as a separate point in Qdrant\n",
    "points_to_upsert = []\n",
    "for idx, row in tqdm(df.iterrows()):\n",
    "    text_chunk = row[\"chunk\"]\n",
    "    file_id = row[\"file\"]  # might be useful metadata\n",
    "    vector = model.encode(text_chunk)\n",
    "\n",
    "    # Create a unique ID for each chunk row\n",
    "    point_id = idx  \n",
    "    payload = {\n",
    "        \"file\": file_id, \n",
    "        \"chunk\": text_chunk\n",
    "    }\n",
    "\n",
    "    # Construct a PointStruct\n",
    "    points_to_upsert.append(\n",
    "        PointStruct(\n",
    "            id=point_id,\n",
    "            vector=vector.tolist(),\n",
    "            payload=payload\n",
    "        )\n",
    "    )"
   ]
  },
  {
   "cell_type": "code",
   "execution_count": null,
   "metadata": {},
   "outputs": [],
   "source": [
    "BATCH_SIZE = 100  # you can tweak this\n",
    "\n",
    "for i in range(0, len(points_to_upsert), BATCH_SIZE):\n",
    "    batch = points_to_upsert[i:i + BATCH_SIZE]\n",
    "    client.upsert(\n",
    "        collection_name=collection_name,\n",
    "        points=batch\n",
    "    )\n",
    "    print(f\"✅ Uploaded batch {i} to {i + len(batch)}\")\n"
   ]
  },
  {
   "cell_type": "code",
   "execution_count": 12,
   "metadata": {},
   "outputs": [],
   "source": [
    "def expand_query_with_neo4j(user_query):\n",
    "    \"\"\"\n",
    "    Naive approach: split user query into tokens \n",
    "    and gather related keywords from Neo4j.\n",
    "    \"\"\"\n",
    "    tokens = user_query.lower().split()\n",
    "    all_expanded = set()\n",
    "    for token in tokens:\n",
    "        expansions = get_related_keywords(token)\n",
    "        all_expanded.update(expansions)\n",
    "    return list(all_expanded)\n"
   ]
  },
  {
   "cell_type": "code",
   "execution_count": 13,
   "metadata": {},
   "outputs": [],
   "source": [
    "def retrieve_relevant_chunks(user_query, expansions, top_k=5):\n",
    "    \"\"\"\n",
    "    - Combine the user query with expansions\n",
    "    - Embed once\n",
    "    - Query Qdrant for the top_k most similar chunks\n",
    "    \"\"\"\n",
    "    if expansions:\n",
    "        expansion_text = \" \".join(expansions)\n",
    "        augmented_text = user_query + \" \" + expansion_text\n",
    "    else:\n",
    "        augmented_text = user_query\n",
    "    \n",
    "    query_vector = model.encode(augmented_text)\n",
    "\n",
    "    # Qdrant query\n",
    "    results = client.query_points(\n",
    "        collection_name=collection_name,\n",
    "        query=query_vector.tolist(),\n",
    "        limit=top_k\n",
    "    )\n",
    "    \n",
    "    # 'results' will be a list of ScoredPoint objects\n",
    "    # Each contains 'payload' (with our stored chunk)\n",
    "    return results\n"
   ]
  },
  {
   "cell_type": "code",
   "execution_count": null,
   "metadata": {},
   "outputs": [],
   "source": [
    "def expand_query(user_query, top_k=5):\n",
    "    # 1) Expand user query with Neo4j\n",
    "    expansions = expand_query_with_neo4j(user_query)\n",
    "    # 2) Retrieve relevant chunks from Qdrant\n",
    "    docs = retrieve_relevant_chunks(user_query, expansions, top_k=top_k)\n",
    "    context_text = \"\"\n",
    "    for doc in docs:\n",
    "        payload = doc[1][0].payload\n",
    "        context_text += f\"Fichier: {payload['file']}\\nChunk: {payload['chunk']}\\n\\n\"\n",
    "    full_prompt = f\"\"\"\n",
    "    CONTEXTE:\n",
    "    {context_text}\n",
    "\n",
    "    QUESTION UTILISATEUR:\n",
    "    {user_query}\n",
    "\n",
    "    RÉPONSE ATTENDUE (en utilisant uniquement les informations ci-dessus) :\n",
    "    \"\"\"\n",
    "    return full_prompt\n"
   ]
  },
  {
   "cell_type": "code",
   "execution_count": 32,
   "metadata": {},
   "outputs": [
    {
     "name": "stdout",
     "output_type": "stream",
     "text": [
      "['Ventilation', 'Chauffage', 'Isolation thermique', \"Membrane d'étanchéité\", 'Chauffe-eau thermodynamique', 'RE2020', 'VMC double flux', 'Pompe à chaleur', 'Plancher chauffant', 'Énergie renouvelable']\n"
     ]
    }
   ],
   "source": [
    "query = \"Quels sont les avantages d’utiliser une pompe à chaleur avec un plancher chauffant ?\"\n",
    "query = expand_query(query, top_k=3)"
   ]
  },
  {
   "cell_type": "code",
   "execution_count": 28,
   "metadata": {},
   "outputs": [],
   "source": [
    "import requests\n",
    "\n",
    "def query_ollama(prompt, model=\"llama3.2\"):\n",
    "    response = requests.post(\n",
    "        \"http://localhost:11434/api/generate\",\n",
    "        json={\n",
    "            \"model\": model,\n",
    "            \"prompt\": prompt,\n",
    "            \"stream\": False  # you can use True if you want streamed responses\n",
    "        }\n",
    "    )\n",
    "    data = response.json()\n",
    "    return data[\"response\"]\n",
    "\n",
    "\n"
   ]
  },
  {
   "cell_type": "code",
   "execution_count": 30,
   "metadata": {},
   "outputs": [
    {
     "name": "stdout",
     "output_type": "stream",
     "text": [
      "Les avantages de l'utilisation d'une pompe à chaleur avec un plancher chauffant sont :\n",
      "\n",
      "1. Chauffage thermodynamique basse température : Cette technologie permet un chauffage efficace et respectueux de l'environnement, en utilisant les énergies renouvelables pour chauffer le plancher.\n",
      "2. Suppression du bouclage ECS (Équilibreur de Charge Solaire) : En utilisant une pompe à chaleur avec un plancher chauffant, il n'est pas nécessaire d'installer un système de bouclage ECS, ce qui réduit les coûts et l'importance des déchets thermiques.\n",
      "3. Économie d'énergie : Le chauffage basse température peut réduire la consommation d'énergie pour chauffer le plancher, ce qui peut entraîner une réduction des factures de gaz ou d'électricité.\n",
      "4. Sécurité et confort : L'utilisation d'une pompe à chaleur avec un plancher chauffant peut améliorer la sécurité et le confort dans les bâtiments, en particulier pour les personnes âgées ou handicapées.\n",
      "5. Double ou triple service : Cette technologie permet de fournir plusieurs services (chauffage, éclairage et climatisation) à partir d'un même système, ce qui peut réduire la complexité du système et améliorer l'efficacité énergétique.\n",
      "\n",
      "Il est important de noter que ces avantages sont étayés par les informations fournies dans le fichier \"La Pompe à chaleur, des solutions disponibles en habitat collectif.md\".\n"
     ]
    }
   ],
   "source": [
    "\n",
    "result = query_ollama(query)\n",
    "print(result)"
   ]
  }
 ],
 "metadata": {
  "kernelspec": {
   "display_name": "ds_env",
   "language": "python",
   "name": "python3"
  },
  "language_info": {
   "codemirror_mode": {
    "name": "ipython",
    "version": 3
   },
   "file_extension": ".py",
   "mimetype": "text/x-python",
   "name": "python",
   "nbconvert_exporter": "python",
   "pygments_lexer": "ipython3",
   "version": "3.10.16"
  }
 },
 "nbformat": 4,
 "nbformat_minor": 2
}
